{
  "nbformat": 4,
  "nbformat_minor": 0,
  "metadata": {
    "colab": {
      "name": "Untitled9.ipynb",
      "provenance": [],
      "authorship_tag": "ABX9TyPN4JDbypgdACUOELXr1v/v",
      "include_colab_link": true
    },
    "kernelspec": {
      "name": "python3",
      "display_name": "Python 3"
    }
  },
  "cells": [
    {
      "cell_type": "markdown",
      "metadata": {
        "id": "view-in-github",
        "colab_type": "text"
      },
      "source": [
        "<a href=\"https://colab.research.google.com/github/vivekkchandra/CE888Assignment/blob/master/PostAssignment1.ipynb\" target=\"_parent\"><img src=\"https://colab.research.google.com/assets/colab-badge.svg\" alt=\"Open In Colab\"/></a>"
      ]
    },
    {
      "cell_type": "code",
      "metadata": {
        "id": "xQM83B3vq-Da",
        "colab_type": "code",
        "colab": {}
      },
      "source": [
        "import seaborn as sns\n",
        "import numpy as np\n",
        "import pandas as pd\n",
        "import matplotlib.pyplot as plt\n",
        "from sklearn.preprocessing import LabelEncoder"
      ],
      "execution_count": 0,
      "outputs": []
    },
    {
      "cell_type": "code",
      "metadata": {
        "id": "0_2HKcLLtl-f",
        "colab_type": "code",
        "colab": {}
      },
      "source": [
        "africadf = pd.read_csv('https://raw.githubusercontent.com/vivekkchandra/CE888Assignment/master/Assignment2/Data/africa_recession.csv', sep=',', quotechar='\"')\n",
        "\n",
        "insurancedf = pd.read_csv('https://raw.githubusercontent.com/vivekkchandra/CE888Assignment/master/Assignment2/Data/insurance80.csv', sep=',', quotechar='\"')\n",
        "\n",
        "choicedf = pd.read_csv('https://raw.githubusercontent.com/vivekkchandra/CE888Assignment/master/Assignment2/Data/ContraceptiveMethodChoiceDataSet.csv',names=['Wife Age','Wife Education','Husband Education','Number of Children','Wife religion','Wife working','Husband Occupation','SOLI','Media Exposure','Contraceptive Method'] ,sep=',', quotechar='\"')\n"
      ],
      "execution_count": 0,
      "outputs": []
    },
    {
      "cell_type": "code",
      "metadata": {
        "id": "AyH8699Pu60V",
        "colab_type": "code",
        "colab": {}
      },
      "source": [
        "print(africadf)"
      ],
      "execution_count": 0,
      "outputs": []
    },
    {
      "cell_type": "code",
      "metadata": {
        "id": "26HMPNzIvAxG",
        "colab_type": "code",
        "colab": {}
      },
      "source": [
        "africadf.info()"
      ],
      "execution_count": 0,
      "outputs": []
    },
    {
      "cell_type": "markdown",
      "metadata": {
        "id": "xYFuQTLnvqPw",
        "colab_type": "text"
      },
      "source": [
        "Add ID"
      ]
    },
    {
      "cell_type": "code",
      "metadata": {
        "id": "2Z6XjBecvrxY",
        "colab_type": "code",
        "colab": {
          "base_uri": "https://localhost:8080/",
          "height": 252
        },
        "outputId": "5a3103d5-12e3-47eb-afd8-52d36d0cbee3"
      },
      "source": [
        "countryID=np.array(range(len(africadf)))\n",
        "\n",
        "africadf['CountryID']=countryID\n",
        "\n",
        "print(africadf)"
      ],
      "execution_count": 6,
      "outputs": [
        {
          "output_type": "stream",
          "text": [
            "           pop        emp  ...  growthbucket  CountryID\n",
            "0    28.849621   6.914298  ...             0          0\n",
            "1    45.728313  13.623806  ...             0          1\n",
            "2    33.262043  13.323813  ...             0          2\n",
            "3     8.025703   3.869000  ...             0          3\n",
            "4     1.061468   0.243000  ...             0          4\n",
            "..         ...        ...  ...           ...        ...\n",
            "481  12.208407   6.215000  ...             0        481\n",
            "482  29.784193  15.389316  ...             1        482\n",
            "483  55.797787  25.301973  ...             0        483\n",
            "484  15.850567   5.277823  ...             0        484\n",
            "485   7.797694   3.468000  ...             0        485\n",
            "\n",
            "[486 rows x 51 columns]\n"
          ],
          "name": "stdout"
        }
      ]
    },
    {
      "cell_type": "code",
      "metadata": {
        "id": "VzXM1dfLvvgu",
        "colab_type": "code",
        "colab": {
          "base_uri": "https://localhost:8080/",
          "height": 67
        },
        "outputId": "662ec6ea-10ce-4c06-d5cc-8914af08f73a"
      },
      "source": [
        "africadf['growthbucket'].value_counts() ##finding the target variable "
      ],
      "execution_count": 7,
      "outputs": [
        {
          "output_type": "execute_result",
          "data": {
            "text/plain": [
              "0    448\n",
              "1     38\n",
              "Name: growthbucket, dtype: int64"
            ]
          },
          "metadata": {
            "tags": []
          },
          "execution_count": 7
        }
      ]
    },
    {
      "cell_type": "code",
      "metadata": {
        "id": "Gti_5G8tvyxp",
        "colab_type": "code",
        "colab": {
          "base_uri": "https://localhost:8080/",
          "height": 304
        },
        "outputId": "76978ee1-64f8-4500-a585-d469ab544379"
      },
      "source": [
        "africadf.describe()"
      ],
      "execution_count": 8,
      "outputs": [
        {
          "output_type": "execute_result",
          "data": {
            "text/html": [
              "<div>\n",
              "<style scoped>\n",
              "    .dataframe tbody tr th:only-of-type {\n",
              "        vertical-align: middle;\n",
              "    }\n",
              "\n",
              "    .dataframe tbody tr th {\n",
              "        vertical-align: top;\n",
              "    }\n",
              "\n",
              "    .dataframe thead th {\n",
              "        text-align: right;\n",
              "    }\n",
              "</style>\n",
              "<table border=\"1\" class=\"dataframe\">\n",
              "  <thead>\n",
              "    <tr style=\"text-align: right;\">\n",
              "      <th></th>\n",
              "      <th>pop</th>\n",
              "      <th>emp</th>\n",
              "      <th>emp_to_pop_ratio</th>\n",
              "      <th>hc</th>\n",
              "      <th>ccon</th>\n",
              "      <th>cda</th>\n",
              "      <th>cn</th>\n",
              "      <th>ck</th>\n",
              "      <th>ctfp</th>\n",
              "      <th>cwtfp</th>\n",
              "      <th>rconna</th>\n",
              "      <th>rdana</th>\n",
              "      <th>rnna</th>\n",
              "      <th>rkna</th>\n",
              "      <th>rtfpna</th>\n",
              "      <th>rwtfpna</th>\n",
              "      <th>labsh</th>\n",
              "      <th>irr</th>\n",
              "      <th>delta</th>\n",
              "      <th>xr</th>\n",
              "      <th>pl_con</th>\n",
              "      <th>pl_da</th>\n",
              "      <th>pl_gdpo</th>\n",
              "      <th>csh_c</th>\n",
              "      <th>csh_i</th>\n",
              "      <th>csh_g</th>\n",
              "      <th>csh_x</th>\n",
              "      <th>csh_m</th>\n",
              "      <th>csh_r</th>\n",
              "      <th>pl_c</th>\n",
              "      <th>pl_i</th>\n",
              "      <th>pl_g</th>\n",
              "      <th>pl_x</th>\n",
              "      <th>pl_m</th>\n",
              "      <th>pl_n</th>\n",
              "      <th>total</th>\n",
              "      <th>excl_energy</th>\n",
              "      <th>energy</th>\n",
              "      <th>metals_minerals</th>\n",
              "      <th>forestry</th>\n",
              "      <th>agriculture</th>\n",
              "      <th>fish</th>\n",
              "      <th>total_change</th>\n",
              "      <th>excl_energy_change</th>\n",
              "      <th>energy_change</th>\n",
              "      <th>metals_minerals_change</th>\n",
              "      <th>forestry_change</th>\n",
              "      <th>agriculture_change</th>\n",
              "      <th>fish_change</th>\n",
              "      <th>growthbucket</th>\n",
              "      <th>CountryID</th>\n",
              "    </tr>\n",
              "  </thead>\n",
              "  <tbody>\n",
              "    <tr>\n",
              "      <th>count</th>\n",
              "      <td>486.000000</td>\n",
              "      <td>486.000000</td>\n",
              "      <td>486.000000</td>\n",
              "      <td>486.000000</td>\n",
              "      <td>486.000000</td>\n",
              "      <td>486.000000</td>\n",
              "      <td>4.860000e+02</td>\n",
              "      <td>486.000000</td>\n",
              "      <td>486.000000</td>\n",
              "      <td>486.000000</td>\n",
              "      <td>486.000000</td>\n",
              "      <td>486.000000</td>\n",
              "      <td>4.860000e+02</td>\n",
              "      <td>486.000000</td>\n",
              "      <td>486.000000</td>\n",
              "      <td>486.000000</td>\n",
              "      <td>486.000000</td>\n",
              "      <td>486.000000</td>\n",
              "      <td>486.000000</td>\n",
              "      <td>486.000000</td>\n",
              "      <td>486.000000</td>\n",
              "      <td>486.000000</td>\n",
              "      <td>486.000000</td>\n",
              "      <td>486.000000</td>\n",
              "      <td>486.000000</td>\n",
              "      <td>486.000000</td>\n",
              "      <td>486.000000</td>\n",
              "      <td>486.000000</td>\n",
              "      <td>486.000000</td>\n",
              "      <td>486.000000</td>\n",
              "      <td>486.000000</td>\n",
              "      <td>486.000000</td>\n",
              "      <td>486.000000</td>\n",
              "      <td>486.000000</td>\n",
              "      <td>486.000000</td>\n",
              "      <td>486.000000</td>\n",
              "      <td>486.000000</td>\n",
              "      <td>486.00000</td>\n",
              "      <td>486.000000</td>\n",
              "      <td>486.000000</td>\n",
              "      <td>486.000000</td>\n",
              "      <td>486.000000</td>\n",
              "      <td>486.000000</td>\n",
              "      <td>486.000000</td>\n",
              "      <td>486.000000</td>\n",
              "      <td>486.000000</td>\n",
              "      <td>486.000000</td>\n",
              "      <td>486.000000</td>\n",
              "      <td>486.000000</td>\n",
              "      <td>486.000000</td>\n",
              "      <td>486.000000</td>\n",
              "    </tr>\n",
              "    <tr>\n",
              "      <th>mean</th>\n",
              "      <td>20.185755</td>\n",
              "      <td>7.121089</td>\n",
              "      <td>0.357865</td>\n",
              "      <td>1.777389</td>\n",
              "      <td>64361.006942</td>\n",
              "      <td>80885.988722</td>\n",
              "      <td>2.442244e+05</td>\n",
              "      <td>0.004583</td>\n",
              "      <td>0.454419</td>\n",
              "      <td>0.453431</td>\n",
              "      <td>68169.779343</td>\n",
              "      <td>86894.648830</td>\n",
              "      <td>2.960933e+05</td>\n",
              "      <td>0.922019</td>\n",
              "      <td>0.988884</td>\n",
              "      <td>0.956187</td>\n",
              "      <td>0.513159</td>\n",
              "      <td>0.115962</td>\n",
              "      <td>0.048087</td>\n",
              "      <td>447.069460</td>\n",
              "      <td>0.420510</td>\n",
              "      <td>0.425005</td>\n",
              "      <td>0.411562</td>\n",
              "      <td>0.679354</td>\n",
              "      <td>0.206769</td>\n",
              "      <td>0.174061</td>\n",
              "      <td>0.168543</td>\n",
              "      <td>-0.225677</td>\n",
              "      <td>-0.003049</td>\n",
              "      <td>0.430719</td>\n",
              "      <td>0.474535</td>\n",
              "      <td>0.407058</td>\n",
              "      <td>0.623058</td>\n",
              "      <td>0.592560</td>\n",
              "      <td>0.394489</td>\n",
              "      <td>480.433333</td>\n",
              "      <td>315.391667</td>\n",
              "      <td>1205.33000</td>\n",
              "      <td>512.912222</td>\n",
              "      <td>322.411667</td>\n",
              "      <td>221.326667</td>\n",
              "      <td>1009.445556</td>\n",
              "      <td>0.044535</td>\n",
              "      <td>0.030346</td>\n",
              "      <td>0.082411</td>\n",
              "      <td>0.058144</td>\n",
              "      <td>0.024774</td>\n",
              "      <td>0.033930</td>\n",
              "      <td>0.023741</td>\n",
              "      <td>0.078189</td>\n",
              "      <td>242.500000</td>\n",
              "    </tr>\n",
              "    <tr>\n",
              "      <th>std</th>\n",
              "      <td>30.037490</td>\n",
              "      <td>9.921471</td>\n",
              "      <td>0.080541</td>\n",
              "      <td>0.446339</td>\n",
              "      <td>129634.856793</td>\n",
              "      <td>156740.416624</td>\n",
              "      <td>4.725163e+05</td>\n",
              "      <td>0.008210</td>\n",
              "      <td>0.206562</td>\n",
              "      <td>0.203056</td>\n",
              "      <td>136352.268853</td>\n",
              "      <td>164892.302342</td>\n",
              "      <td>5.126251e+05</td>\n",
              "      <td>0.340277</td>\n",
              "      <td>0.143482</td>\n",
              "      <td>0.140860</td>\n",
              "      <td>0.148923</td>\n",
              "      <td>0.073690</td>\n",
              "      <td>0.012163</td>\n",
              "      <td>797.259327</td>\n",
              "      <td>0.126245</td>\n",
              "      <td>0.117072</td>\n",
              "      <td>0.117266</td>\n",
              "      <td>0.158903</td>\n",
              "      <td>0.088993</td>\n",
              "      <td>0.063082</td>\n",
              "      <td>0.142386</td>\n",
              "      <td>0.132546</td>\n",
              "      <td>0.090130</td>\n",
              "      <td>0.136076</td>\n",
              "      <td>0.142659</td>\n",
              "      <td>0.160308</td>\n",
              "      <td>0.104425</td>\n",
              "      <td>0.076358</td>\n",
              "      <td>0.386874</td>\n",
              "      <td>132.323682</td>\n",
              "      <td>65.322380</td>\n",
              "      <td>416.62894</td>\n",
              "      <td>173.040876</td>\n",
              "      <td>44.315222</td>\n",
              "      <td>49.803981</td>\n",
              "      <td>140.125951</td>\n",
              "      <td>0.184025</td>\n",
              "      <td>0.105616</td>\n",
              "      <td>0.288454</td>\n",
              "      <td>0.151285</td>\n",
              "      <td>0.129924</td>\n",
              "      <td>0.127101</td>\n",
              "      <td>0.076937</td>\n",
              "      <td>0.268746</td>\n",
              "      <td>140.440379</td>\n",
              "    </tr>\n",
              "    <tr>\n",
              "      <th>min</th>\n",
              "      <td>1.061468</td>\n",
              "      <td>0.243000</td>\n",
              "      <td>0.198212</td>\n",
              "      <td>1.069451</td>\n",
              "      <td>2781.259277</td>\n",
              "      <td>2984.366943</td>\n",
              "      <td>5.790397e+03</td>\n",
              "      <td>0.000124</td>\n",
              "      <td>0.098622</td>\n",
              "      <td>0.107790</td>\n",
              "      <td>2786.592285</td>\n",
              "      <td>2978.288574</td>\n",
              "      <td>8.735905e+03</td>\n",
              "      <td>0.136824</td>\n",
              "      <td>0.429515</td>\n",
              "      <td>0.382910</td>\n",
              "      <td>0.164316</td>\n",
              "      <td>0.010000</td>\n",
              "      <td>0.024867</td>\n",
              "      <td>1.000000</td>\n",
              "      <td>0.150231</td>\n",
              "      <td>0.146762</td>\n",
              "      <td>0.128689</td>\n",
              "      <td>0.223663</td>\n",
              "      <td>0.049954</td>\n",
              "      <td>0.016554</td>\n",
              "      <td>0.012206</td>\n",
              "      <td>-0.784460</td>\n",
              "      <td>-0.652756</td>\n",
              "      <td>0.154627</td>\n",
              "      <td>0.030470</td>\n",
              "      <td>0.044227</td>\n",
              "      <td>0.375171</td>\n",
              "      <td>0.432636</td>\n",
              "      <td>0.062744</td>\n",
              "      <td>274.690000</td>\n",
              "      <td>205.270000</td>\n",
              "      <td>586.13000</td>\n",
              "      <td>241.900000</td>\n",
              "      <td>245.560000</td>\n",
              "      <td>149.370000</td>\n",
              "      <td>843.660000</td>\n",
              "      <td>-0.359446</td>\n",
              "      <td>-0.173741</td>\n",
              "      <td>-0.477017</td>\n",
              "      <td>-0.157564</td>\n",
              "      <td>-0.174550</td>\n",
              "      <td>-0.225998</td>\n",
              "      <td>-0.113858</td>\n",
              "      <td>0.000000</td>\n",
              "      <td>0.000000</td>\n",
              "    </tr>\n",
              "    <tr>\n",
              "      <th>25%</th>\n",
              "      <td>3.830730</td>\n",
              "      <td>1.048750</td>\n",
              "      <td>0.297922</td>\n",
              "      <td>1.445886</td>\n",
              "      <td>9117.209716</td>\n",
              "      <td>11081.697755</td>\n",
              "      <td>2.429231e+04</td>\n",
              "      <td>0.000514</td>\n",
              "      <td>0.301179</td>\n",
              "      <td>0.295615</td>\n",
              "      <td>8797.567871</td>\n",
              "      <td>10660.792725</td>\n",
              "      <td>3.465814e+04</td>\n",
              "      <td>0.709967</td>\n",
              "      <td>0.946962</td>\n",
              "      <td>0.900594</td>\n",
              "      <td>0.426136</td>\n",
              "      <td>0.063373</td>\n",
              "      <td>0.041254</td>\n",
              "      <td>8.609180</td>\n",
              "      <td>0.338547</td>\n",
              "      <td>0.349186</td>\n",
              "      <td>0.329368</td>\n",
              "      <td>0.594391</td>\n",
              "      <td>0.142124</td>\n",
              "      <td>0.132076</td>\n",
              "      <td>0.059928</td>\n",
              "      <td>-0.299666</td>\n",
              "      <td>-0.034658</td>\n",
              "      <td>0.346740</td>\n",
              "      <td>0.383279</td>\n",
              "      <td>0.299052</td>\n",
              "      <td>0.536308</td>\n",
              "      <td>0.541171</td>\n",
              "      <td>0.294728</td>\n",
              "      <td>355.210000</td>\n",
              "      <td>271.740000</td>\n",
              "      <td>801.96000</td>\n",
              "      <td>331.440000</td>\n",
              "      <td>289.580000</td>\n",
              "      <td>185.770000</td>\n",
              "      <td>899.190000</td>\n",
              "      <td>-0.058931</td>\n",
              "      <td>-0.044322</td>\n",
              "      <td>-0.102940</td>\n",
              "      <td>-0.053405</td>\n",
              "      <td>-0.060792</td>\n",
              "      <td>-0.026451</td>\n",
              "      <td>-0.020995</td>\n",
              "      <td>0.000000</td>\n",
              "      <td>121.250000</td>\n",
              "    </tr>\n",
              "    <tr>\n",
              "      <th>50%</th>\n",
              "      <td>10.868272</td>\n",
              "      <td>4.184000</td>\n",
              "      <td>0.368841</td>\n",
              "      <td>1.689902</td>\n",
              "      <td>17471.495120</td>\n",
              "      <td>22228.022460</td>\n",
              "      <td>6.432356e+04</td>\n",
              "      <td>0.001355</td>\n",
              "      <td>0.400647</td>\n",
              "      <td>0.405870</td>\n",
              "      <td>16610.300780</td>\n",
              "      <td>21656.230470</td>\n",
              "      <td>7.413105e+04</td>\n",
              "      <td>0.933401</td>\n",
              "      <td>1.000000</td>\n",
              "      <td>0.978814</td>\n",
              "      <td>0.523287</td>\n",
              "      <td>0.107553</td>\n",
              "      <td>0.046315</td>\n",
              "      <td>152.079811</td>\n",
              "      <td>0.409295</td>\n",
              "      <td>0.422608</td>\n",
              "      <td>0.408461</td>\n",
              "      <td>0.708287</td>\n",
              "      <td>0.193263</td>\n",
              "      <td>0.168642</td>\n",
              "      <td>0.136851</td>\n",
              "      <td>-0.186369</td>\n",
              "      <td>0.000000</td>\n",
              "      <td>0.416230</td>\n",
              "      <td>0.471758</td>\n",
              "      <td>0.383152</td>\n",
              "      <td>0.640564</td>\n",
              "      <td>0.607994</td>\n",
              "      <td>0.357652</td>\n",
              "      <td>485.785000</td>\n",
              "      <td>326.945000</td>\n",
              "      <td>1285.16500</td>\n",
              "      <td>562.320000</td>\n",
              "      <td>328.020000</td>\n",
              "      <td>213.095000</td>\n",
              "      <td>948.745000</td>\n",
              "      <td>0.061860</td>\n",
              "      <td>0.019950</td>\n",
              "      <td>0.054933</td>\n",
              "      <td>0.046808</td>\n",
              "      <td>0.003277</td>\n",
              "      <td>0.038444</td>\n",
              "      <td>0.006529</td>\n",
              "      <td>0.000000</td>\n",
              "      <td>242.500000</td>\n",
              "    </tr>\n",
              "    <tr>\n",
              "      <th>75%</th>\n",
              "      <td>24.220695</td>\n",
              "      <td>8.517560</td>\n",
              "      <td>0.416717</td>\n",
              "      <td>2.117452</td>\n",
              "      <td>58016.873047</td>\n",
              "      <td>69676.791020</td>\n",
              "      <td>1.886244e+05</td>\n",
              "      <td>0.003227</td>\n",
              "      <td>0.616736</td>\n",
              "      <td>0.603459</td>\n",
              "      <td>61146.049805</td>\n",
              "      <td>81660.662112</td>\n",
              "      <td>2.488039e+05</td>\n",
              "      <td>1.037367</td>\n",
              "      <td>1.038464</td>\n",
              "      <td>1.015393</td>\n",
              "      <td>0.612079</td>\n",
              "      <td>0.161361</td>\n",
              "      <td>0.052742</td>\n",
              "      <td>550.521500</td>\n",
              "      <td>0.490157</td>\n",
              "      <td>0.489201</td>\n",
              "      <td>0.487113</td>\n",
              "      <td>0.792734</td>\n",
              "      <td>0.268336</td>\n",
              "      <td>0.208797</td>\n",
              "      <td>0.221857</td>\n",
              "      <td>-0.126700</td>\n",
              "      <td>0.041204</td>\n",
              "      <td>0.495139</td>\n",
              "      <td>0.558896</td>\n",
              "      <td>0.497188</td>\n",
              "      <td>0.715812</td>\n",
              "      <td>0.645224</td>\n",
              "      <td>0.433157</td>\n",
              "      <td>611.580000</td>\n",
              "      <td>363.530000</td>\n",
              "      <td>1555.86000</td>\n",
              "      <td>642.820000</td>\n",
              "      <td>348.510000</td>\n",
              "      <td>265.400000</td>\n",
              "      <td>1095.320000</td>\n",
              "      <td>0.208732</td>\n",
              "      <td>0.105791</td>\n",
              "      <td>0.245094</td>\n",
              "      <td>0.154531</td>\n",
              "      <td>0.096810</td>\n",
              "      <td>0.112793</td>\n",
              "      <td>0.047421</td>\n",
              "      <td>0.000000</td>\n",
              "      <td>363.750000</td>\n",
              "    </tr>\n",
              "    <tr>\n",
              "      <th>max</th>\n",
              "      <td>190.886307</td>\n",
              "      <td>65.156548</td>\n",
              "      <td>0.555433</td>\n",
              "      <td>2.885300</td>\n",
              "      <td>758455.187500</td>\n",
              "      <td>896604.812500</td>\n",
              "      <td>2.886312e+06</td>\n",
              "      <td>0.041835</td>\n",
              "      <td>0.998187</td>\n",
              "      <td>1.031707</td>\n",
              "      <td>762126.937500</td>\n",
              "      <td>908560.687500</td>\n",
              "      <td>2.592378e+06</td>\n",
              "      <td>3.033909</td>\n",
              "      <td>1.956830</td>\n",
              "      <td>1.447288</td>\n",
              "      <td>0.837299</td>\n",
              "      <td>0.430071</td>\n",
              "      <td>0.093944</td>\n",
              "      <td>7384.432129</td>\n",
              "      <td>0.928638</td>\n",
              "      <td>0.866256</td>\n",
              "      <td>0.809904</td>\n",
              "      <td>0.999501</td>\n",
              "      <td>0.556026</td>\n",
              "      <td>0.406014</td>\n",
              "      <td>0.843246</td>\n",
              "      <td>-0.017928</td>\n",
              "      <td>0.634478</td>\n",
              "      <td>0.983001</td>\n",
              "      <td>1.183658</td>\n",
              "      <td>1.205253</td>\n",
              "      <td>1.143190</td>\n",
              "      <td>1.077168</td>\n",
              "      <td>6.048152</td>\n",
              "      <td>689.920000</td>\n",
              "      <td>415.180000</td>\n",
              "      <td>1985.48000</td>\n",
              "      <td>775.130000</td>\n",
              "      <td>417.580000</td>\n",
              "      <td>308.050000</td>\n",
              "      <td>1276.530000</td>\n",
              "      <td>0.264843</td>\n",
              "      <td>0.218346</td>\n",
              "      <td>0.717188</td>\n",
              "      <td>0.476204</td>\n",
              "      <td>0.300217</td>\n",
              "      <td>0.320880</td>\n",
              "      <td>0.165440</td>\n",
              "      <td>1.000000</td>\n",
              "      <td>485.000000</td>\n",
              "    </tr>\n",
              "  </tbody>\n",
              "</table>\n",
              "</div>"
            ],
            "text/plain": [
              "              pop         emp  ...  growthbucket   CountryID\n",
              "count  486.000000  486.000000  ...    486.000000  486.000000\n",
              "mean    20.185755    7.121089  ...      0.078189  242.500000\n",
              "std     30.037490    9.921471  ...      0.268746  140.440379\n",
              "min      1.061468    0.243000  ...      0.000000    0.000000\n",
              "25%      3.830730    1.048750  ...      0.000000  121.250000\n",
              "50%     10.868272    4.184000  ...      0.000000  242.500000\n",
              "75%     24.220695    8.517560  ...      0.000000  363.750000\n",
              "max    190.886307   65.156548  ...      1.000000  485.000000\n",
              "\n",
              "[8 rows x 51 columns]"
            ]
          },
          "metadata": {
            "tags": []
          },
          "execution_count": 8
        }
      ]
    },
    {
      "cell_type": "code",
      "metadata": {
        "id": "tepgTha3v8aS",
        "colab_type": "code",
        "colab": {
          "base_uri": "https://localhost:8080/",
          "height": 252
        },
        "outputId": "6b7e00b1-7461-47a0-cd74-1b878ee9e3e1"
      },
      "source": [
        "print(insurancedf)"
      ],
      "execution_count": 9,
      "outputs": [
        {
          "output_type": "stream",
          "text": [
            "      age  sex     bmi  children  region      charges  smoker\n",
            "0      19    0  27.900         0       2  16884.92400       1\n",
            "1      18    1  33.770         1       3   1725.55230       0\n",
            "2      28    1  33.000         3       3   4449.46200       0\n",
            "3      33    1  22.705         0       0  21984.47061       0\n",
            "4      32    1  28.880         0       0   3866.85520       0\n",
            "...   ...  ...     ...       ...     ...          ...     ...\n",
            "1333   50    1  30.970         3       0  10600.54830       0\n",
            "1334   18    0  31.920         0       1   2205.98080       0\n",
            "1335   18    0  36.850         0       3   1629.83350       0\n",
            "1336   21    0  25.800         0       2   2007.94500       0\n",
            "1337   61    0  29.070         0       0  29141.36030       1\n",
            "\n",
            "[1338 rows x 7 columns]\n"
          ],
          "name": "stdout"
        }
      ]
    },
    {
      "cell_type": "code",
      "metadata": {
        "id": "xx-du11AwByO",
        "colab_type": "code",
        "colab": {
          "base_uri": "https://localhost:8080/",
          "height": 252
        },
        "outputId": "e794d8d6-7638-40d8-ffac-215a639f755e"
      },
      "source": [
        "insurancedf.info()"
      ],
      "execution_count": 10,
      "outputs": [
        {
          "output_type": "stream",
          "text": [
            "<class 'pandas.core.frame.DataFrame'>\n",
            "RangeIndex: 1338 entries, 0 to 1337\n",
            "Data columns (total 7 columns):\n",
            " #   Column    Non-Null Count  Dtype  \n",
            "---  ------    --------------  -----  \n",
            " 0   age       1338 non-null   int64  \n",
            " 1   sex       1338 non-null   int64  \n",
            " 2   bmi       1338 non-null   float64\n",
            " 3   children  1338 non-null   int64  \n",
            " 4   region    1338 non-null   int64  \n",
            " 5   charges   1338 non-null   float64\n",
            " 6   smoker    1338 non-null   int64  \n",
            "dtypes: float64(2), int64(5)\n",
            "memory usage: 73.3 KB\n"
          ],
          "name": "stdout"
        }
      ]
    },
    {
      "cell_type": "code",
      "metadata": {
        "id": "sLa4n1NdwSTg",
        "colab_type": "code",
        "colab": {
          "base_uri": "https://localhost:8080/",
          "height": 252
        },
        "outputId": "7120e05b-a0ec-4b6f-a313-ac324428786b"
      },
      "source": [
        "print(choicedf)"
      ],
      "execution_count": 18,
      "outputs": [
        {
          "output_type": "stream",
          "text": [
            "      Wife Age  Wife Education  ...  Media Exposure  Contraceptive Method\n",
            "0           24               2  ...               0                     1\n",
            "1           45               1  ...               0                     1\n",
            "2           43               2  ...               0                     1\n",
            "3           42               3  ...               0                     1\n",
            "4           36               3  ...               0                     1\n",
            "...        ...             ...  ...             ...                   ...\n",
            "1468        33               4  ...               0                     3\n",
            "1469        33               4  ...               0                     3\n",
            "1470        39               3  ...               0                     3\n",
            "1471        33               3  ...               0                     3\n",
            "1472        17               3  ...               0                     3\n",
            "\n",
            "[1473 rows x 10 columns]\n"
          ],
          "name": "stdout"
        }
      ]
    },
    {
      "cell_type": "code",
      "metadata": {
        "id": "ujBw1PqAwlG5",
        "colab_type": "code",
        "colab": {
          "base_uri": "https://localhost:8080/",
          "height": 302
        },
        "outputId": "9c16a162-029a-4de4-c6f0-dbdd154d22db"
      },
      "source": [
        "choicedf.info()"
      ],
      "execution_count": 19,
      "outputs": [
        {
          "output_type": "stream",
          "text": [
            "<class 'pandas.core.frame.DataFrame'>\n",
            "RangeIndex: 1473 entries, 0 to 1472\n",
            "Data columns (total 10 columns):\n",
            " #   Column                Non-Null Count  Dtype\n",
            "---  ------                --------------  -----\n",
            " 0   Wife Age              1473 non-null   int64\n",
            " 1   Wife Education        1473 non-null   int64\n",
            " 2   Husband Education     1473 non-null   int64\n",
            " 3   Number of Children    1473 non-null   int64\n",
            " 4   Wife religion         1473 non-null   int64\n",
            " 5   Wife working          1473 non-null   int64\n",
            " 6   Husband Occupation    1473 non-null   int64\n",
            " 7   SOLI                  1473 non-null   int64\n",
            " 8   Media Exposure        1473 non-null   int64\n",
            " 9   Contraceptive Method  1473 non-null   int64\n",
            "dtypes: int64(10)\n",
            "memory usage: 115.2 KB\n"
          ],
          "name": "stdout"
        }
      ]
    },
    {
      "cell_type": "code",
      "metadata": {
        "id": "sdeGBHF0wuHo",
        "colab_type": "code",
        "colab": {
          "base_uri": "https://localhost:8080/",
          "height": 34
        },
        "outputId": "a45bcfed-000a-4ad9-c985-1fa111e673cd"
      },
      "source": [
        "#Double check if there is missing values\n",
        "choicedf.isnull().any().sum()>0"
      ],
      "execution_count": 20,
      "outputs": [
        {
          "output_type": "execute_result",
          "data": {
            "text/plain": [
              "False"
            ]
          },
          "metadata": {
            "tags": []
          },
          "execution_count": 20
        }
      ]
    },
    {
      "cell_type": "code",
      "metadata": {
        "id": "UYLXONf_y0MW",
        "colab_type": "code",
        "colab": {
          "base_uri": "https://localhost:8080/",
          "height": 284
        },
        "outputId": "5f306152-7ec2-488a-f3ff-de6fcf081b27"
      },
      "source": [
        "choicedf.describe()"
      ],
      "execution_count": 21,
      "outputs": [
        {
          "output_type": "execute_result",
          "data": {
            "text/html": [
              "<div>\n",
              "<style scoped>\n",
              "    .dataframe tbody tr th:only-of-type {\n",
              "        vertical-align: middle;\n",
              "    }\n",
              "\n",
              "    .dataframe tbody tr th {\n",
              "        vertical-align: top;\n",
              "    }\n",
              "\n",
              "    .dataframe thead th {\n",
              "        text-align: right;\n",
              "    }\n",
              "</style>\n",
              "<table border=\"1\" class=\"dataframe\">\n",
              "  <thead>\n",
              "    <tr style=\"text-align: right;\">\n",
              "      <th></th>\n",
              "      <th>Wife Age</th>\n",
              "      <th>Wife Education</th>\n",
              "      <th>Husband Education</th>\n",
              "      <th>Number of Children</th>\n",
              "      <th>Wife religion</th>\n",
              "      <th>Wife working</th>\n",
              "      <th>Husband Occupation</th>\n",
              "      <th>SOLI</th>\n",
              "      <th>Media Exposure</th>\n",
              "      <th>Contraceptive Method</th>\n",
              "    </tr>\n",
              "  </thead>\n",
              "  <tbody>\n",
              "    <tr>\n",
              "      <th>count</th>\n",
              "      <td>1473.000000</td>\n",
              "      <td>1473.000000</td>\n",
              "      <td>1473.000000</td>\n",
              "      <td>1473.000000</td>\n",
              "      <td>1473.000000</td>\n",
              "      <td>1473.000000</td>\n",
              "      <td>1473.000000</td>\n",
              "      <td>1473.000000</td>\n",
              "      <td>1473.000000</td>\n",
              "      <td>1473.000000</td>\n",
              "    </tr>\n",
              "    <tr>\n",
              "      <th>mean</th>\n",
              "      <td>32.538357</td>\n",
              "      <td>2.958588</td>\n",
              "      <td>3.429735</td>\n",
              "      <td>3.261371</td>\n",
              "      <td>0.850645</td>\n",
              "      <td>0.749491</td>\n",
              "      <td>2.137814</td>\n",
              "      <td>3.133741</td>\n",
              "      <td>0.073999</td>\n",
              "      <td>1.919891</td>\n",
              "    </tr>\n",
              "    <tr>\n",
              "      <th>std</th>\n",
              "      <td>8.227245</td>\n",
              "      <td>1.014994</td>\n",
              "      <td>0.816349</td>\n",
              "      <td>2.358549</td>\n",
              "      <td>0.356559</td>\n",
              "      <td>0.433453</td>\n",
              "      <td>0.864857</td>\n",
              "      <td>0.976161</td>\n",
              "      <td>0.261858</td>\n",
              "      <td>0.876376</td>\n",
              "    </tr>\n",
              "    <tr>\n",
              "      <th>min</th>\n",
              "      <td>16.000000</td>\n",
              "      <td>1.000000</td>\n",
              "      <td>1.000000</td>\n",
              "      <td>0.000000</td>\n",
              "      <td>0.000000</td>\n",
              "      <td>0.000000</td>\n",
              "      <td>1.000000</td>\n",
              "      <td>1.000000</td>\n",
              "      <td>0.000000</td>\n",
              "      <td>1.000000</td>\n",
              "    </tr>\n",
              "    <tr>\n",
              "      <th>25%</th>\n",
              "      <td>26.000000</td>\n",
              "      <td>2.000000</td>\n",
              "      <td>3.000000</td>\n",
              "      <td>1.000000</td>\n",
              "      <td>1.000000</td>\n",
              "      <td>0.000000</td>\n",
              "      <td>1.000000</td>\n",
              "      <td>3.000000</td>\n",
              "      <td>0.000000</td>\n",
              "      <td>1.000000</td>\n",
              "    </tr>\n",
              "    <tr>\n",
              "      <th>50%</th>\n",
              "      <td>32.000000</td>\n",
              "      <td>3.000000</td>\n",
              "      <td>4.000000</td>\n",
              "      <td>3.000000</td>\n",
              "      <td>1.000000</td>\n",
              "      <td>1.000000</td>\n",
              "      <td>2.000000</td>\n",
              "      <td>3.000000</td>\n",
              "      <td>0.000000</td>\n",
              "      <td>2.000000</td>\n",
              "    </tr>\n",
              "    <tr>\n",
              "      <th>75%</th>\n",
              "      <td>39.000000</td>\n",
              "      <td>4.000000</td>\n",
              "      <td>4.000000</td>\n",
              "      <td>4.000000</td>\n",
              "      <td>1.000000</td>\n",
              "      <td>1.000000</td>\n",
              "      <td>3.000000</td>\n",
              "      <td>4.000000</td>\n",
              "      <td>0.000000</td>\n",
              "      <td>3.000000</td>\n",
              "    </tr>\n",
              "    <tr>\n",
              "      <th>max</th>\n",
              "      <td>49.000000</td>\n",
              "      <td>4.000000</td>\n",
              "      <td>4.000000</td>\n",
              "      <td>16.000000</td>\n",
              "      <td>1.000000</td>\n",
              "      <td>1.000000</td>\n",
              "      <td>4.000000</td>\n",
              "      <td>4.000000</td>\n",
              "      <td>1.000000</td>\n",
              "      <td>3.000000</td>\n",
              "    </tr>\n",
              "  </tbody>\n",
              "</table>\n",
              "</div>"
            ],
            "text/plain": [
              "          Wife Age  Wife Education  ...  Media Exposure  Contraceptive Method\n",
              "count  1473.000000     1473.000000  ...     1473.000000           1473.000000\n",
              "mean     32.538357        2.958588  ...        0.073999              1.919891\n",
              "std       8.227245        1.014994  ...        0.261858              0.876376\n",
              "min      16.000000        1.000000  ...        0.000000              1.000000\n",
              "25%      26.000000        2.000000  ...        0.000000              1.000000\n",
              "50%      32.000000        3.000000  ...        0.000000              2.000000\n",
              "75%      39.000000        4.000000  ...        0.000000              3.000000\n",
              "max      49.000000        4.000000  ...        1.000000              3.000000\n",
              "\n",
              "[8 rows x 10 columns]"
            ]
          },
          "metadata": {
            "tags": []
          },
          "execution_count": 21
        }
      ]
    },
    {
      "cell_type": "code",
      "metadata": {
        "id": "vA4jB1CPy41X",
        "colab_type": "code",
        "colab": {
          "base_uri": "https://localhost:8080/",
          "height": 252
        },
        "outputId": "3b1d950f-8037-42f0-dd34-cee08dd57df0"
      },
      "source": [
        "#Adding ID\n",
        "ID=np.array(range(len(choicedf)))\n",
        "\n",
        "choicedf['ID']=ID\n",
        "\n",
        "print(choicedf)"
      ],
      "execution_count": 22,
      "outputs": [
        {
          "output_type": "stream",
          "text": [
            "      Wife Age  Wife Education  ...  Contraceptive Method    ID\n",
            "0           24               2  ...                     1     0\n",
            "1           45               1  ...                     1     1\n",
            "2           43               2  ...                     1     2\n",
            "3           42               3  ...                     1     3\n",
            "4           36               3  ...                     1     4\n",
            "...        ...             ...  ...                   ...   ...\n",
            "1468        33               4  ...                     3  1468\n",
            "1469        33               4  ...                     3  1469\n",
            "1470        39               3  ...                     3  1470\n",
            "1471        33               3  ...                     3  1471\n",
            "1472        17               3  ...                     3  1472\n",
            "\n",
            "[1473 rows x 11 columns]\n"
          ],
          "name": "stdout"
        }
      ]
    },
    {
      "cell_type": "code",
      "metadata": {
        "id": "tC66Hj7czCR3",
        "colab_type": "code",
        "colab": {
          "base_uri": "https://localhost:8080/",
          "height": 252
        },
        "outputId": "45459811-596b-4803-df97-d5c728e2c437"
      },
      "source": [
        "#binary classification\n",
        "choicedf['Contraceptive Method'].value_counts()\n",
        "# binary classification 0 is not used and 1 is used contraceptive\n",
        "choicedf['Contraceptive Method']=[0 if b== 1 else 1 for b in choicedf['Contraceptive Method']]\n",
        "choicedf['Contraceptive Method'].value_counts()\n",
        "print(choicedf)"
      ],
      "execution_count": 27,
      "outputs": [
        {
          "output_type": "stream",
          "text": [
            "      Wife Age  Wife Education  ...  Contraceptive Method    ID\n",
            "0           24               2  ...                     1     0\n",
            "1           45               1  ...                     1     1\n",
            "2           43               2  ...                     1     2\n",
            "3           42               3  ...                     1     3\n",
            "4           36               3  ...                     1     4\n",
            "...        ...             ...  ...                   ...   ...\n",
            "1468        33               4  ...                     0  1468\n",
            "1469        33               4  ...                     0  1469\n",
            "1470        39               3  ...                     0  1470\n",
            "1471        33               3  ...                     0  1471\n",
            "1472        17               3  ...                     0  1472\n",
            "\n",
            "[1473 rows x 11 columns]\n"
          ],
          "name": "stdout"
        }
      ]
    },
    {
      "cell_type": "markdown",
      "metadata": {
        "id": "Y-y6wtbb1dWK",
        "colab_type": "text"
      },
      "source": [
        "Representing Imbalance"
      ]
    },
    {
      "cell_type": "code",
      "metadata": {
        "id": "AyuEEK261gDw",
        "colab_type": "code",
        "colab": {
          "base_uri": "https://localhost:8080/",
          "height": 284
        },
        "outputId": "04e1f3ca-c60f-4d6b-8433-c721a588d49e"
      },
      "source": [
        "#africandf\n",
        "recession= len(africadf[africadf['growthbucket']==1])\n",
        "no_recession=len(africadf[africadf['growthbucket']==0])\n",
        "\n",
        "percentofrecession= recession/(recession+no_recession)\n",
        "percentofnorecession= no_recession/(recession+no_recession)\n",
        "\n",
        "print(\"Percentage of Recession is\", percentofrecession*100)\n",
        "print(\"Percentage of No Recession is\", percentofnorecession*100)\n",
        "labels = 'Recession','No Recession'\n",
        "\n",
        "sizes=[percentofrecession,percentofnorecession]\n",
        "\n",
        "explode=(0.2,0)\n",
        "\n",
        "fig1, ax1 =plt.subplots()\n",
        "\n",
        "ax1.pie(sizes,explode=explode,labels=labels,autopct='%1.1f%%', shadow= True, startangle=90)\n",
        "\n",
        "ax1.axis('equal')\n",
        "\n",
        "plt.show()"
      ],
      "execution_count": 28,
      "outputs": [
        {
          "output_type": "stream",
          "text": [
            "Percentage of Recession is 7.818930041152264\n",
            "Percentage of No Recession is 92.18106995884774\n"
          ],
          "name": "stdout"
        },
        {
          "output_type": "display_data",
          "data": {
            "image/png": "[encoded data removed]",
            "text/plain": [
              "<Figure size 432x288 with 1 Axes>"
            ]
          },
          "metadata": {
            "tags": []
          }
        }
      ]
    },
    {
      "cell_type": "code",
      "metadata": {
        "id": "J9pX479D1vpT",
        "colab_type": "code",
        "colab": {
          "base_uri": "https://localhost:8080/",
          "height": 282
        },
        "outputId": "fae2fa4f-4f78-4b2b-d204-0331fe619a09"
      },
      "source": [
        "#insurancedf\n",
        "non_smoker= len(insurancedf[insurancedf['smoker']==0])\n",
        "smoker=len(insurancedf[insurancedf['smoker']==1])\n",
        "\n",
        "percentofsmoker= smoker/(smoker+non_smoker)\n",
        "percentofnon_smoker=non_smoker/(smoker+non_smoker)\n",
        "\n",
        "print(\"Percentage of Non smoker is\", percentofnon_smoker*100)\n",
        "print(\"Percentage of smoker is\", percentofsmoker*100)\n",
        "\n",
        "labels = 'non_smoker','smoker'\n",
        "\n",
        "sizes=[percentofnon_smoker,percentofsmoker]\n",
        "\n",
        "explode=(0.1,0)\n",
        "\n",
        "fig1, ax1 =plt.subplots()\n",
        "\n",
        "ax1.pie(sizes,explode=explode,labels=labels,autopct='%1.1f%%', shadow= True, startangle=90)\n",
        "\n",
        "ax1.axis('equal')\n",
        "\n",
        "plt.show()"
      ],
      "execution_count": 31,
      "outputs": [
        {
          "output_type": "stream",
          "text": [
            "Percentage of Non smoker is 79.52167414050822\n",
            "Percentage of smoker is 20.47832585949178\n"
          ],
          "name": "stdout"
        },
        {
          "output_type": "display_data",
          "data": {
            "image/png": "[encoded data removed]",
            "text/plain": [
              "<Figure size 432x288 with 1 Axes>"
            ]
          },
          "metadata": {
            "tags": []
          }
        }
      ]
    },
    {
      "cell_type": "code",
      "metadata": {
        "id": "5YcOf-HW3R97",
        "colab_type": "code",
        "colab": {
          "base_uri": "https://localhost:8080/",
          "height": 282
        },
        "outputId": "cdbd15fc-e48f-4524-b5bb-d0fb68865a0a"
      },
      "source": [
        "#choicedf\n",
        "noused= len(choicedf[choicedf['Contraceptive Method']==0])\n",
        "used=len(choicedf[choicedf['Contraceptive Method']==1])\n",
        "\n",
        "percentofnoused= noused/(used+noused)\n",
        "percentofused=used/(used+noused)\n",
        "\n",
        "print(\"Percentage of No Use is\", percentofnoused*100)\n",
        "print(\"Percentage of used is\", percentofused*100)\n",
        "\n",
        "labels = 'No Use','Used'\n",
        "\n",
        "sizes=[percentofnoused,percentofused]\n",
        "\n",
        "explode=(0.1,0)\n",
        "\n",
        "fig1, ax1 =plt.subplots()\n",
        "\n",
        "ax1.pie(sizes,explode=explode,labels=labels,autopct='%1.1f%%', shadow= True, startangle=90)\n",
        "\n",
        "ax1.axis('equal')\n",
        "\n",
        "plt.show()"
      ],
      "execution_count": 33,
      "outputs": [
        {
          "output_type": "stream",
          "text": [
            "Percentage of No Use is 57.298031228784794\n",
            "Percentage of used is 42.701968771215206\n"
          ],
          "name": "stdout"
        },
        {
          "output_type": "display_data",
          "data": {
            "image/png": "[encoded data removed]",
            "text/plain": [
              "<Figure size 432x288 with 1 Axes>"
            ]
          },
          "metadata": {
            "tags": []
          }
        }
      ]
    }
  ]
}