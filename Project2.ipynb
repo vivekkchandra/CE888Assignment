{
  "nbformat": 4,
  "nbformat_minor": 0,
  "metadata": {
    "colab": {
      "name": "Project2.ipynb",
      "provenance": [],
      "mount_file_id": "1op0-FP_zFa10PUHkyrNFWVRvno7QtxyN",
      "authorship_tag": "ABX9TyPkcu6LTMCYqsGM+de8P6Fq",
      "include_colab_link": true
    },
    "kernelspec": {
      "name": "python3",
      "display_name": "Python 3"
    }
  },
  "cells": [
    {
      "cell_type": "markdown",
      "metadata": {
        "id": "view-in-github",
        "colab_type": "text"
      },
      "source": [
        "<a href=\"https://colab.research.google.com/github/vivekkchandra/CE888Assignment/blob/master/Project2.ipynb\" target=\"_parent\"><img src=\"https://colab.research.google.com/assets/colab-badge.svg\" alt=\"Open In Colab\"/></a>"
      ]
    },
    {
      "cell_type": "code",
      "metadata": {
        "id": "Kq8HMY8zww1i",
        "colab_type": "code",
        "colab": {}
      },
      "source": [
        "import numpy as np \n",
        "import pandas as pd \n",
        "import matplotlib.pyplot as plt\n",
        "import seaborn as sns\n",
        "from sklearn.tree import DecisionTreeClassifier\n",
        "from imblearn.over_sampling import SMOTE\n",
        "from sklearn.model_selection import StratifiedKFold\n",
        "import collections\n",
        "import random"
      ],
      "execution_count": 0,
      "outputs": []
    },
    {
      "cell_type": "code",
      "metadata": {
        "id": "rRNUup-v0IyK",
        "colab_type": "code",
        "outputId": "3b146728-95c3-41be-ed0a-59e0a3d8f1de",
        "colab": {
          "base_uri": "https://localhost:8080/",
          "height": 50
        }
      },
      "source": [
        "data63B= pd.read_csv(\"/content/drive/My Drive/Colab Notebooks/DSdatasets/breast_cancer63B.csv\") \n",
        "print('B', round(data63B['diagnosis'].value_counts()[0]/len(data63B) * 100,2), '% of the dataset')\n",
        "print('M', round(data63B['diagnosis'].value_counts()[1]/len(data63B) * 100,2), '% of the dataset') \n",
        "X1 = data63B.drop(['diagnosis'], axis=1)\n",
        "y1 = data63B['diagnosis']\n"
      ],
      "execution_count": 0,
      "outputs": [
        {
          "output_type": "stream",
          "text": [
            "B 62.74 % of the dataset\n",
            "M 37.26 % of the dataset\n"
          ],
          "name": "stdout"
        }
      ]
    },
    {
      "cell_type": "code",
      "metadata": {
        "id": "IgGI8rl_1eyG",
        "colab_type": "code",
        "outputId": "3d170ed7-519e-4c64-f6c7-974cdb0e08ba",
        "colab": {
          "base_uri": "https://localhost:8080/",
          "height": 281
        }
      },
      "source": [
        "data63B[\"diagnosis\"].value_counts().head(10).plot(kind=\"bar\")"
      ],
      "execution_count": 0,
      "outputs": [
        {
          "output_type": "execute_result",
          "data": {
            "text/plain": [
              "<matplotlib.axes._subplots.AxesSubplot at 0x7f63b0de3828>"
            ]
          },
          "metadata": {
            "tags": []
          },
          "execution_count": 8
        },
        {
          "output_type": "display_data",
          "data": {
            "image/png": "[encoded data removed]",
            "text/plain": [
              "<Figure size 432x288 with 1 Axes>"
            ]
          },
          "metadata": {
            "tags": []
          }
        }
      ]
    },
    {
      "cell_type": "markdown",
      "metadata": {
        "id": "ao476QFBxIXf",
        "colab_type": "text"
      },
      "source": [
        ""
      ]
    },
    {
      "cell_type": "code",
      "metadata": {
        "id": "-qjXu2s63d3l",
        "colab_type": "code",
        "outputId": "56f34f68-440a-4670-fb47-898f221abc97",
        "colab": {
          "base_uri": "https://localhost:8080/",
          "height": 50
        }
      },
      "source": [
        "data80B= pd.read_csv(\"/content/drive/My Drive/Colab Notebooks/DSdatasets/insurance80.csv\") \n",
        "print('smoker', round(data80B['smoker'].value_counts()[0]/len(data80B) * 100,2), '% of the dataset')\n",
        "print('Non smoker', round(data80B['smoker'].value_counts()[1]/len(data80B) * 100,2), '% of the dataset') \n",
        "X2 = data80B.drop(['smoker'], axis=1)\n",
        "y2 = data80B['smoker']"
      ],
      "execution_count": 0,
      "outputs": [
        {
          "output_type": "stream",
          "text": [
            "smoker 79.52 % of the dataset\n",
            "Non smoker 20.48 % of the dataset\n"
          ],
          "name": "stdout"
        }
      ]
    },
    {
      "cell_type": "code",
      "metadata": {
        "id": "cN1y6lMV4E-M",
        "colab_type": "code",
        "outputId": "48fdd767-13d3-45bc-e624-43aff22cf1e0",
        "colab": {
          "base_uri": "https://localhost:8080/",
          "height": 279
        }
      },
      "source": [
        "data80B[\"smoker\"].value_counts().head(10).plot(kind=\"bar\")"
      ],
      "execution_count": 0,
      "outputs": [
        {
          "output_type": "execute_result",
          "data": {
            "text/plain": [
              "<matplotlib.axes._subplots.AxesSubplot at 0x7f63b0899710>"
            ]
          },
          "metadata": {
            "tags": []
          },
          "execution_count": 11
        },
        {
          "output_type": "display_data",
          "data": {
            "image/png": "[encoded data removed]",
            "text/plain": [
              "<Figure size 432x288 with 1 Axes>"
            ]
          },
          "metadata": {
            "tags": []
          }
        }
      ]
    },
    {
      "cell_type": "code",
      "metadata": {
        "id": "Rt5zRdTw4Lcm",
        "colab_type": "code",
        "outputId": "db0194dc-1334-4b51-d336-20a637a76f18",
        "colab": {
          "base_uri": "https://localhost:8080/",
          "height": 50
        }
      },
      "source": [
        "data90B= pd.read_csv(\"/content/drive/My Drive/Colab Notebooks/DSdatasets/creditcard90.csv\") \n",
        "print('0', round(data90B['Class'].value_counts()[0]/len(data90B) * 100,2), '% of the dataset')\n",
        "print('1', round(data90B['Class'].value_counts()[1]/len(data90B) * 100,2), '% of the dataset') \n",
        "X3 = data90B.drop(['Class'], axis=1)\n",
        "y3 = data90B['Class']"
      ],
      "execution_count": 0,
      "outputs": [
        {
          "output_type": "stream",
          "text": [
            "0 99.83 % of the dataset\n",
            "1 0.17 % of the dataset\n"
          ],
          "name": "stdout"
        }
      ]
    },
    {
      "cell_type": "code",
      "metadata": {
        "id": "MSd3fDja9iIe",
        "colab_type": "code",
        "outputId": "9c5f2fc6-44ce-4eda-c81b-b5f910226441",
        "colab": {
          "base_uri": "https://localhost:8080/",
          "height": 333
        }
      },
      "source": [
        "a=data90B[(data90B['Class'] != '0') | (np.random.rand(len(data90B)) < 9)]\n",
        "a\n",
        "a[\"Class\"].value_counts().head(10).plot(kind=\"bar\")"
      ],
      "execution_count": 23,
      "outputs": [
        {
          "output_type": "stream",
          "text": [
            "/usr/local/lib/python3.6/dist-packages/pandas/core/ops/__init__.py:1115: FutureWarning: elementwise comparison failed; returning scalar instead, but in the future will perform elementwise comparison\n",
            "  result = method(y)\n"
          ],
          "name": "stderr"
        },
        {
          "output_type": "execute_result",
          "data": {
            "text/plain": [
              "<matplotlib.axes._subplots.AxesSubplot at 0x7f63b0447cf8>"
            ]
          },
          "metadata": {
            "tags": []
          },
          "execution_count": 23
        },
        {
          "output_type": "display_data",
          "data": {
            "image/png": "[encoded data removed]",
            "text/plain": [
              "<Figure size 432x288 with 1 Axes>"
            ]
          },
          "metadata": {
            "tags": []
          }
        }
      ]
    },
    {
      "cell_type": "code",
      "metadata": {
        "id": "tf6QFg8CuoGw",
        "colab_type": "code",
        "colab": {
          "base_uri": "https://localhost:8080/",
          "height": 101
        },
        "outputId": "2445a45c-3e33-4e67-d860-3e7bcff53333"
      },
      "source": [
        "class_count = collections.Counter(data90B['Class'])\n",
        "print(class_count)\n",
        "print(\"Imbalance:\",(class_count[0]/(class_count[0]+class_count[1]))*100,\"%\")\n",
        "#downsampling data90B 0class\n",
        "indexName= data90B[(data90B['Class'] == 0)].index\n",
        "eliminationpercentage= 0.98\n",
        "eliminate= int(class_count[0] * eliminationpercentage)\n",
        "indicesToRemove = random.sample(indexName.tolist(), eliminate)\n",
        "data90B= data90B.drop(indicesToRemove)\n",
        "class_count= collections.Counter(data90B['Class'])\n",
        "print(\"\\n Post downsampling percentage:\", (class_count[0]/(class_count[0]+class_count[1]))*100, \"%\")\n",
        "print(class_count)"
      ],
      "execution_count": 39,
      "outputs": [
        {
          "output_type": "stream",
          "text": [
            "Counter({0: 284315, 1: 492})\n",
            "Imbalance: 99.82725143693798 %\n",
            "\n",
            " Post downsampling percentage: 92.03754652856449 %\n",
            "Counter({0: 5687, 1: 492})\n"
          ],
          "name": "stdout"
        }
      ]
    },
    {
      "cell_type": "code",
      "metadata": {
        "id": "_JyVO2J7wZX9",
        "colab_type": "code",
        "colab": {
          "base_uri": "https://localhost:8080/",
          "height": 333
        },
        "outputId": "318eeb23-3bed-4f46-f50a-98374db96f81"
      },
      "source": [
        "ab=data90B[(data90B['Class'] != '0') | (np.random.rand(len(data90B)) < 9)]\n",
        "ab\n",
        "ab[\"Class\"].value_counts().head(10).plot(kind=\"bar\")"
      ],
      "execution_count": 40,
      "outputs": [
        {
          "output_type": "stream",
          "text": [
            "/usr/local/lib/python3.6/dist-packages/pandas/core/ops/__init__.py:1115: FutureWarning: elementwise comparison failed; returning scalar instead, but in the future will perform elementwise comparison\n",
            "  result = method(y)\n"
          ],
          "name": "stderr"
        },
        {
          "output_type": "execute_result",
          "data": {
            "text/plain": [
              "<matplotlib.axes._subplots.AxesSubplot at 0x7f63b03727f0>"
            ]
          },
          "metadata": {
            "tags": []
          },
          "execution_count": 40
        },
        {
          "output_type": "display_data",
          "data": {
            "image/png": "[encoded data removed]",
            "text/plain": [
              "<Figure size 432x288 with 1 Axes>"
            ]
          },
          "metadata": {
            "tags": []
          }
        }
      ]
    }
  ]
}