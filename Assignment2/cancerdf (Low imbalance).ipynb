{
  "nbformat": 4,
  "nbformat_minor": 0,
  "metadata": {
    "colab": {
      "name": "cancerdf.ipynb",
      "provenance": [],
      "collapsed_sections": []
    },
    "kernelspec": {
      "name": "python3",
      "display_name": "Python 3"
    },
    "accelerator": "GPU"
  },
  "cells": [
    {
      "cell_type": "code",
      "metadata": {
        "id": "4VKVHGXQeWnu",
        "colab_type": "code",
        "outputId": "7f2be962-fffc-4898-f16f-15aaa8272cab",
        "colab": {
          "base_uri": "https://localhost:8080/",
          "height": 70
        }
      },
      "source": [
        "import pandas as pd\n",
        "import numpy as np\n",
        "from sklearn import preprocessing\n",
        "import seaborn as sns\n",
        "import matplotlib.pyplot as plt\n",
        "from sklearn.ensemble import RandomForestClassifier\n",
        "from sklearn.preprocessing import StandardScaler\n",
        "from sklearn.model_selection import train_test_split\n",
        "from sklearn.tree import plot_tree\n",
        "from sklearn.tree import DecisionTreeClassifier\n",
        "from sklearn.model_selection import StratifiedKFold\n",
        "from sklearn.model_selection import cross_val_score\n",
        "from sklearn.metrics import accuracy_score\n",
        "from sklearn.metrics import precision_score\n",
        "from sklearn.metrics import recall_score\n",
        "from sklearn.metrics import f1_score\n",
        "from sklearn.metrics import make_scorer\n",
        "from sklearn.metrics import silhouette_score\n",
        "from collections import Counter \n",
        "from sklearn.cluster import KMeans"
      ],
      "execution_count": 0,
      "outputs": [
        {
          "output_type": "stream",
          "text": [
            "/usr/local/lib/python3.6/dist-packages/statsmodels/tools/_testing.py:19: FutureWarning: pandas.util.testing is deprecated. Use the functions in the public API at pandas.testing instead.\n",
            "  import pandas.util.testing as tm\n"
          ],
          "name": "stderr"
        }
      ]
    },
    {
      "cell_type": "markdown",
      "metadata": {
        "id": "l1Qgs_5ct6G9",
        "colab_type": "text"
      },
      "source": [
        "##1.Loading the dataset"
      ]
    },
    {
      "cell_type": "code",
      "metadata": {
        "id": "TLUTcTUCt6rD",
        "colab_type": "code",
        "colab": {}
      },
      "source": [
        "cancerdf = pd.read_csv('https://raw.githubusercontent.com/vivekkchandra/CE888Assignment/master/Assignment2/Data/breast_cancer63B.csv', sep=',', quotechar='\"')\n"
      ],
      "execution_count": 0,
      "outputs": []
    },
    {
      "cell_type": "markdown",
      "metadata": {
        "id": "ZyRt1WjbSKXl",
        "colab_type": "text"
      },
      "source": [
        "Information of cancerdf"
      ]
    },
    {
      "cell_type": "code",
      "metadata": {
        "id": "YR3zXDl8SUsB",
        "colab_type": "code",
        "outputId": "19da6f7f-af83-4c0f-e641-68a36d8de39a",
        "colab": {
          "base_uri": "https://localhost:8080/",
          "height": 218
        }
      },
      "source": [
        "cancerdf.drop(cancerdf.columns[cancerdf.columns.str.contains('unnamed',case = False)],axis = 1, inplace = True)\n",
        "cancerdf['diagnosis'] = cancerdf['diagnosis'].replace({'B': 0})\n",
        "cancerdf['diagnosis'] = cancerdf['diagnosis'].replace({'M': 1})\n",
        "cancerdf.diagnosis\n"
      ],
      "execution_count": 0,
      "outputs": [
        {
          "output_type": "execute_result",
          "data": {
            "text/plain": [
              "0      1\n",
              "1      1\n",
              "2      1\n",
              "3      1\n",
              "4      1\n",
              "      ..\n",
              "564    1\n",
              "565    1\n",
              "566    1\n",
              "567    1\n",
              "568    0\n",
              "Name: diagnosis, Length: 569, dtype: int64"
            ]
          },
          "metadata": {
            "tags": []
          },
          "execution_count": 10
        }
      ]
    },
    {
      "cell_type": "code",
      "metadata": {
        "id": "pwpBHxOEVLqQ",
        "colab_type": "code",
        "outputId": "91f281c6-1558-4b84-9cf0-4079e23a4ac8",
        "colab": {
          "base_uri": "https://localhost:8080/",
          "height": 67
        }
      },
      "source": [
        "#Identifying the target variable \n",
        "cancerdf['diagnosis'].value_counts() "
      ],
      "execution_count": 0,
      "outputs": [
        {
          "output_type": "execute_result",
          "data": {
            "text/plain": [
              "0    357\n",
              "1    212\n",
              "Name: diagnosis, dtype: int64"
            ]
          },
          "metadata": {
            "tags": []
          },
          "execution_count": 11
        }
      ]
    },
    {
      "cell_type": "markdown",
      "metadata": {
        "id": "LIZgvNKqfeJu",
        "colab_type": "text"
      },
      "source": [
        "## Data preprocessing"
      ]
    },
    {
      "cell_type": "code",
      "metadata": {
        "id": "lxyr32qeWiMg",
        "colab_type": "code",
        "colab": {}
      },
      "source": [
        "x=cancerdf.drop('diagnosis', axis=1)\n",
        "y=cancerdf.diagnosis ## Target variable"
      ],
      "execution_count": 0,
      "outputs": []
    },
    {
      "cell_type": "markdown",
      "metadata": {
        "id": "ysZN6uHSl_ag",
        "colab_type": "text"
      },
      "source": [
        "Split data into train and test "
      ]
    },
    {
      "cell_type": "code",
      "metadata": {
        "id": "wE8QgJzRl_EU",
        "colab_type": "code",
        "colab": {}
      },
      "source": [
        "x_train,x_test,y_train,y_test=train_test_split(x,y,train_size=0.7, random_state=90)"
      ],
      "execution_count": 0,
      "outputs": []
    },
    {
      "cell_type": "markdown",
      "metadata": {
        "id": "j9lCL-3rnB29",
        "colab_type": "text"
      },
      "source": [
        "Performing standardisation by applying scale function"
      ]
    },
    {
      "cell_type": "code",
      "metadata": {
        "id": "WDn_9q6BnAYh",
        "colab_type": "code",
        "colab": {}
      },
      "source": [
        "scalefn=StandardScaler().fit(x_train)\n",
        "norm_xtrain =scalefn.transform(x_train)\n",
        "norm_xtest =scalefn.transform(x_test)"
      ],
      "execution_count": 0,
      "outputs": []
    },
    {
      "cell_type": "markdown",
      "metadata": {
        "id": "oDANlX0Er8_9",
        "colab_type": "text"
      },
      "source": [
        "Numpy to df conversion"
      ]
    },
    {
      "cell_type": "code",
      "metadata": {
        "id": "AwY42qEDr_vU",
        "colab_type": "code",
        "outputId": "b7f00116-d97d-477e-c8b7-9d862ff3e8f4",
        "colab": {
          "base_uri": "https://localhost:8080/",
          "height": 573
        }
      },
      "source": [
        "x_train.loc[x_train.index,x_train.columns] = norm_xtrain\n",
        "x_train.describe()"
      ],
      "execution_count": 0,
      "outputs": [
        {
          "output_type": "stream",
          "text": [
            "/usr/local/lib/python3.6/dist-packages/pandas/core/indexing.py:671: SettingWithCopyWarning: \n",
            "A value is trying to be set on a copy of a slice from a DataFrame\n",
            "\n",
            "See the caveats in the documentation: https://pandas.pydata.org/pandas-docs/stable/user_guide/indexing.html#returning-a-view-versus-a-copy\n",
            "  self._setitem_with_indexer(indexer, value)\n",
            "/usr/local/lib/python3.6/dist-packages/ipykernel_launcher.py:1: SettingWithCopyWarning: \n",
            "A value is trying to be set on a copy of a slice from a DataFrame\n",
            "\n",
            "See the caveats in the documentation: https://pandas.pydata.org/pandas-docs/stable/user_guide/indexing.html#returning-a-view-versus-a-copy\n",
            "  \"\"\"Entry point for launching an IPython kernel.\n"
          ],
          "name": "stderr"
        },
        {
          "output_type": "execute_result",
          "data": {
            "text/html": [
              "<div>\n",
              "<style scoped>\n",
              "    .dataframe tbody tr th:only-of-type {\n",
              "        vertical-align: middle;\n",
              "    }\n",
              "\n",
              "    .dataframe tbody tr th {\n",
              "        vertical-align: top;\n",
              "    }\n",
              "\n",
              "    .dataframe thead th {\n",
              "        text-align: right;\n",
              "    }\n",
              "</style>\n",
              "<table border=\"1\" class=\"dataframe\">\n",
              "  <thead>\n",
              "    <tr style=\"text-align: right;\">\n",
              "      <th></th>\n",
              "      <th>id</th>\n",
              "      <th>radius_mean</th>\n",
              "      <th>texture_mean</th>\n",
              "      <th>perimeter_mean</th>\n",
              "      <th>area_mean</th>\n",
              "      <th>smoothness_mean</th>\n",
              "      <th>compactness_mean</th>\n",
              "      <th>concavity_mean</th>\n",
              "      <th>concave points_mean</th>\n",
              "      <th>symmetry_mean</th>\n",
              "      <th>fractal_dimension_mean</th>\n",
              "      <th>radius_se</th>\n",
              "      <th>texture_se</th>\n",
              "      <th>perimeter_se</th>\n",
              "      <th>area_se</th>\n",
              "      <th>smoothness_se</th>\n",
              "      <th>compactness_se</th>\n",
              "      <th>concavity_se</th>\n",
              "      <th>concave points_se</th>\n",
              "      <th>symmetry_se</th>\n",
              "      <th>fractal_dimension_se</th>\n",
              "      <th>radius_worst</th>\n",
              "      <th>texture_worst</th>\n",
              "      <th>perimeter_worst</th>\n",
              "      <th>area_worst</th>\n",
              "      <th>smoothness_worst</th>\n",
              "      <th>compactness_worst</th>\n",
              "      <th>concavity_worst</th>\n",
              "      <th>concave points_worst</th>\n",
              "      <th>symmetry_worst</th>\n",
              "      <th>fractal_dimension_worst</th>\n",
              "    </tr>\n",
              "  </thead>\n",
              "  <tbody>\n",
              "    <tr>\n",
              "      <th>count</th>\n",
              "      <td>3.980000e+02</td>\n",
              "      <td>3.980000e+02</td>\n",
              "      <td>3.980000e+02</td>\n",
              "      <td>3.980000e+02</td>\n",
              "      <td>3.980000e+02</td>\n",
              "      <td>3.980000e+02</td>\n",
              "      <td>3.980000e+02</td>\n",
              "      <td>3.980000e+02</td>\n",
              "      <td>3.980000e+02</td>\n",
              "      <td>3.980000e+02</td>\n",
              "      <td>3.980000e+02</td>\n",
              "      <td>3.980000e+02</td>\n",
              "      <td>3.980000e+02</td>\n",
              "      <td>3.980000e+02</td>\n",
              "      <td>3.980000e+02</td>\n",
              "      <td>3.980000e+02</td>\n",
              "      <td>3.980000e+02</td>\n",
              "      <td>3.980000e+02</td>\n",
              "      <td>3.980000e+02</td>\n",
              "      <td>3.980000e+02</td>\n",
              "      <td>3.980000e+02</td>\n",
              "      <td>3.980000e+02</td>\n",
              "      <td>3.980000e+02</td>\n",
              "      <td>3.980000e+02</td>\n",
              "      <td>3.980000e+02</td>\n",
              "      <td>3.980000e+02</td>\n",
              "      <td>398.000000</td>\n",
              "      <td>3.980000e+02</td>\n",
              "      <td>3.980000e+02</td>\n",
              "      <td>3.980000e+02</td>\n",
              "      <td>3.980000e+02</td>\n",
              "    </tr>\n",
              "    <tr>\n",
              "      <th>mean</th>\n",
              "      <td>-4.114520e-17</td>\n",
              "      <td>2.008444e-17</td>\n",
              "      <td>-3.961097e-17</td>\n",
              "      <td>-3.068456e-17</td>\n",
              "      <td>-1.338962e-17</td>\n",
              "      <td>-6.136911e-18</td>\n",
              "      <td>-2.231604e-18</td>\n",
              "      <td>1.450543e-17</td>\n",
              "      <td>3.458986e-17</td>\n",
              "      <td>-1.450543e-17</td>\n",
              "      <td>3.152141e-17</td>\n",
              "      <td>-5.579010e-18</td>\n",
              "      <td>3.277668e-17</td>\n",
              "      <td>1.171592e-17</td>\n",
              "      <td>1.673703e-17</td>\n",
              "      <td>-1.255277e-17</td>\n",
              "      <td>-5.404666e-19</td>\n",
              "      <td>-6.935625e-18</td>\n",
              "      <td>-8.368515e-19</td>\n",
              "      <td>-1.394753e-17</td>\n",
              "      <td>1.157645e-17</td>\n",
              "      <td>-2.231604e-18</td>\n",
              "      <td>7.252713e-18</td>\n",
              "      <td>2.287394e-17</td>\n",
              "      <td>-1.841073e-17</td>\n",
              "      <td>-2.454764e-17</td>\n",
              "      <td>0.000000</td>\n",
              "      <td>2.398974e-17</td>\n",
              "      <td>4.574788e-17</td>\n",
              "      <td>-2.231604e-17</td>\n",
              "      <td>-1.590018e-17</td>\n",
              "    </tr>\n",
              "    <tr>\n",
              "      <th>std</th>\n",
              "      <td>1.001259e+00</td>\n",
              "      <td>1.001259e+00</td>\n",
              "      <td>1.001259e+00</td>\n",
              "      <td>1.001259e+00</td>\n",
              "      <td>1.001259e+00</td>\n",
              "      <td>1.001259e+00</td>\n",
              "      <td>1.001259e+00</td>\n",
              "      <td>1.001259e+00</td>\n",
              "      <td>1.001259e+00</td>\n",
              "      <td>1.001259e+00</td>\n",
              "      <td>1.001259e+00</td>\n",
              "      <td>1.001259e+00</td>\n",
              "      <td>1.001259e+00</td>\n",
              "      <td>1.001259e+00</td>\n",
              "      <td>1.001259e+00</td>\n",
              "      <td>1.001259e+00</td>\n",
              "      <td>1.001259e+00</td>\n",
              "      <td>1.001259e+00</td>\n",
              "      <td>1.001259e+00</td>\n",
              "      <td>1.001259e+00</td>\n",
              "      <td>1.001259e+00</td>\n",
              "      <td>1.001259e+00</td>\n",
              "      <td>1.001259e+00</td>\n",
              "      <td>1.001259e+00</td>\n",
              "      <td>1.001259e+00</td>\n",
              "      <td>1.001259e+00</td>\n",
              "      <td>1.001259</td>\n",
              "      <td>1.001259e+00</td>\n",
              "      <td>1.001259e+00</td>\n",
              "      <td>1.001259e+00</td>\n",
              "      <td>1.001259e+00</td>\n",
              "    </tr>\n",
              "    <tr>\n",
              "      <th>min</th>\n",
              "      <td>-2.325029e-01</td>\n",
              "      <td>-1.812924e+00</td>\n",
              "      <td>-2.227152e+00</td>\n",
              "      <td>-1.798127e+00</td>\n",
              "      <td>-1.346220e+00</td>\n",
              "      <td>-3.179090e+00</td>\n",
              "      <td>-1.631413e+00</td>\n",
              "      <td>-1.121289e+00</td>\n",
              "      <td>-1.269554e+00</td>\n",
              "      <td>-2.332845e+00</td>\n",
              "      <td>-1.874209e+00</td>\n",
              "      <td>-1.032442e+00</td>\n",
              "      <td>-1.545113e+00</td>\n",
              "      <td>-1.018037e+00</td>\n",
              "      <td>-7.001655e-01</td>\n",
              "      <td>-1.886163e+00</td>\n",
              "      <td>-1.344606e+00</td>\n",
              "      <td>-1.012515e+00</td>\n",
              "      <td>-1.945866e+00</td>\n",
              "      <td>-1.347214e+00</td>\n",
              "      <td>-1.086052e+00</td>\n",
              "      <td>-1.562494e+00</td>\n",
              "      <td>-2.213766e+00</td>\n",
              "      <td>-1.556811e+00</td>\n",
              "      <td>-1.135161e+00</td>\n",
              "      <td>-2.649784e+00</td>\n",
              "      <td>-1.412156</td>\n",
              "      <td>-1.288776e+00</td>\n",
              "      <td>-1.750373e+00</td>\n",
              "      <td>-2.033862e+00</td>\n",
              "      <td>-1.554408e+00</td>\n",
              "    </tr>\n",
              "    <tr>\n",
              "      <th>25%</th>\n",
              "      <td>-2.258051e-01</td>\n",
              "      <td>-6.638093e-01</td>\n",
              "      <td>-7.551246e-01</td>\n",
              "      <td>-6.567991e-01</td>\n",
              "      <td>-6.377247e-01</td>\n",
              "      <td>-7.067358e-01</td>\n",
              "      <td>-7.384838e-01</td>\n",
              "      <td>-7.389671e-01</td>\n",
              "      <td>-7.449945e-01</td>\n",
              "      <td>-6.983844e-01</td>\n",
              "      <td>-7.327396e-01</td>\n",
              "      <td>-6.080805e-01</td>\n",
              "      <td>-6.796712e-01</td>\n",
              "      <td>-5.899124e-01</td>\n",
              "      <td>-4.713669e-01</td>\n",
              "      <td>-6.377602e-01</td>\n",
              "      <td>-7.284705e-01</td>\n",
              "      <td>-5.378198e-01</td>\n",
              "      <td>-6.836998e-01</td>\n",
              "      <td>-6.431505e-01</td>\n",
              "      <td>-5.770945e-01</td>\n",
              "      <td>-6.580027e-01</td>\n",
              "      <td>-7.336663e-01</td>\n",
              "      <td>-6.726195e-01</td>\n",
              "      <td>-6.279021e-01</td>\n",
              "      <td>-6.946856e-01</td>\n",
              "      <td>-0.712464</td>\n",
              "      <td>-7.640086e-01</td>\n",
              "      <td>-7.686541e-01</td>\n",
              "      <td>-6.841562e-01</td>\n",
              "      <td>-6.819096e-01</td>\n",
              "    </tr>\n",
              "    <tr>\n",
              "      <th>50%</th>\n",
              "      <td>-2.255141e-01</td>\n",
              "      <td>-2.419861e-01</td>\n",
              "      <td>-1.109305e-01</td>\n",
              "      <td>-2.443057e-01</td>\n",
              "      <td>-3.137653e-01</td>\n",
              "      <td>-4.634336e-02</td>\n",
              "      <td>-2.607476e-01</td>\n",
              "      <td>-3.707636e-01</td>\n",
              "      <td>-3.991643e-01</td>\n",
              "      <td>-8.717467e-02</td>\n",
              "      <td>-1.749223e-01</td>\n",
              "      <td>-2.774684e-01</td>\n",
              "      <td>-2.469957e-01</td>\n",
              "      <td>-2.693323e-01</td>\n",
              "      <td>-3.228908e-01</td>\n",
              "      <td>-2.033742e-01</td>\n",
              "      <td>-2.634956e-01</td>\n",
              "      <td>-1.823717e-01</td>\n",
              "      <td>-1.654392e-01</td>\n",
              "      <td>-2.264073e-01</td>\n",
              "      <td>-1.955735e-01</td>\n",
              "      <td>-2.768766e-01</td>\n",
              "      <td>-6.599515e-02</td>\n",
              "      <td>-2.873811e-01</td>\n",
              "      <td>-3.421607e-01</td>\n",
              "      <td>-3.409204e-02</td>\n",
              "      <td>-0.277526</td>\n",
              "      <td>-2.279860e-01</td>\n",
              "      <td>-2.145715e-01</td>\n",
              "      <td>-1.179660e-01</td>\n",
              "      <td>-2.501564e-01</td>\n",
              "    </tr>\n",
              "    <tr>\n",
              "      <th>75%</th>\n",
              "      <td>-1.645068e-01</td>\n",
              "      <td>4.034884e-01</td>\n",
              "      <td>6.014724e-01</td>\n",
              "      <td>4.398349e-01</td>\n",
              "      <td>2.573858e-01</td>\n",
              "      <td>6.898793e-01</td>\n",
              "      <td>5.097357e-01</td>\n",
              "      <td>5.073275e-01</td>\n",
              "      <td>6.543875e-01</td>\n",
              "      <td>5.532708e-01</td>\n",
              "      <td>5.298996e-01</td>\n",
              "      <td>2.375286e-01</td>\n",
              "      <td>4.643954e-01</td>\n",
              "      <td>2.155859e-01</td>\n",
              "      <td>6.901351e-02</td>\n",
              "      <td>3.776204e-01</td>\n",
              "      <td>4.294225e-01</td>\n",
              "      <td>3.145439e-01</td>\n",
              "      <td>4.651285e-01</td>\n",
              "      <td>3.372957e-01</td>\n",
              "      <td>2.917379e-01</td>\n",
              "      <td>4.234876e-01</td>\n",
              "      <td>6.809671e-01</td>\n",
              "      <td>4.921217e-01</td>\n",
              "      <td>2.576927e-01</td>\n",
              "      <td>5.866937e-01</td>\n",
              "      <td>0.522139</td>\n",
              "      <td>5.045314e-01</td>\n",
              "      <td>7.094033e-01</td>\n",
              "      <td>4.796791e-01</td>\n",
              "      <td>4.198193e-01</td>\n",
              "    </tr>\n",
              "    <tr>\n",
              "      <th>max</th>\n",
              "      <td>6.886835e+00</td>\n",
              "      <td>3.967753e+00</td>\n",
              "      <td>3.392786e+00</td>\n",
              "      <td>3.966121e+00</td>\n",
              "      <td>5.159767e+00</td>\n",
              "      <td>3.326744e+00</td>\n",
              "      <td>3.447287e+00</td>\n",
              "      <td>4.011321e+00</td>\n",
              "      <td>3.646464e+00</td>\n",
              "      <td>4.511973e+00</td>\n",
              "      <td>5.036466e+00</td>\n",
              "      <td>8.779008e+00</td>\n",
              "      <td>6.709031e+00</td>\n",
              "      <td>9.240043e+00</td>\n",
              "      <td>1.041785e+01</td>\n",
              "      <td>5.268409e+00</td>\n",
              "      <td>4.762103e+00</td>\n",
              "      <td>1.151317e+01</td>\n",
              "      <td>6.756793e+00</td>\n",
              "      <td>4.998158e+00</td>\n",
              "      <td>9.772553e+00</td>\n",
              "      <td>4.082091e+00</td>\n",
              "      <td>3.888798e+00</td>\n",
              "      <td>4.264602e+00</td>\n",
              "      <td>5.837152e+00</td>\n",
              "      <td>3.686319e+00</td>\n",
              "      <td>4.992064</td>\n",
              "      <td>4.582618e+00</td>\n",
              "      <td>2.583428e+00</td>\n",
              "      <td>6.119930e+00</td>\n",
              "      <td>6.621121e+00</td>\n",
              "    </tr>\n",
              "  </tbody>\n",
              "</table>\n",
              "</div>"
            ],
            "text/plain": [
              "                 id   radius_mean  ...  symmetry_worst  fractal_dimension_worst\n",
              "count  3.980000e+02  3.980000e+02  ...    3.980000e+02             3.980000e+02\n",
              "mean  -4.114520e-17  2.008444e-17  ...   -2.231604e-17            -1.590018e-17\n",
              "std    1.001259e+00  1.001259e+00  ...    1.001259e+00             1.001259e+00\n",
              "min   -2.325029e-01 -1.812924e+00  ...   -2.033862e+00            -1.554408e+00\n",
              "25%   -2.258051e-01 -6.638093e-01  ...   -6.841562e-01            -6.819096e-01\n",
              "50%   -2.255141e-01 -2.419861e-01  ...   -1.179660e-01            -2.501564e-01\n",
              "75%   -1.645068e-01  4.034884e-01  ...    4.796791e-01             4.198193e-01\n",
              "max    6.886835e+00  3.967753e+00  ...    6.119930e+00             6.621121e+00\n",
              "\n",
              "[8 rows x 31 columns]"
            ]
          },
          "metadata": {
            "tags": []
          },
          "execution_count": 17
        }
      ]
    },
    {
      "cell_type": "code",
      "metadata": {
        "id": "0mJz82OiZ9cj",
        "colab_type": "code",
        "outputId": "1f77a6dc-0071-4139-d818-e823784b99c1",
        "colab": {
          "base_uri": "https://localhost:8080/",
          "height": 438
        }
      },
      "source": [
        "x_test.loc[x_test.index,x_test.columns] = norm_xtest\n",
        "x_test.describe()"
      ],
      "execution_count": 0,
      "outputs": [
        {
          "output_type": "stream",
          "text": [
            "/usr/local/lib/python3.6/dist-packages/pandas/core/indexing.py:966: SettingWithCopyWarning: \n",
            "A value is trying to be set on a copy of a slice from a DataFrame.\n",
            "Try using .loc[row_indexer,col_indexer] = value instead\n",
            "\n",
            "See the caveats in the documentation: https://pandas.pydata.org/pandas-docs/stable/user_guide/indexing.html#returning-a-view-versus-a-copy\n",
            "  self.obj[item] = s\n"
          ],
          "name": "stderr"
        },
        {
          "output_type": "execute_result",
          "data": {
            "text/html": [
              "<div>\n",
              "<style scoped>\n",
              "    .dataframe tbody tr th:only-of-type {\n",
              "        vertical-align: middle;\n",
              "    }\n",
              "\n",
              "    .dataframe tbody tr th {\n",
              "        vertical-align: top;\n",
              "    }\n",
              "\n",
              "    .dataframe thead th {\n",
              "        text-align: right;\n",
              "    }\n",
              "</style>\n",
              "<table border=\"1\" class=\"dataframe\">\n",
              "  <thead>\n",
              "    <tr style=\"text-align: right;\">\n",
              "      <th></th>\n",
              "      <th>id</th>\n",
              "      <th>radius_mean</th>\n",
              "      <th>texture_mean</th>\n",
              "      <th>perimeter_mean</th>\n",
              "      <th>area_mean</th>\n",
              "      <th>smoothness_mean</th>\n",
              "      <th>compactness_mean</th>\n",
              "      <th>concavity_mean</th>\n",
              "      <th>concave points_mean</th>\n",
              "      <th>symmetry_mean</th>\n",
              "      <th>fractal_dimension_mean</th>\n",
              "      <th>radius_se</th>\n",
              "      <th>texture_se</th>\n",
              "      <th>perimeter_se</th>\n",
              "      <th>area_se</th>\n",
              "      <th>smoothness_se</th>\n",
              "      <th>compactness_se</th>\n",
              "      <th>concavity_se</th>\n",
              "      <th>concave points_se</th>\n",
              "      <th>symmetry_se</th>\n",
              "      <th>fractal_dimension_se</th>\n",
              "      <th>radius_worst</th>\n",
              "      <th>texture_worst</th>\n",
              "      <th>perimeter_worst</th>\n",
              "      <th>area_worst</th>\n",
              "      <th>smoothness_worst</th>\n",
              "      <th>compactness_worst</th>\n",
              "      <th>concavity_worst</th>\n",
              "      <th>concave points_worst</th>\n",
              "      <th>symmetry_worst</th>\n",
              "      <th>fractal_dimension_worst</th>\n",
              "    </tr>\n",
              "  </thead>\n",
              "  <tbody>\n",
              "    <tr>\n",
              "      <th>count</th>\n",
              "      <td>1.710000e+02</td>\n",
              "      <td>171.000000</td>\n",
              "      <td>171.000000</td>\n",
              "      <td>171.000000</td>\n",
              "      <td>171.000000</td>\n",
              "      <td>171.000000</td>\n",
              "      <td>171.000000</td>\n",
              "      <td>1.710000e+02</td>\n",
              "      <td>1.710000e+02</td>\n",
              "      <td>171.000000</td>\n",
              "      <td>171.000000</td>\n",
              "      <td>171.000000</td>\n",
              "      <td>171.000000</td>\n",
              "      <td>171.000000</td>\n",
              "      <td>171.000000</td>\n",
              "      <td>171.000000</td>\n",
              "      <td>171.000000</td>\n",
              "      <td>1.710000e+02</td>\n",
              "      <td>1.710000e+02</td>\n",
              "      <td>171.000000</td>\n",
              "      <td>171.000000</td>\n",
              "      <td>171.000000</td>\n",
              "      <td>171.000000</td>\n",
              "      <td>171.000000</td>\n",
              "      <td>171.000000</td>\n",
              "      <td>171.000000</td>\n",
              "      <td>171.000000</td>\n",
              "      <td>1.710000e+02</td>\n",
              "      <td>1.710000e+02</td>\n",
              "      <td>171.000000</td>\n",
              "      <td>171.000000</td>\n",
              "    </tr>\n",
              "    <tr>\n",
              "      <th>mean</th>\n",
              "      <td>3.177149e+07</td>\n",
              "      <td>14.203000</td>\n",
              "      <td>19.357018</td>\n",
              "      <td>92.424854</td>\n",
              "      <td>660.104678</td>\n",
              "      <td>0.095930</td>\n",
              "      <td>0.104318</td>\n",
              "      <td>8.659849e-02</td>\n",
              "      <td>4.779316e-02</td>\n",
              "      <td>0.182620</td>\n",
              "      <td>0.062706</td>\n",
              "      <td>0.404437</td>\n",
              "      <td>1.234384</td>\n",
              "      <td>2.872660</td>\n",
              "      <td>39.913444</td>\n",
              "      <td>0.007135</td>\n",
              "      <td>0.026163</td>\n",
              "      <td>3.162147e-02</td>\n",
              "      <td>1.177889e-02</td>\n",
              "      <td>0.020495</td>\n",
              "      <td>0.003807</td>\n",
              "      <td>16.308842</td>\n",
              "      <td>25.785380</td>\n",
              "      <td>107.646140</td>\n",
              "      <td>882.432164</td>\n",
              "      <td>0.131499</td>\n",
              "      <td>0.253565</td>\n",
              "      <td>2.660751e-01</td>\n",
              "      <td>1.118397e-01</td>\n",
              "      <td>0.291952</td>\n",
              "      <td>0.083436</td>\n",
              "    </tr>\n",
              "    <tr>\n",
              "      <th>std</th>\n",
              "      <td>1.177258e+08</td>\n",
              "      <td>3.503514</td>\n",
              "      <td>4.329944</td>\n",
              "      <td>24.082455</td>\n",
              "      <td>336.621543</td>\n",
              "      <td>0.014624</td>\n",
              "      <td>0.054480</td>\n",
              "      <td>7.892750e-02</td>\n",
              "      <td>3.851862e-02</td>\n",
              "      <td>0.027477</td>\n",
              "      <td>0.007485</td>\n",
              "      <td>0.268310</td>\n",
              "      <td>0.560000</td>\n",
              "      <td>1.907149</td>\n",
              "      <td>38.534583</td>\n",
              "      <td>0.003422</td>\n",
              "      <td>0.019746</td>\n",
              "      <td>2.653938e-02</td>\n",
              "      <td>6.407850e-03</td>\n",
              "      <td>0.008459</td>\n",
              "      <td>0.002600</td>\n",
              "      <td>4.799512</td>\n",
              "      <td>6.140253</td>\n",
              "      <td>33.154484</td>\n",
              "      <td>548.442733</td>\n",
              "      <td>0.021832</td>\n",
              "      <td>0.148550</td>\n",
              "      <td>1.972671e-01</td>\n",
              "      <td>6.464840e-02</td>\n",
              "      <td>0.063366</td>\n",
              "      <td>0.016649</td>\n",
              "    </tr>\n",
              "    <tr>\n",
              "      <th>min</th>\n",
              "      <td>8.670000e+03</td>\n",
              "      <td>6.981000</td>\n",
              "      <td>10.720000</td>\n",
              "      <td>43.790000</td>\n",
              "      <td>143.500000</td>\n",
              "      <td>0.065760</td>\n",
              "      <td>0.034540</td>\n",
              "      <td>-2.677925e-17</td>\n",
              "      <td>-2.231604e-17</td>\n",
              "      <td>0.106000</td>\n",
              "      <td>0.050240</td>\n",
              "      <td>0.111500</td>\n",
              "      <td>0.360200</td>\n",
              "      <td>0.981200</td>\n",
              "      <td>7.228000</td>\n",
              "      <td>0.002667</td>\n",
              "      <td>0.004899</td>\n",
              "      <td>-1.115802e-18</td>\n",
              "      <td>-9.595897e-17</td>\n",
              "      <td>0.007882</td>\n",
              "      <td>0.001126</td>\n",
              "      <td>7.930000</td>\n",
              "      <td>12.870000</td>\n",
              "      <td>50.410000</td>\n",
              "      <td>185.200000</td>\n",
              "      <td>0.084090</td>\n",
              "      <td>0.046190</td>\n",
              "      <td>1.160434e-16</td>\n",
              "      <td>1.115802e-16</td>\n",
              "      <td>0.156500</td>\n",
              "      <td>0.055040</td>\n",
              "    </tr>\n",
              "    <tr>\n",
              "      <th>25%</th>\n",
              "      <td>8.815335e+05</td>\n",
              "      <td>11.540000</td>\n",
              "      <td>16.335000</td>\n",
              "      <td>74.085000</td>\n",
              "      <td>404.950000</td>\n",
              "      <td>0.085010</td>\n",
              "      <td>0.063315</td>\n",
              "      <td>2.623500e-02</td>\n",
              "      <td>1.989500e-02</td>\n",
              "      <td>0.163750</td>\n",
              "      <td>0.057595</td>\n",
              "      <td>0.227650</td>\n",
              "      <td>0.823700</td>\n",
              "      <td>1.565500</td>\n",
              "      <td>18.170000</td>\n",
              "      <td>0.005084</td>\n",
              "      <td>0.013690</td>\n",
              "      <td>1.512000e-02</td>\n",
              "      <td>7.599000e-03</td>\n",
              "      <td>0.014875</td>\n",
              "      <td>0.002231</td>\n",
              "      <td>12.840000</td>\n",
              "      <td>21.010000</td>\n",
              "      <td>83.755000</td>\n",
              "      <td>499.850000</td>\n",
              "      <td>0.118500</td>\n",
              "      <td>0.155300</td>\n",
              "      <td>1.203500e-01</td>\n",
              "      <td>6.450000e-02</td>\n",
              "      <td>0.255300</td>\n",
              "      <td>0.071670</td>\n",
              "    </tr>\n",
              "    <tr>\n",
              "      <th>50%</th>\n",
              "      <td>9.135050e+05</td>\n",
              "      <td>13.510000</td>\n",
              "      <td>18.900000</td>\n",
              "      <td>87.500000</td>\n",
              "      <td>559.200000</td>\n",
              "      <td>0.095780</td>\n",
              "      <td>0.095880</td>\n",
              "      <td>6.505000e-02</td>\n",
              "      <td>3.279000e-02</td>\n",
              "      <td>0.181300</td>\n",
              "      <td>0.061300</td>\n",
              "      <td>0.309300</td>\n",
              "      <td>1.166000</td>\n",
              "      <td>2.230000</td>\n",
              "      <td>23.240000</td>\n",
              "      <td>0.006113</td>\n",
              "      <td>0.019570</td>\n",
              "      <td>2.509000e-02</td>\n",
              "      <td>1.110000e-02</td>\n",
              "      <td>0.018840</td>\n",
              "      <td>0.003053</td>\n",
              "      <td>15.100000</td>\n",
              "      <td>25.500000</td>\n",
              "      <td>98.910000</td>\n",
              "      <td>699.400000</td>\n",
              "      <td>0.130900</td>\n",
              "      <td>0.217000</td>\n",
              "      <td>2.310000e-01</td>\n",
              "      <td>9.514000e-02</td>\n",
              "      <td>0.282700</td>\n",
              "      <td>0.080520</td>\n",
              "    </tr>\n",
              "    <tr>\n",
              "      <th>75%</th>\n",
              "      <td>9.010428e+06</td>\n",
              "      <td>16.220000</td>\n",
              "      <td>21.510000</td>\n",
              "      <td>106.750000</td>\n",
              "      <td>811.750000</td>\n",
              "      <td>0.103450</td>\n",
              "      <td>0.129500</td>\n",
              "      <td>1.293500e-01</td>\n",
              "      <td>6.612000e-02</td>\n",
              "      <td>0.195800</td>\n",
              "      <td>0.065230</td>\n",
              "      <td>0.500550</td>\n",
              "      <td>1.505500</td>\n",
              "      <td>3.363000</td>\n",
              "      <td>48.655000</td>\n",
              "      <td>0.008432</td>\n",
              "      <td>0.032050</td>\n",
              "      <td>4.174500e-02</td>\n",
              "      <td>1.493500e-02</td>\n",
              "      <td>0.023530</td>\n",
              "      <td>0.004433</td>\n",
              "      <td>19.515000</td>\n",
              "      <td>29.460000</td>\n",
              "      <td>129.250000</td>\n",
              "      <td>1170.000000</td>\n",
              "      <td>0.145650</td>\n",
              "      <td>0.337350</td>\n",
              "      <td>3.826000e-01</td>\n",
              "      <td>1.574000e-01</td>\n",
              "      <td>0.315400</td>\n",
              "      <td>0.092195</td>\n",
              "    </tr>\n",
              "    <tr>\n",
              "      <th>max</th>\n",
              "      <td>8.810948e+08</td>\n",
              "      <td>24.250000</td>\n",
              "      <td>39.280000</td>\n",
              "      <td>166.200000</td>\n",
              "      <td>1761.000000</td>\n",
              "      <td>0.163400</td>\n",
              "      <td>0.345400</td>\n",
              "      <td>4.268000e-01</td>\n",
              "      <td>2.012000e-01</td>\n",
              "      <td>0.290600</td>\n",
              "      <td>0.095020</td>\n",
              "      <td>1.509000</td>\n",
              "      <td>3.896000</td>\n",
              "      <td>10.120000</td>\n",
              "      <td>233.000000</td>\n",
              "      <td>0.031130</td>\n",
              "      <td>0.135400</td>\n",
              "      <td>1.535000e-01</td>\n",
              "      <td>3.927000e-02</td>\n",
              "      <td>0.078950</td>\n",
              "      <td>0.021930</td>\n",
              "      <td>32.490000</td>\n",
              "      <td>47.160000</td>\n",
              "      <td>214.000000</td>\n",
              "      <td>3432.000000</td>\n",
              "      <td>0.222600</td>\n",
              "      <td>0.932700</td>\n",
              "      <td>9.608000e-01</td>\n",
              "      <td>2.910000e-01</td>\n",
              "      <td>0.544000</td>\n",
              "      <td>0.148600</td>\n",
              "    </tr>\n",
              "  </tbody>\n",
              "</table>\n",
              "</div>"
            ],
            "text/plain": [
              "                 id  radius_mean  ...  symmetry_worst  fractal_dimension_worst\n",
              "count  1.710000e+02   171.000000  ...      171.000000               171.000000\n",
              "mean   3.177149e+07    14.203000  ...        0.291952                 0.083436\n",
              "std    1.177258e+08     3.503514  ...        0.063366                 0.016649\n",
              "min    8.670000e+03     6.981000  ...        0.156500                 0.055040\n",
              "25%    8.815335e+05    11.540000  ...        0.255300                 0.071670\n",
              "50%    9.135050e+05    13.510000  ...        0.282700                 0.080520\n",
              "75%    9.010428e+06    16.220000  ...        0.315400                 0.092195\n",
              "max    8.810948e+08    24.250000  ...        0.544000                 0.148600\n",
              "\n",
              "[8 rows x 31 columns]"
            ]
          },
          "metadata": {
            "tags": []
          },
          "execution_count": 18
        }
      ]
    },
    {
      "cell_type": "markdown",
      "metadata": {
        "colab_type": "text",
        "id": "zLQ2660-dji3"
      },
      "source": [
        "###Checking the imbalance"
      ]
    },
    {
      "cell_type": "markdown",
      "metadata": {
        "id": "pdec4AyCuI7h",
        "colab_type": "text"
      },
      "source": [
        "####Bar Graph for distribution"
      ]
    },
    {
      "cell_type": "code",
      "metadata": {
        "id": "eTCSndNptnj0",
        "colab_type": "code",
        "outputId": "de054287-68ed-46bd-a80d-e635c58c4edb",
        "colab": {
          "base_uri": "https://localhost:8080/",
          "height": 330
        }
      },
      "source": [
        "plt.title('Target Variable distribution n \\n (1: Malignant || 0: Benign)', fontsize=14)\n",
        "sns.countplot(y,data=cancerdf)"
      ],
      "execution_count": 0,
      "outputs": [
        {
          "output_type": "execute_result",
          "data": {
            "text/plain": [
              "<matplotlib.axes._subplots.AxesSubplot at 0x7f9c1cbeb080>"
            ]
          },
          "metadata": {
            "tags": []
          },
          "execution_count": 19
        },
        {
          "output_type": "display_data",
          "data": {
            "image/png": "[encoded data removed]",
            "text/plain": [
              "<Figure size 432x288 with 1 Axes>"
            ]
          },
          "metadata": {
            "tags": [],
            "needs_background": "light"
          }
        }
      ]
    },
    {
      "cell_type": "markdown",
      "metadata": {
        "id": "JF9oCZOhuQIZ",
        "colab_type": "text"
      },
      "source": [
        "####Pie Chart Representing Percentage of Imbalance"
      ]
    },
    {
      "cell_type": "code",
      "metadata": {
        "id": "oOVUu8WYuEmR",
        "colab_type": "code",
        "outputId": "c7b29220-a432-4949-e99e-0d7511258c8f",
        "colab": {
          "base_uri": "https://localhost:8080/",
          "height": 50
        }
      },
      "source": [
        "Benign=len(cancerdf[cancerdf['diagnosis']==0])\n",
        "Malignant= len(cancerdf[cancerdf['diagnosis']==1])\n",
        "\n",
        "Benign_percentage= Benign/(Malignant+Benign)\n",
        "Malignant_percentage= Malignant/(Malignant+Benign)\n",
        "\n",
        "print(\"Benign percentage is\", Benign_percentage*100)\n",
        "print(\"Malignant percentage is\", Malignant_percentage*100)"
      ],
      "execution_count": 0,
      "outputs": [
        {
          "output_type": "stream",
          "text": [
            "Benign percentage is 62.741652021089635\n",
            "Malignant percentage is 37.258347978910365\n"
          ],
          "name": "stdout"
        }
      ]
    },
    {
      "cell_type": "code",
      "metadata": {
        "id": "wd3eealimrK4",
        "colab_type": "code",
        "outputId": "ddd6c09c-7449-4612-ab2d-1e1db2b9cffa",
        "colab": {
          "base_uri": "https://localhost:8080/",
          "height": 249
        }
      },
      "source": [
        "var_value = 'Malignant','Benign'\n",
        "size=[Malignant_percentage,Benign_percentage]\n",
        "design=(0.3,0)\n",
        "fig, axi =plt.subplots()\n",
        "axi.pie(size,explode=design,labels=var_value,autopct='%1.1f%%', shadow= True, startangle=10)\n",
        "axi.axis('equal')\n",
        "plt.show()"
      ],
      "execution_count": 0,
      "outputs": [
        {
          "output_type": "display_data",
          "data": {
            "image/png": "[encoded data removed]",
            "text/plain": [
              "<Figure size 432x288 with 1 Axes>"
            ]
          },
          "metadata": {
            "tags": []
          }
        }
      ]
    },
    {
      "cell_type": "markdown",
      "metadata": {
        "id": "FmD7nCowm1NG",
        "colab_type": "text"
      },
      "source": [
        "###Inspection of Dataset for some features"
      ]
    },
    {
      "cell_type": "code",
      "metadata": {
        "id": "kckxOCbLnaj_",
        "colab_type": "code",
        "outputId": "c99130ef-c36c-4d44-e1ed-2a04f7a11b88",
        "colab": {
          "base_uri": "https://localhost:8080/",
          "height": 349
        }
      },
      "source": [
        "#train data\n",
        "data = x_train.symmetry_se\n",
        "plt.hist(data)"
      ],
      "execution_count": 0,
      "outputs": [
        {
          "output_type": "execute_result",
          "data": {
            "text/plain": [
              "(array([ 85., 148.,  82.,  42.,  19.,   8.,   7.,   1.,   3.,   3.]),\n",
              " array([-1.34721409, -0.71267689, -0.07813968,  0.55639752,  1.19093472,\n",
              "         1.82547193,  2.46000913,  3.09454634,  3.72908354,  4.36362075,\n",
              "         4.99815795]),\n",
              " <a list of 10 Patch objects>)"
            ]
          },
          "metadata": {
            "tags": []
          },
          "execution_count": 27
        },
        {
          "output_type": "display_data",
          "data": {
            "image/png": "[encoded data removed]",
            "text/plain": [
              "<Figure size 432x288 with 1 Axes>"
            ]
          },
          "metadata": {
            "tags": [],
            "needs_background": "light"
          }
        }
      ]
    },
    {
      "cell_type": "code",
      "metadata": {
        "id": "654wUsj0Qogu",
        "colab_type": "code",
        "outputId": "386d2fa2-559f-4f51-8117-9bdc8e75d477",
        "colab": {
          "base_uri": "https://localhost:8080/",
          "height": 332
        }
      },
      "source": [
        "#test data \n",
        "data1 = x_test.symmetry_se\n",
        "plt.hist(data1)"
      ],
      "execution_count": 0,
      "outputs": [
        {
          "output_type": "execute_result",
          "data": {
            "text/plain": [
              "(array([47., 69., 35., 15.,  1.,  2.,  1.,  0.,  0.,  1.]),\n",
              " array([0.007882 , 0.0149888, 0.0220956, 0.0292024, 0.0363092, 0.043416 ,\n",
              "        0.0505228, 0.0576296, 0.0647364, 0.0718432, 0.07895  ]),\n",
              " <a list of 10 Patch objects>)"
            ]
          },
          "metadata": {
            "tags": []
          },
          "execution_count": 28
        },
        {
          "output_type": "display_data",
          "data": {
            "image/png": "[encoded data removed]",
            "text/plain": [
              "<Figure size 432x288 with 1 Axes>"
            ]
          },
          "metadata": {
            "tags": [],
            "needs_background": "light"
          }
        }
      ]
    },
    {
      "cell_type": "code",
      "metadata": {
        "id": "Uw_CHREIgt78",
        "colab_type": "code",
        "outputId": "90c4946d-9c7a-4e90-fd3a-d9a695af6408",
        "colab": {
          "base_uri": "https://localhost:8080/",
          "height": 349
        }
      },
      "source": [
        "#train data\n",
        "data = x_train.fractal_dimension_worst\n",
        "plt.hist(data)"
      ],
      "execution_count": 0,
      "outputs": [
        {
          "output_type": "execute_result",
          "data": {
            "text/plain": [
              "(array([ 89., 167.,  76.,  38.,  18.,   8.,   0.,   1.,   0.,   1.]),\n",
              " array([-1.55440808, -0.73685516,  0.08069777,  0.8982507 ,  1.71580363,\n",
              "         2.53335656,  3.35090949,  4.16846241,  4.98601534,  5.80356827,\n",
              "         6.6211212 ]),\n",
              " <a list of 10 Patch objects>)"
            ]
          },
          "metadata": {
            "tags": []
          },
          "execution_count": 29
        },
        {
          "output_type": "display_data",
          "data": {
            "image/png": "[encoded data removed]",
            "text/plain": [
              "<Figure size 432x288 with 1 Axes>"
            ]
          },
          "metadata": {
            "tags": [],
            "needs_background": "light"
          }
        }
      ]
    },
    {
      "cell_type": "code",
      "metadata": {
        "id": "_DYN7bmNlH7x",
        "colab_type": "code",
        "outputId": "1521722a-bb01-4028-b24c-e4050c8f0c31",
        "colab": {
          "base_uri": "https://localhost:8080/",
          "height": 332
        }
      },
      "source": [
        "#test data \n",
        "data = x_test.fractal_dimension_worst\n",
        "plt.hist(data)"
      ],
      "execution_count": 0,
      "outputs": [
        {
          "output_type": "execute_result",
          "data": {
            "text/plain": [
              "(array([14., 34., 53., 29., 19., 13.,  2.,  5.,  0.,  2.]),\n",
              " array([0.05504 , 0.064396, 0.073752, 0.083108, 0.092464, 0.10182 ,\n",
              "        0.111176, 0.120532, 0.129888, 0.139244, 0.1486  ]),\n",
              " <a list of 10 Patch objects>)"
            ]
          },
          "metadata": {
            "tags": []
          },
          "execution_count": 30
        },
        {
          "output_type": "display_data",
          "data": {
            "image/png": "[encoded data removed]",
            "text/plain": [
              "<Figure size 432x288 with 1 Axes>"
            ]
          },
          "metadata": {
            "tags": [],
            "needs_background": "light"
          }
        }
      ]
    },
    {
      "cell_type": "code",
      "metadata": {
        "id": "K5Cz89YOo3oh",
        "colab_type": "code",
        "outputId": "d3ec3416-d7ab-4280-90cf-8df2358d6a66",
        "colab": {
          "base_uri": "https://localhost:8080/",
          "height": 1000
        }
      },
      "source": [
        "cancerdf.corr()"
      ],
      "execution_count": 0,
      "outputs": [
        {
          "output_type": "execute_result",
          "data": {
            "text/html": [
              "<div>\n",
              "<style scoped>\n",
              "    .dataframe tbody tr th:only-of-type {\n",
              "        vertical-align: middle;\n",
              "    }\n",
              "\n",
              "    .dataframe tbody tr th {\n",
              "        vertical-align: top;\n",
              "    }\n",
              "\n",
              "    .dataframe thead th {\n",
              "        text-align: right;\n",
              "    }\n",
              "</style>\n",
              "<table border=\"1\" class=\"dataframe\">\n",
              "  <thead>\n",
              "    <tr style=\"text-align: right;\">\n",
              "      <th></th>\n",
              "      <th>id</th>\n",
              "      <th>diagnosis</th>\n",
              "      <th>radius_mean</th>\n",
              "      <th>texture_mean</th>\n",
              "      <th>perimeter_mean</th>\n",
              "      <th>area_mean</th>\n",
              "      <th>smoothness_mean</th>\n",
              "      <th>compactness_mean</th>\n",
              "      <th>concavity_mean</th>\n",
              "      <th>concave points_mean</th>\n",
              "      <th>symmetry_mean</th>\n",
              "      <th>fractal_dimension_mean</th>\n",
              "      <th>radius_se</th>\n",
              "      <th>texture_se</th>\n",
              "      <th>perimeter_se</th>\n",
              "      <th>area_se</th>\n",
              "      <th>smoothness_se</th>\n",
              "      <th>compactness_se</th>\n",
              "      <th>concavity_se</th>\n",
              "      <th>concave points_se</th>\n",
              "      <th>symmetry_se</th>\n",
              "      <th>fractal_dimension_se</th>\n",
              "      <th>radius_worst</th>\n",
              "      <th>texture_worst</th>\n",
              "      <th>perimeter_worst</th>\n",
              "      <th>area_worst</th>\n",
              "      <th>smoothness_worst</th>\n",
              "      <th>compactness_worst</th>\n",
              "      <th>concavity_worst</th>\n",
              "      <th>concave points_worst</th>\n",
              "      <th>symmetry_worst</th>\n",
              "      <th>fractal_dimension_worst</th>\n",
              "    </tr>\n",
              "  </thead>\n",
              "  <tbody>\n",
              "    <tr>\n",
              "      <th>id</th>\n",
              "      <td>1.000000</td>\n",
              "      <td>0.039769</td>\n",
              "      <td>0.074626</td>\n",
              "      <td>0.099770</td>\n",
              "      <td>0.073159</td>\n",
              "      <td>0.096893</td>\n",
              "      <td>-0.012968</td>\n",
              "      <td>0.000096</td>\n",
              "      <td>0.050080</td>\n",
              "      <td>0.044158</td>\n",
              "      <td>-0.022114</td>\n",
              "      <td>-0.052511</td>\n",
              "      <td>0.143048</td>\n",
              "      <td>-0.007526</td>\n",
              "      <td>0.137331</td>\n",
              "      <td>0.177742</td>\n",
              "      <td>0.096781</td>\n",
              "      <td>0.033961</td>\n",
              "      <td>0.055239</td>\n",
              "      <td>0.078768</td>\n",
              "      <td>-0.017306</td>\n",
              "      <td>0.025725</td>\n",
              "      <td>0.082405</td>\n",
              "      <td>0.064720</td>\n",
              "      <td>0.079986</td>\n",
              "      <td>0.107187</td>\n",
              "      <td>0.010338</td>\n",
              "      <td>-0.002968</td>\n",
              "      <td>0.023203</td>\n",
              "      <td>0.035174</td>\n",
              "      <td>-0.044224</td>\n",
              "      <td>-0.029866</td>\n",
              "    </tr>\n",
              "    <tr>\n",
              "      <th>diagnosis</th>\n",
              "      <td>0.039769</td>\n",
              "      <td>1.000000</td>\n",
              "      <td>0.730029</td>\n",
              "      <td>0.415185</td>\n",
              "      <td>0.742636</td>\n",
              "      <td>0.708984</td>\n",
              "      <td>0.358560</td>\n",
              "      <td>0.596534</td>\n",
              "      <td>0.696360</td>\n",
              "      <td>0.776614</td>\n",
              "      <td>0.330499</td>\n",
              "      <td>-0.012838</td>\n",
              "      <td>0.567134</td>\n",
              "      <td>-0.008303</td>\n",
              "      <td>0.556141</td>\n",
              "      <td>0.548236</td>\n",
              "      <td>-0.067016</td>\n",
              "      <td>0.292999</td>\n",
              "      <td>0.253730</td>\n",
              "      <td>0.408042</td>\n",
              "      <td>-0.006522</td>\n",
              "      <td>0.077972</td>\n",
              "      <td>0.776454</td>\n",
              "      <td>0.456903</td>\n",
              "      <td>0.782914</td>\n",
              "      <td>0.733825</td>\n",
              "      <td>0.421465</td>\n",
              "      <td>0.590998</td>\n",
              "      <td>0.659610</td>\n",
              "      <td>0.793566</td>\n",
              "      <td>0.416294</td>\n",
              "      <td>0.323872</td>\n",
              "    </tr>\n",
              "    <tr>\n",
              "      <th>radius_mean</th>\n",
              "      <td>0.074626</td>\n",
              "      <td>0.730029</td>\n",
              "      <td>1.000000</td>\n",
              "      <td>0.323782</td>\n",
              "      <td>0.997855</td>\n",
              "      <td>0.987357</td>\n",
              "      <td>0.170581</td>\n",
              "      <td>0.506124</td>\n",
              "      <td>0.676764</td>\n",
              "      <td>0.822529</td>\n",
              "      <td>0.147741</td>\n",
              "      <td>-0.311631</td>\n",
              "      <td>0.679090</td>\n",
              "      <td>-0.097317</td>\n",
              "      <td>0.674172</td>\n",
              "      <td>0.735864</td>\n",
              "      <td>-0.222600</td>\n",
              "      <td>0.206000</td>\n",
              "      <td>0.194204</td>\n",
              "      <td>0.376169</td>\n",
              "      <td>-0.104321</td>\n",
              "      <td>-0.042641</td>\n",
              "      <td>0.969539</td>\n",
              "      <td>0.297008</td>\n",
              "      <td>0.965137</td>\n",
              "      <td>0.941082</td>\n",
              "      <td>0.119616</td>\n",
              "      <td>0.413463</td>\n",
              "      <td>0.526911</td>\n",
              "      <td>0.744214</td>\n",
              "      <td>0.163953</td>\n",
              "      <td>0.007066</td>\n",
              "    </tr>\n",
              "    <tr>\n",
              "      <th>texture_mean</th>\n",
              "      <td>0.099770</td>\n",
              "      <td>0.415185</td>\n",
              "      <td>0.323782</td>\n",
              "      <td>1.000000</td>\n",
              "      <td>0.329533</td>\n",
              "      <td>0.321086</td>\n",
              "      <td>-0.023389</td>\n",
              "      <td>0.236702</td>\n",
              "      <td>0.302418</td>\n",
              "      <td>0.293464</td>\n",
              "      <td>0.071401</td>\n",
              "      <td>-0.076437</td>\n",
              "      <td>0.275869</td>\n",
              "      <td>0.386358</td>\n",
              "      <td>0.281673</td>\n",
              "      <td>0.259845</td>\n",
              "      <td>0.006614</td>\n",
              "      <td>0.191975</td>\n",
              "      <td>0.143293</td>\n",
              "      <td>0.163851</td>\n",
              "      <td>0.009127</td>\n",
              "      <td>0.054458</td>\n",
              "      <td>0.352573</td>\n",
              "      <td>0.912045</td>\n",
              "      <td>0.358040</td>\n",
              "      <td>0.343546</td>\n",
              "      <td>0.077503</td>\n",
              "      <td>0.277830</td>\n",
              "      <td>0.301025</td>\n",
              "      <td>0.295316</td>\n",
              "      <td>0.105008</td>\n",
              "      <td>0.119205</td>\n",
              "    </tr>\n",
              "    <tr>\n",
              "      <th>perimeter_mean</th>\n",
              "      <td>0.073159</td>\n",
              "      <td>0.742636</td>\n",
              "      <td>0.997855</td>\n",
              "      <td>0.329533</td>\n",
              "      <td>1.000000</td>\n",
              "      <td>0.986507</td>\n",
              "      <td>0.207278</td>\n",
              "      <td>0.556936</td>\n",
              "      <td>0.716136</td>\n",
              "      <td>0.850977</td>\n",
              "      <td>0.183027</td>\n",
              "      <td>-0.261477</td>\n",
              "      <td>0.691765</td>\n",
              "      <td>-0.086761</td>\n",
              "      <td>0.693135</td>\n",
              "      <td>0.744983</td>\n",
              "      <td>-0.202694</td>\n",
              "      <td>0.250744</td>\n",
              "      <td>0.228082</td>\n",
              "      <td>0.407217</td>\n",
              "      <td>-0.081629</td>\n",
              "      <td>-0.005523</td>\n",
              "      <td>0.969476</td>\n",
              "      <td>0.303038</td>\n",
              "      <td>0.970387</td>\n",
              "      <td>0.941550</td>\n",
              "      <td>0.150549</td>\n",
              "      <td>0.455774</td>\n",
              "      <td>0.563879</td>\n",
              "      <td>0.771241</td>\n",
              "      <td>0.189115</td>\n",
              "      <td>0.051019</td>\n",
              "    </tr>\n",
              "    <tr>\n",
              "      <th>area_mean</th>\n",
              "      <td>0.096893</td>\n",
              "      <td>0.708984</td>\n",
              "      <td>0.987357</td>\n",
              "      <td>0.321086</td>\n",
              "      <td>0.986507</td>\n",
              "      <td>1.000000</td>\n",
              "      <td>0.177028</td>\n",
              "      <td>0.498502</td>\n",
              "      <td>0.685983</td>\n",
              "      <td>0.823269</td>\n",
              "      <td>0.151293</td>\n",
              "      <td>-0.283110</td>\n",
              "      <td>0.732562</td>\n",
              "      <td>-0.066280</td>\n",
              "      <td>0.726628</td>\n",
              "      <td>0.800086</td>\n",
              "      <td>-0.166777</td>\n",
              "      <td>0.212583</td>\n",
              "      <td>0.207660</td>\n",
              "      <td>0.372320</td>\n",
              "      <td>-0.072497</td>\n",
              "      <td>-0.019887</td>\n",
              "      <td>0.962746</td>\n",
              "      <td>0.287489</td>\n",
              "      <td>0.959120</td>\n",
              "      <td>0.959213</td>\n",
              "      <td>0.123523</td>\n",
              "      <td>0.390410</td>\n",
              "      <td>0.512606</td>\n",
              "      <td>0.722017</td>\n",
              "      <td>0.143570</td>\n",
              "      <td>0.003738</td>\n",
              "    </tr>\n",
              "    <tr>\n",
              "      <th>smoothness_mean</th>\n",
              "      <td>-0.012968</td>\n",
              "      <td>0.358560</td>\n",
              "      <td>0.170581</td>\n",
              "      <td>-0.023389</td>\n",
              "      <td>0.207278</td>\n",
              "      <td>0.177028</td>\n",
              "      <td>1.000000</td>\n",
              "      <td>0.659123</td>\n",
              "      <td>0.521984</td>\n",
              "      <td>0.553695</td>\n",
              "      <td>0.557775</td>\n",
              "      <td>0.584792</td>\n",
              "      <td>0.301467</td>\n",
              "      <td>0.068406</td>\n",
              "      <td>0.296092</td>\n",
              "      <td>0.246552</td>\n",
              "      <td>0.332375</td>\n",
              "      <td>0.318943</td>\n",
              "      <td>0.248396</td>\n",
              "      <td>0.380676</td>\n",
              "      <td>0.200774</td>\n",
              "      <td>0.283607</td>\n",
              "      <td>0.213120</td>\n",
              "      <td>0.036072</td>\n",
              "      <td>0.238853</td>\n",
              "      <td>0.206718</td>\n",
              "      <td>0.805324</td>\n",
              "      <td>0.472468</td>\n",
              "      <td>0.434926</td>\n",
              "      <td>0.503053</td>\n",
              "      <td>0.394309</td>\n",
              "      <td>0.499316</td>\n",
              "    </tr>\n",
              "    <tr>\n",
              "      <th>compactness_mean</th>\n",
              "      <td>0.000096</td>\n",
              "      <td>0.596534</td>\n",
              "      <td>0.506124</td>\n",
              "      <td>0.236702</td>\n",
              "      <td>0.556936</td>\n",
              "      <td>0.498502</td>\n",
              "      <td>0.659123</td>\n",
              "      <td>1.000000</td>\n",
              "      <td>0.883121</td>\n",
              "      <td>0.831135</td>\n",
              "      <td>0.602641</td>\n",
              "      <td>0.565369</td>\n",
              "      <td>0.497473</td>\n",
              "      <td>0.046205</td>\n",
              "      <td>0.548905</td>\n",
              "      <td>0.455653</td>\n",
              "      <td>0.135299</td>\n",
              "      <td>0.738722</td>\n",
              "      <td>0.570517</td>\n",
              "      <td>0.642262</td>\n",
              "      <td>0.229977</td>\n",
              "      <td>0.507318</td>\n",
              "      <td>0.535315</td>\n",
              "      <td>0.248133</td>\n",
              "      <td>0.590210</td>\n",
              "      <td>0.509604</td>\n",
              "      <td>0.565541</td>\n",
              "      <td>0.865809</td>\n",
              "      <td>0.816275</td>\n",
              "      <td>0.815573</td>\n",
              "      <td>0.510223</td>\n",
              "      <td>0.687382</td>\n",
              "    </tr>\n",
              "    <tr>\n",
              "      <th>concavity_mean</th>\n",
              "      <td>0.050080</td>\n",
              "      <td>0.696360</td>\n",
              "      <td>0.676764</td>\n",
              "      <td>0.302418</td>\n",
              "      <td>0.716136</td>\n",
              "      <td>0.685983</td>\n",
              "      <td>0.521984</td>\n",
              "      <td>0.883121</td>\n",
              "      <td>1.000000</td>\n",
              "      <td>0.921391</td>\n",
              "      <td>0.500667</td>\n",
              "      <td>0.336783</td>\n",
              "      <td>0.631925</td>\n",
              "      <td>0.076218</td>\n",
              "      <td>0.660391</td>\n",
              "      <td>0.617427</td>\n",
              "      <td>0.098564</td>\n",
              "      <td>0.670279</td>\n",
              "      <td>0.691270</td>\n",
              "      <td>0.683260</td>\n",
              "      <td>0.178009</td>\n",
              "      <td>0.449301</td>\n",
              "      <td>0.688236</td>\n",
              "      <td>0.299879</td>\n",
              "      <td>0.729565</td>\n",
              "      <td>0.675987</td>\n",
              "      <td>0.448822</td>\n",
              "      <td>0.754968</td>\n",
              "      <td>0.884103</td>\n",
              "      <td>0.861323</td>\n",
              "      <td>0.409464</td>\n",
              "      <td>0.514930</td>\n",
              "    </tr>\n",
              "    <tr>\n",
              "      <th>concave points_mean</th>\n",
              "      <td>0.044158</td>\n",
              "      <td>0.776614</td>\n",
              "      <td>0.822529</td>\n",
              "      <td>0.293464</td>\n",
              "      <td>0.850977</td>\n",
              "      <td>0.823269</td>\n",
              "      <td>0.553695</td>\n",
              "      <td>0.831135</td>\n",
              "      <td>0.921391</td>\n",
              "      <td>1.000000</td>\n",
              "      <td>0.462497</td>\n",
              "      <td>0.166917</td>\n",
              "      <td>0.698050</td>\n",
              "      <td>0.021480</td>\n",
              "      <td>0.710650</td>\n",
              "      <td>0.690299</td>\n",
              "      <td>0.027653</td>\n",
              "      <td>0.490424</td>\n",
              "      <td>0.439167</td>\n",
              "      <td>0.615634</td>\n",
              "      <td>0.095351</td>\n",
              "      <td>0.257584</td>\n",
              "      <td>0.830318</td>\n",
              "      <td>0.292752</td>\n",
              "      <td>0.855923</td>\n",
              "      <td>0.809630</td>\n",
              "      <td>0.452753</td>\n",
              "      <td>0.667454</td>\n",
              "      <td>0.752399</td>\n",
              "      <td>0.910155</td>\n",
              "      <td>0.375744</td>\n",
              "      <td>0.368661</td>\n",
              "    </tr>\n",
              "    <tr>\n",
              "      <th>symmetry_mean</th>\n",
              "      <td>-0.022114</td>\n",
              "      <td>0.330499</td>\n",
              "      <td>0.147741</td>\n",
              "      <td>0.071401</td>\n",
              "      <td>0.183027</td>\n",
              "      <td>0.151293</td>\n",
              "      <td>0.557775</td>\n",
              "      <td>0.602641</td>\n",
              "      <td>0.500667</td>\n",
              "      <td>0.462497</td>\n",
              "      <td>1.000000</td>\n",
              "      <td>0.479921</td>\n",
              "      <td>0.303379</td>\n",
              "      <td>0.128053</td>\n",
              "      <td>0.313893</td>\n",
              "      <td>0.223970</td>\n",
              "      <td>0.187321</td>\n",
              "      <td>0.421659</td>\n",
              "      <td>0.342627</td>\n",
              "      <td>0.393298</td>\n",
              "      <td>0.449137</td>\n",
              "      <td>0.331786</td>\n",
              "      <td>0.185728</td>\n",
              "      <td>0.090651</td>\n",
              "      <td>0.219169</td>\n",
              "      <td>0.177193</td>\n",
              "      <td>0.426675</td>\n",
              "      <td>0.473200</td>\n",
              "      <td>0.433721</td>\n",
              "      <td>0.430297</td>\n",
              "      <td>0.699826</td>\n",
              "      <td>0.438413</td>\n",
              "    </tr>\n",
              "    <tr>\n",
              "      <th>fractal_dimension_mean</th>\n",
              "      <td>-0.052511</td>\n",
              "      <td>-0.012838</td>\n",
              "      <td>-0.311631</td>\n",
              "      <td>-0.076437</td>\n",
              "      <td>-0.261477</td>\n",
              "      <td>-0.283110</td>\n",
              "      <td>0.584792</td>\n",
              "      <td>0.565369</td>\n",
              "      <td>0.336783</td>\n",
              "      <td>0.166917</td>\n",
              "      <td>0.479921</td>\n",
              "      <td>1.000000</td>\n",
              "      <td>0.000111</td>\n",
              "      <td>0.164174</td>\n",
              "      <td>0.039830</td>\n",
              "      <td>-0.090170</td>\n",
              "      <td>0.401964</td>\n",
              "      <td>0.559837</td>\n",
              "      <td>0.446630</td>\n",
              "      <td>0.341198</td>\n",
              "      <td>0.345007</td>\n",
              "      <td>0.688132</td>\n",
              "      <td>-0.253691</td>\n",
              "      <td>-0.051269</td>\n",
              "      <td>-0.205151</td>\n",
              "      <td>-0.231854</td>\n",
              "      <td>0.504942</td>\n",
              "      <td>0.458798</td>\n",
              "      <td>0.346234</td>\n",
              "      <td>0.175325</td>\n",
              "      <td>0.334019</td>\n",
              "      <td>0.767297</td>\n",
              "    </tr>\n",
              "    <tr>\n",
              "      <th>radius_se</th>\n",
              "      <td>0.143048</td>\n",
              "      <td>0.567134</td>\n",
              "      <td>0.679090</td>\n",
              "      <td>0.275869</td>\n",
              "      <td>0.691765</td>\n",
              "      <td>0.732562</td>\n",
              "      <td>0.301467</td>\n",
              "      <td>0.497473</td>\n",
              "      <td>0.631925</td>\n",
              "      <td>0.698050</td>\n",
              "      <td>0.303379</td>\n",
              "      <td>0.000111</td>\n",
              "      <td>1.000000</td>\n",
              "      <td>0.213247</td>\n",
              "      <td>0.972794</td>\n",
              "      <td>0.951830</td>\n",
              "      <td>0.164514</td>\n",
              "      <td>0.356065</td>\n",
              "      <td>0.332358</td>\n",
              "      <td>0.513346</td>\n",
              "      <td>0.240567</td>\n",
              "      <td>0.227754</td>\n",
              "      <td>0.715065</td>\n",
              "      <td>0.194799</td>\n",
              "      <td>0.719684</td>\n",
              "      <td>0.751548</td>\n",
              "      <td>0.141919</td>\n",
              "      <td>0.287103</td>\n",
              "      <td>0.380585</td>\n",
              "      <td>0.531062</td>\n",
              "      <td>0.094543</td>\n",
              "      <td>0.049559</td>\n",
              "    </tr>\n",
              "    <tr>\n",
              "      <th>texture_se</th>\n",
              "      <td>-0.007526</td>\n",
              "      <td>-0.008303</td>\n",
              "      <td>-0.097317</td>\n",
              "      <td>0.386358</td>\n",
              "      <td>-0.086761</td>\n",
              "      <td>-0.066280</td>\n",
              "      <td>0.068406</td>\n",
              "      <td>0.046205</td>\n",
              "      <td>0.076218</td>\n",
              "      <td>0.021480</td>\n",
              "      <td>0.128053</td>\n",
              "      <td>0.164174</td>\n",
              "      <td>0.213247</td>\n",
              "      <td>1.000000</td>\n",
              "      <td>0.223171</td>\n",
              "      <td>0.111567</td>\n",
              "      <td>0.397243</td>\n",
              "      <td>0.231700</td>\n",
              "      <td>0.194998</td>\n",
              "      <td>0.230283</td>\n",
              "      <td>0.411621</td>\n",
              "      <td>0.279723</td>\n",
              "      <td>-0.111690</td>\n",
              "      <td>0.409003</td>\n",
              "      <td>-0.102242</td>\n",
              "      <td>-0.083195</td>\n",
              "      <td>-0.073658</td>\n",
              "      <td>-0.092439</td>\n",
              "      <td>-0.068956</td>\n",
              "      <td>-0.119638</td>\n",
              "      <td>-0.128215</td>\n",
              "      <td>-0.045655</td>\n",
              "    </tr>\n",
              "    <tr>\n",
              "      <th>perimeter_se</th>\n",
              "      <td>0.137331</td>\n",
              "      <td>0.556141</td>\n",
              "      <td>0.674172</td>\n",
              "      <td>0.281673</td>\n",
              "      <td>0.693135</td>\n",
              "      <td>0.726628</td>\n",
              "      <td>0.296092</td>\n",
              "      <td>0.548905</td>\n",
              "      <td>0.660391</td>\n",
              "      <td>0.710650</td>\n",
              "      <td>0.313893</td>\n",
              "      <td>0.039830</td>\n",
              "      <td>0.972794</td>\n",
              "      <td>0.223171</td>\n",
              "      <td>1.000000</td>\n",
              "      <td>0.937655</td>\n",
              "      <td>0.151075</td>\n",
              "      <td>0.416322</td>\n",
              "      <td>0.362482</td>\n",
              "      <td>0.556264</td>\n",
              "      <td>0.266487</td>\n",
              "      <td>0.244143</td>\n",
              "      <td>0.697201</td>\n",
              "      <td>0.200371</td>\n",
              "      <td>0.721031</td>\n",
              "      <td>0.730713</td>\n",
              "      <td>0.130054</td>\n",
              "      <td>0.341919</td>\n",
              "      <td>0.418899</td>\n",
              "      <td>0.554897</td>\n",
              "      <td>0.109930</td>\n",
              "      <td>0.085433</td>\n",
              "    </tr>\n",
              "    <tr>\n",
              "      <th>area_se</th>\n",
              "      <td>0.177742</td>\n",
              "      <td>0.548236</td>\n",
              "      <td>0.735864</td>\n",
              "      <td>0.259845</td>\n",
              "      <td>0.744983</td>\n",
              "      <td>0.800086</td>\n",
              "      <td>0.246552</td>\n",
              "      <td>0.455653</td>\n",
              "      <td>0.617427</td>\n",
              "      <td>0.690299</td>\n",
              "      <td>0.223970</td>\n",
              "      <td>-0.090170</td>\n",
              "      <td>0.951830</td>\n",
              "      <td>0.111567</td>\n",
              "      <td>0.937655</td>\n",
              "      <td>1.000000</td>\n",
              "      <td>0.075150</td>\n",
              "      <td>0.284840</td>\n",
              "      <td>0.270895</td>\n",
              "      <td>0.415730</td>\n",
              "      <td>0.134109</td>\n",
              "      <td>0.127071</td>\n",
              "      <td>0.757373</td>\n",
              "      <td>0.196497</td>\n",
              "      <td>0.761213</td>\n",
              "      <td>0.811408</td>\n",
              "      <td>0.125389</td>\n",
              "      <td>0.283257</td>\n",
              "      <td>0.385100</td>\n",
              "      <td>0.538166</td>\n",
              "      <td>0.074126</td>\n",
              "      <td>0.017539</td>\n",
              "    </tr>\n",
              "    <tr>\n",
              "      <th>smoothness_se</th>\n",
              "      <td>0.096781</td>\n",
              "      <td>-0.067016</td>\n",
              "      <td>-0.222600</td>\n",
              "      <td>0.006614</td>\n",
              "      <td>-0.202694</td>\n",
              "      <td>-0.166777</td>\n",
              "      <td>0.332375</td>\n",
              "      <td>0.135299</td>\n",
              "      <td>0.098564</td>\n",
              "      <td>0.027653</td>\n",
              "      <td>0.187321</td>\n",
              "      <td>0.401964</td>\n",
              "      <td>0.164514</td>\n",
              "      <td>0.397243</td>\n",
              "      <td>0.151075</td>\n",
              "      <td>0.075150</td>\n",
              "      <td>1.000000</td>\n",
              "      <td>0.336696</td>\n",
              "      <td>0.268685</td>\n",
              "      <td>0.328429</td>\n",
              "      <td>0.413506</td>\n",
              "      <td>0.427374</td>\n",
              "      <td>-0.230691</td>\n",
              "      <td>-0.074743</td>\n",
              "      <td>-0.217304</td>\n",
              "      <td>-0.182195</td>\n",
              "      <td>0.314457</td>\n",
              "      <td>-0.055558</td>\n",
              "      <td>-0.058298</td>\n",
              "      <td>-0.102007</td>\n",
              "      <td>-0.107342</td>\n",
              "      <td>0.101480</td>\n",
              "    </tr>\n",
              "    <tr>\n",
              "      <th>compactness_se</th>\n",
              "      <td>0.033961</td>\n",
              "      <td>0.292999</td>\n",
              "      <td>0.206000</td>\n",
              "      <td>0.191975</td>\n",
              "      <td>0.250744</td>\n",
              "      <td>0.212583</td>\n",
              "      <td>0.318943</td>\n",
              "      <td>0.738722</td>\n",
              "      <td>0.670279</td>\n",
              "      <td>0.490424</td>\n",
              "      <td>0.421659</td>\n",
              "      <td>0.559837</td>\n",
              "      <td>0.356065</td>\n",
              "      <td>0.231700</td>\n",
              "      <td>0.416322</td>\n",
              "      <td>0.284840</td>\n",
              "      <td>0.336696</td>\n",
              "      <td>1.000000</td>\n",
              "      <td>0.801268</td>\n",
              "      <td>0.744083</td>\n",
              "      <td>0.394713</td>\n",
              "      <td>0.803269</td>\n",
              "      <td>0.204607</td>\n",
              "      <td>0.143003</td>\n",
              "      <td>0.260516</td>\n",
              "      <td>0.199371</td>\n",
              "      <td>0.227394</td>\n",
              "      <td>0.678780</td>\n",
              "      <td>0.639147</td>\n",
              "      <td>0.483208</td>\n",
              "      <td>0.277878</td>\n",
              "      <td>0.590973</td>\n",
              "    </tr>\n",
              "    <tr>\n",
              "      <th>concavity_se</th>\n",
              "      <td>0.055239</td>\n",
              "      <td>0.253730</td>\n",
              "      <td>0.194204</td>\n",
              "      <td>0.143293</td>\n",
              "      <td>0.228082</td>\n",
              "      <td>0.207660</td>\n",
              "      <td>0.248396</td>\n",
              "      <td>0.570517</td>\n",
              "      <td>0.691270</td>\n",
              "      <td>0.439167</td>\n",
              "      <td>0.342627</td>\n",
              "      <td>0.446630</td>\n",
              "      <td>0.332358</td>\n",
              "      <td>0.194998</td>\n",
              "      <td>0.362482</td>\n",
              "      <td>0.270895</td>\n",
              "      <td>0.268685</td>\n",
              "      <td>0.801268</td>\n",
              "      <td>1.000000</td>\n",
              "      <td>0.771804</td>\n",
              "      <td>0.309429</td>\n",
              "      <td>0.727372</td>\n",
              "      <td>0.186904</td>\n",
              "      <td>0.100241</td>\n",
              "      <td>0.226680</td>\n",
              "      <td>0.188353</td>\n",
              "      <td>0.168481</td>\n",
              "      <td>0.484858</td>\n",
              "      <td>0.662564</td>\n",
              "      <td>0.440472</td>\n",
              "      <td>0.197788</td>\n",
              "      <td>0.439329</td>\n",
              "    </tr>\n",
              "    <tr>\n",
              "      <th>concave points_se</th>\n",
              "      <td>0.078768</td>\n",
              "      <td>0.408042</td>\n",
              "      <td>0.376169</td>\n",
              "      <td>0.163851</td>\n",
              "      <td>0.407217</td>\n",
              "      <td>0.372320</td>\n",
              "      <td>0.380676</td>\n",
              "      <td>0.642262</td>\n",
              "      <td>0.683260</td>\n",
              "      <td>0.615634</td>\n",
              "      <td>0.393298</td>\n",
              "      <td>0.341198</td>\n",
              "      <td>0.513346</td>\n",
              "      <td>0.230283</td>\n",
              "      <td>0.556264</td>\n",
              "      <td>0.415730</td>\n",
              "      <td>0.328429</td>\n",
              "      <td>0.744083</td>\n",
              "      <td>0.771804</td>\n",
              "      <td>1.000000</td>\n",
              "      <td>0.312780</td>\n",
              "      <td>0.611044</td>\n",
              "      <td>0.358127</td>\n",
              "      <td>0.086741</td>\n",
              "      <td>0.394999</td>\n",
              "      <td>0.342271</td>\n",
              "      <td>0.215351</td>\n",
              "      <td>0.452888</td>\n",
              "      <td>0.549592</td>\n",
              "      <td>0.602450</td>\n",
              "      <td>0.143116</td>\n",
              "      <td>0.310655</td>\n",
              "    </tr>\n",
              "    <tr>\n",
              "      <th>symmetry_se</th>\n",
              "      <td>-0.017306</td>\n",
              "      <td>-0.006522</td>\n",
              "      <td>-0.104321</td>\n",
              "      <td>0.009127</td>\n",
              "      <td>-0.081629</td>\n",
              "      <td>-0.072497</td>\n",
              "      <td>0.200774</td>\n",
              "      <td>0.229977</td>\n",
              "      <td>0.178009</td>\n",
              "      <td>0.095351</td>\n",
              "      <td>0.449137</td>\n",
              "      <td>0.345007</td>\n",
              "      <td>0.240567</td>\n",
              "      <td>0.411621</td>\n",
              "      <td>0.266487</td>\n",
              "      <td>0.134109</td>\n",
              "      <td>0.413506</td>\n",
              "      <td>0.394713</td>\n",
              "      <td>0.309429</td>\n",
              "      <td>0.312780</td>\n",
              "      <td>1.000000</td>\n",
              "      <td>0.369078</td>\n",
              "      <td>-0.128121</td>\n",
              "      <td>-0.077473</td>\n",
              "      <td>-0.103753</td>\n",
              "      <td>-0.110343</td>\n",
              "      <td>-0.012662</td>\n",
              "      <td>0.060255</td>\n",
              "      <td>0.037119</td>\n",
              "      <td>-0.030413</td>\n",
              "      <td>0.389402</td>\n",
              "      <td>0.078079</td>\n",
              "    </tr>\n",
              "    <tr>\n",
              "      <th>fractal_dimension_se</th>\n",
              "      <td>0.025725</td>\n",
              "      <td>0.077972</td>\n",
              "      <td>-0.042641</td>\n",
              "      <td>0.054458</td>\n",
              "      <td>-0.005523</td>\n",
              "      <td>-0.019887</td>\n",
              "      <td>0.283607</td>\n",
              "      <td>0.507318</td>\n",
              "      <td>0.449301</td>\n",
              "      <td>0.257584</td>\n",
              "      <td>0.331786</td>\n",
              "      <td>0.688132</td>\n",
              "      <td>0.227754</td>\n",
              "      <td>0.279723</td>\n",
              "      <td>0.244143</td>\n",
              "      <td>0.127071</td>\n",
              "      <td>0.427374</td>\n",
              "      <td>0.803269</td>\n",
              "      <td>0.727372</td>\n",
              "      <td>0.611044</td>\n",
              "      <td>0.369078</td>\n",
              "      <td>1.000000</td>\n",
              "      <td>-0.037488</td>\n",
              "      <td>-0.003195</td>\n",
              "      <td>-0.001000</td>\n",
              "      <td>-0.022736</td>\n",
              "      <td>0.170568</td>\n",
              "      <td>0.390159</td>\n",
              "      <td>0.379975</td>\n",
              "      <td>0.215204</td>\n",
              "      <td>0.111094</td>\n",
              "      <td>0.591328</td>\n",
              "    </tr>\n",
              "    <tr>\n",
              "      <th>radius_worst</th>\n",
              "      <td>0.082405</td>\n",
              "      <td>0.776454</td>\n",
              "      <td>0.969539</td>\n",
              "      <td>0.352573</td>\n",
              "      <td>0.969476</td>\n",
              "      <td>0.962746</td>\n",
              "      <td>0.213120</td>\n",
              "      <td>0.535315</td>\n",
              "      <td>0.688236</td>\n",
              "      <td>0.830318</td>\n",
              "      <td>0.185728</td>\n",
              "      <td>-0.253691</td>\n",
              "      <td>0.715065</td>\n",
              "      <td>-0.111690</td>\n",
              "      <td>0.697201</td>\n",
              "      <td>0.757373</td>\n",
              "      <td>-0.230691</td>\n",
              "      <td>0.204607</td>\n",
              "      <td>0.186904</td>\n",
              "      <td>0.358127</td>\n",
              "      <td>-0.128121</td>\n",
              "      <td>-0.037488</td>\n",
              "      <td>1.000000</td>\n",
              "      <td>0.359921</td>\n",
              "      <td>0.993708</td>\n",
              "      <td>0.984015</td>\n",
              "      <td>0.216574</td>\n",
              "      <td>0.475820</td>\n",
              "      <td>0.573975</td>\n",
              "      <td>0.787424</td>\n",
              "      <td>0.243529</td>\n",
              "      <td>0.093492</td>\n",
              "    </tr>\n",
              "    <tr>\n",
              "      <th>texture_worst</th>\n",
              "      <td>0.064720</td>\n",
              "      <td>0.456903</td>\n",
              "      <td>0.297008</td>\n",
              "      <td>0.912045</td>\n",
              "      <td>0.303038</td>\n",
              "      <td>0.287489</td>\n",
              "      <td>0.036072</td>\n",
              "      <td>0.248133</td>\n",
              "      <td>0.299879</td>\n",
              "      <td>0.292752</td>\n",
              "      <td>0.090651</td>\n",
              "      <td>-0.051269</td>\n",
              "      <td>0.194799</td>\n",
              "      <td>0.409003</td>\n",
              "      <td>0.200371</td>\n",
              "      <td>0.196497</td>\n",
              "      <td>-0.074743</td>\n",
              "      <td>0.143003</td>\n",
              "      <td>0.100241</td>\n",
              "      <td>0.086741</td>\n",
              "      <td>-0.077473</td>\n",
              "      <td>-0.003195</td>\n",
              "      <td>0.359921</td>\n",
              "      <td>1.000000</td>\n",
              "      <td>0.365098</td>\n",
              "      <td>0.345842</td>\n",
              "      <td>0.225429</td>\n",
              "      <td>0.360832</td>\n",
              "      <td>0.368366</td>\n",
              "      <td>0.359755</td>\n",
              "      <td>0.233027</td>\n",
              "      <td>0.219122</td>\n",
              "    </tr>\n",
              "    <tr>\n",
              "      <th>perimeter_worst</th>\n",
              "      <td>0.079986</td>\n",
              "      <td>0.782914</td>\n",
              "      <td>0.965137</td>\n",
              "      <td>0.358040</td>\n",
              "      <td>0.970387</td>\n",
              "      <td>0.959120</td>\n",
              "      <td>0.238853</td>\n",
              "      <td>0.590210</td>\n",
              "      <td>0.729565</td>\n",
              "      <td>0.855923</td>\n",
              "      <td>0.219169</td>\n",
              "      <td>-0.205151</td>\n",
              "      <td>0.719684</td>\n",
              "      <td>-0.102242</td>\n",
              "      <td>0.721031</td>\n",
              "      <td>0.761213</td>\n",
              "      <td>-0.217304</td>\n",
              "      <td>0.260516</td>\n",
              "      <td>0.226680</td>\n",
              "      <td>0.394999</td>\n",
              "      <td>-0.103753</td>\n",
              "      <td>-0.001000</td>\n",
              "      <td>0.993708</td>\n",
              "      <td>0.365098</td>\n",
              "      <td>1.000000</td>\n",
              "      <td>0.977578</td>\n",
              "      <td>0.236775</td>\n",
              "      <td>0.529408</td>\n",
              "      <td>0.618344</td>\n",
              "      <td>0.816322</td>\n",
              "      <td>0.269493</td>\n",
              "      <td>0.138957</td>\n",
              "    </tr>\n",
              "    <tr>\n",
              "      <th>area_worst</th>\n",
              "      <td>0.107187</td>\n",
              "      <td>0.733825</td>\n",
              "      <td>0.941082</td>\n",
              "      <td>0.343546</td>\n",
              "      <td>0.941550</td>\n",
              "      <td>0.959213</td>\n",
              "      <td>0.206718</td>\n",
              "      <td>0.509604</td>\n",
              "      <td>0.675987</td>\n",
              "      <td>0.809630</td>\n",
              "      <td>0.177193</td>\n",
              "      <td>-0.231854</td>\n",
              "      <td>0.751548</td>\n",
              "      <td>-0.083195</td>\n",
              "      <td>0.730713</td>\n",
              "      <td>0.811408</td>\n",
              "      <td>-0.182195</td>\n",
              "      <td>0.199371</td>\n",
              "      <td>0.188353</td>\n",
              "      <td>0.342271</td>\n",
              "      <td>-0.110343</td>\n",
              "      <td>-0.022736</td>\n",
              "      <td>0.984015</td>\n",
              "      <td>0.345842</td>\n",
              "      <td>0.977578</td>\n",
              "      <td>1.000000</td>\n",
              "      <td>0.209145</td>\n",
              "      <td>0.438296</td>\n",
              "      <td>0.543331</td>\n",
              "      <td>0.747419</td>\n",
              "      <td>0.209146</td>\n",
              "      <td>0.079647</td>\n",
              "    </tr>\n",
              "    <tr>\n",
              "      <th>smoothness_worst</th>\n",
              "      <td>0.010338</td>\n",
              "      <td>0.421465</td>\n",
              "      <td>0.119616</td>\n",
              "      <td>0.077503</td>\n",
              "      <td>0.150549</td>\n",
              "      <td>0.123523</td>\n",
              "      <td>0.805324</td>\n",
              "      <td>0.565541</td>\n",
              "      <td>0.448822</td>\n",
              "      <td>0.452753</td>\n",
              "      <td>0.426675</td>\n",
              "      <td>0.504942</td>\n",
              "      <td>0.141919</td>\n",
              "      <td>-0.073658</td>\n",
              "      <td>0.130054</td>\n",
              "      <td>0.125389</td>\n",
              "      <td>0.314457</td>\n",
              "      <td>0.227394</td>\n",
              "      <td>0.168481</td>\n",
              "      <td>0.215351</td>\n",
              "      <td>-0.012662</td>\n",
              "      <td>0.170568</td>\n",
              "      <td>0.216574</td>\n",
              "      <td>0.225429</td>\n",
              "      <td>0.236775</td>\n",
              "      <td>0.209145</td>\n",
              "      <td>1.000000</td>\n",
              "      <td>0.568187</td>\n",
              "      <td>0.518523</td>\n",
              "      <td>0.547691</td>\n",
              "      <td>0.493838</td>\n",
              "      <td>0.617624</td>\n",
              "    </tr>\n",
              "    <tr>\n",
              "      <th>compactness_worst</th>\n",
              "      <td>-0.002968</td>\n",
              "      <td>0.590998</td>\n",
              "      <td>0.413463</td>\n",
              "      <td>0.277830</td>\n",
              "      <td>0.455774</td>\n",
              "      <td>0.390410</td>\n",
              "      <td>0.472468</td>\n",
              "      <td>0.865809</td>\n",
              "      <td>0.754968</td>\n",
              "      <td>0.667454</td>\n",
              "      <td>0.473200</td>\n",
              "      <td>0.458798</td>\n",
              "      <td>0.287103</td>\n",
              "      <td>-0.092439</td>\n",
              "      <td>0.341919</td>\n",
              "      <td>0.283257</td>\n",
              "      <td>-0.055558</td>\n",
              "      <td>0.678780</td>\n",
              "      <td>0.484858</td>\n",
              "      <td>0.452888</td>\n",
              "      <td>0.060255</td>\n",
              "      <td>0.390159</td>\n",
              "      <td>0.475820</td>\n",
              "      <td>0.360832</td>\n",
              "      <td>0.529408</td>\n",
              "      <td>0.438296</td>\n",
              "      <td>0.568187</td>\n",
              "      <td>1.000000</td>\n",
              "      <td>0.892261</td>\n",
              "      <td>0.801080</td>\n",
              "      <td>0.614441</td>\n",
              "      <td>0.810455</td>\n",
              "    </tr>\n",
              "    <tr>\n",
              "      <th>concavity_worst</th>\n",
              "      <td>0.023203</td>\n",
              "      <td>0.659610</td>\n",
              "      <td>0.526911</td>\n",
              "      <td>0.301025</td>\n",
              "      <td>0.563879</td>\n",
              "      <td>0.512606</td>\n",
              "      <td>0.434926</td>\n",
              "      <td>0.816275</td>\n",
              "      <td>0.884103</td>\n",
              "      <td>0.752399</td>\n",
              "      <td>0.433721</td>\n",
              "      <td>0.346234</td>\n",
              "      <td>0.380585</td>\n",
              "      <td>-0.068956</td>\n",
              "      <td>0.418899</td>\n",
              "      <td>0.385100</td>\n",
              "      <td>-0.058298</td>\n",
              "      <td>0.639147</td>\n",
              "      <td>0.662564</td>\n",
              "      <td>0.549592</td>\n",
              "      <td>0.037119</td>\n",
              "      <td>0.379975</td>\n",
              "      <td>0.573975</td>\n",
              "      <td>0.368366</td>\n",
              "      <td>0.618344</td>\n",
              "      <td>0.543331</td>\n",
              "      <td>0.518523</td>\n",
              "      <td>0.892261</td>\n",
              "      <td>1.000000</td>\n",
              "      <td>0.855434</td>\n",
              "      <td>0.532520</td>\n",
              "      <td>0.686511</td>\n",
              "    </tr>\n",
              "    <tr>\n",
              "      <th>concave points_worst</th>\n",
              "      <td>0.035174</td>\n",
              "      <td>0.793566</td>\n",
              "      <td>0.744214</td>\n",
              "      <td>0.295316</td>\n",
              "      <td>0.771241</td>\n",
              "      <td>0.722017</td>\n",
              "      <td>0.503053</td>\n",
              "      <td>0.815573</td>\n",
              "      <td>0.861323</td>\n",
              "      <td>0.910155</td>\n",
              "      <td>0.430297</td>\n",
              "      <td>0.175325</td>\n",
              "      <td>0.531062</td>\n",
              "      <td>-0.119638</td>\n",
              "      <td>0.554897</td>\n",
              "      <td>0.538166</td>\n",
              "      <td>-0.102007</td>\n",
              "      <td>0.483208</td>\n",
              "      <td>0.440472</td>\n",
              "      <td>0.602450</td>\n",
              "      <td>-0.030413</td>\n",
              "      <td>0.215204</td>\n",
              "      <td>0.787424</td>\n",
              "      <td>0.359755</td>\n",
              "      <td>0.816322</td>\n",
              "      <td>0.747419</td>\n",
              "      <td>0.547691</td>\n",
              "      <td>0.801080</td>\n",
              "      <td>0.855434</td>\n",
              "      <td>1.000000</td>\n",
              "      <td>0.502528</td>\n",
              "      <td>0.511114</td>\n",
              "    </tr>\n",
              "    <tr>\n",
              "      <th>symmetry_worst</th>\n",
              "      <td>-0.044224</td>\n",
              "      <td>0.416294</td>\n",
              "      <td>0.163953</td>\n",
              "      <td>0.105008</td>\n",
              "      <td>0.189115</td>\n",
              "      <td>0.143570</td>\n",
              "      <td>0.394309</td>\n",
              "      <td>0.510223</td>\n",
              "      <td>0.409464</td>\n",
              "      <td>0.375744</td>\n",
              "      <td>0.699826</td>\n",
              "      <td>0.334019</td>\n",
              "      <td>0.094543</td>\n",
              "      <td>-0.128215</td>\n",
              "      <td>0.109930</td>\n",
              "      <td>0.074126</td>\n",
              "      <td>-0.107342</td>\n",
              "      <td>0.277878</td>\n",
              "      <td>0.197788</td>\n",
              "      <td>0.143116</td>\n",
              "      <td>0.389402</td>\n",
              "      <td>0.111094</td>\n",
              "      <td>0.243529</td>\n",
              "      <td>0.233027</td>\n",
              "      <td>0.269493</td>\n",
              "      <td>0.209146</td>\n",
              "      <td>0.493838</td>\n",
              "      <td>0.614441</td>\n",
              "      <td>0.532520</td>\n",
              "      <td>0.502528</td>\n",
              "      <td>1.000000</td>\n",
              "      <td>0.537848</td>\n",
              "    </tr>\n",
              "    <tr>\n",
              "      <th>fractal_dimension_worst</th>\n",
              "      <td>-0.029866</td>\n",
              "      <td>0.323872</td>\n",
              "      <td>0.007066</td>\n",
              "      <td>0.119205</td>\n",
              "      <td>0.051019</td>\n",
              "      <td>0.003738</td>\n",
              "      <td>0.499316</td>\n",
              "      <td>0.687382</td>\n",
              "      <td>0.514930</td>\n",
              "      <td>0.368661</td>\n",
              "      <td>0.438413</td>\n",
              "      <td>0.767297</td>\n",
              "      <td>0.049559</td>\n",
              "      <td>-0.045655</td>\n",
              "      <td>0.085433</td>\n",
              "      <td>0.017539</td>\n",
              "      <td>0.101480</td>\n",
              "      <td>0.590973</td>\n",
              "      <td>0.439329</td>\n",
              "      <td>0.310655</td>\n",
              "      <td>0.078079</td>\n",
              "      <td>0.591328</td>\n",
              "      <td>0.093492</td>\n",
              "      <td>0.219122</td>\n",
              "      <td>0.138957</td>\n",
              "      <td>0.079647</td>\n",
              "      <td>0.617624</td>\n",
              "      <td>0.810455</td>\n",
              "      <td>0.686511</td>\n",
              "      <td>0.511114</td>\n",
              "      <td>0.537848</td>\n",
              "      <td>1.000000</td>\n",
              "    </tr>\n",
              "  </tbody>\n",
              "</table>\n",
              "</div>"
            ],
            "text/plain": [
              "                               id  ...  fractal_dimension_worst\n",
              "id                       1.000000  ...                -0.029866\n",
              "diagnosis                0.039769  ...                 0.323872\n",
              "radius_mean              0.074626  ...                 0.007066\n",
              "texture_mean             0.099770  ...                 0.119205\n",
              "perimeter_mean           0.073159  ...                 0.051019\n",
              "area_mean                0.096893  ...                 0.003738\n",
              "smoothness_mean         -0.012968  ...                 0.499316\n",
              "compactness_mean         0.000096  ...                 0.687382\n",
              "concavity_mean           0.050080  ...                 0.514930\n",
              "concave points_mean      0.044158  ...                 0.368661\n",
              "symmetry_mean           -0.022114  ...                 0.438413\n",
              "fractal_dimension_mean  -0.052511  ...                 0.767297\n",
              "radius_se                0.143048  ...                 0.049559\n",
              "texture_se              -0.007526  ...                -0.045655\n",
              "perimeter_se             0.137331  ...                 0.085433\n",
              "area_se                  0.177742  ...                 0.017539\n",
              "smoothness_se            0.096781  ...                 0.101480\n",
              "compactness_se           0.033961  ...                 0.590973\n",
              "concavity_se             0.055239  ...                 0.439329\n",
              "concave points_se        0.078768  ...                 0.310655\n",
              "symmetry_se             -0.017306  ...                 0.078079\n",
              "fractal_dimension_se     0.025725  ...                 0.591328\n",
              "radius_worst             0.082405  ...                 0.093492\n",
              "texture_worst            0.064720  ...                 0.219122\n",
              "perimeter_worst          0.079986  ...                 0.138957\n",
              "area_worst               0.107187  ...                 0.079647\n",
              "smoothness_worst         0.010338  ...                 0.617624\n",
              "compactness_worst       -0.002968  ...                 0.810455\n",
              "concavity_worst          0.023203  ...                 0.686511\n",
              "concave points_worst     0.035174  ...                 0.511114\n",
              "symmetry_worst          -0.044224  ...                 0.537848\n",
              "fractal_dimension_worst -0.029866  ...                 1.000000\n",
              "\n",
              "[32 rows x 32 columns]"
            ]
          },
          "metadata": {
            "tags": []
          },
          "execution_count": 31
        }
      ]
    },
    {
      "cell_type": "markdown",
      "metadata": {
        "id": "IBerc0Dg0i20",
        "colab_type": "text"
      },
      "source": [
        "##2.To establish a baseline, perform cross-validation on your dataset using a decision tree and a random forest."
      ]
    },
    {
      "cell_type": "code",
      "metadata": {
        "id": "aj2QO4UNHR-w",
        "colab_type": "code",
        "colab": {}
      },
      "source": [
        "def boxplot(a,b,c,d):\n",
        "  dfa=pd.DataFrame(a,columns=['Acc_scores'])\n",
        "  dfa['Pre_scores']=b\n",
        "  dfa['Rec_scores']=c\n",
        "  dfa['F1_scores']=d\n",
        "  plt.figure(6)\n",
        "  boxplot = dfa.boxplot(column=['Acc_scores','Pre_scores','Rec_scores','F1_scores'])"
      ],
      "execution_count": 0,
      "outputs": []
    },
    {
      "cell_type": "code",
      "metadata": {
        "id": "W0AhKe4I_pTn",
        "colab_type": "code",
        "colab": {}
      },
      "source": [
        "#Function to establish a baseline and find average and accuracy \n",
        "def baseline(model,x,y):\n",
        "  Acc_scores=cross_val_score(model,x,y,cv=10,scoring=make_scorer(accuracy_score)) #calculates accuracy \n",
        "  Pre_scores=cross_val_score(model,x,y,cv=10,scoring=make_scorer(precision_score)) #calculates precision\n",
        "  Rec_scores=cross_val_score(model,x,y,cv=10,scoring=make_scorer(recall_score)) #calculates Recall\n",
        "  F1_scores=cross_val_score(model,x,y,cv=10,scoring=make_scorer(f1_score)) #calculates F1\n",
        "  print(\"Accuracy:\", Acc_scores)\n",
        "  print(\"Precision:\", Pre_scores)\n",
        "  print(\"Recall:\", Rec_scores)\n",
        "  print(\"F1 Score:\", F1_scores)\n",
        "  #Averages of the scores printed out\n",
        "  print(\"Average Accuracy: %0.2f (+/- %0.2f)\" % (Acc_scores.mean(), Acc_scores.std() * 2))\n",
        "  print(\"Average Precision: %0.2f (+/- %0.2f)\" % (Pre_scores.mean(), Pre_scores.std() * 2))\n",
        "  print(\"Average Recall: %0.2f (+/- %0.2f)\" % (Rec_scores.mean(), Rec_scores.std() * 2))\n",
        "  print(\"Average F1 Score: %0.2f (+/- %0.2f)\" % (F1_scores.mean(), F1_scores.std() * 2))\n",
        "  boxplot(Acc_scores, Pre_scores,Rec_scores,F1_scores)\n",
        "  \n"
      ],
      "execution_count": 0,
      "outputs": []
    },
    {
      "cell_type": "code",
      "metadata": {
        "id": "Qk3guuJZ5jv7",
        "colab_type": "code",
        "colab": {}
      },
      "source": [
        "x=cancerdf.drop('diagnosis', axis=1) ##Predictors\n",
        "y=cancerdf.diagnosis ## Target variable"
      ],
      "execution_count": 0,
      "outputs": []
    },
    {
      "cell_type": "code",
      "metadata": {
        "id": "L-1okz1lmyKz",
        "colab_type": "code",
        "outputId": "2ebe8bec-2a57-4934-bc63-9e2acfeedc53",
        "colab": {
          "base_uri": "https://localhost:8080/",
          "height": 468
        }
      },
      "source": [
        "#Decision Tree to perform cross validation\n",
        "decclf = DecisionTreeClassifier(random_state=90)\n",
        "baseline(decclf,x,y)"
      ],
      "execution_count": 0,
      "outputs": [
        {
          "output_type": "stream",
          "text": [
            "Accuracy: [0.9122807  0.85964912 0.92982456 0.87719298 0.94736842 0.89473684\n",
            " 0.9122807  0.94736842 0.92982456 0.98214286]\n",
            "Precision: [0.86956522 0.85       0.94736842 0.81818182 0.90909091 0.85714286\n",
            " 1.         0.90909091 0.84       0.95454545]\n",
            "Recall: [0.90909091 0.77272727 0.85714286 0.85714286 0.95238095 0.85714286\n",
            " 0.76190476 0.95238095 1.         1.        ]\n",
            "F1 Score: [0.88888889 0.80952381 0.9        0.8372093  0.93023256 0.85714286\n",
            " 0.86486486 0.93023256 0.91304348 0.97674419]\n",
            "Average Accuracy: 0.92 (+/- 0.07)\n",
            "Average Precision: 0.90 (+/- 0.11)\n",
            "Average Recall: 0.89 (+/- 0.16)\n",
            "Average F1 Score: 0.89 (+/- 0.09)\n"
          ],
          "name": "stdout"
        },
        {
          "output_type": "display_data",
          "data": {
            "image/png": "[encoded data removed]",
            "text/plain": [
              "<Figure size 432x288 with 1 Axes>"
            ]
          },
          "metadata": {
            "tags": [],
            "needs_background": "light"
          }
        }
      ]
    },
    {
      "cell_type": "code",
      "metadata": {
        "id": "iDXaRitKOZ9A",
        "colab_type": "code",
        "outputId": "43e162c3-ce6e-48b9-bdf9-af5caa324126",
        "colab": {
          "base_uri": "https://localhost:8080/",
          "height": 1000
        }
      },
      "source": [
        "# Decision Tree\n",
        "plt.figure(figsize=(18,18))\n",
        "plottree=plot_tree(decclf.fit(x, y),filled=True)\n",
        "plt.title(\"Decision tree on cancerdf (Gini)\")\n",
        "plt.show()\n"
      ],
      "execution_count": 0,
      "outputs": [
        {
          "output_type": "display_data",
          "data": {
            "image/png": "[encoded data removed]",
            "text/plain": [
              "<Figure size 1296x1296 with 1 Axes>"
            ]
          },
          "metadata": {
            "tags": [],
            "needs_background": "light"
          }
        }
      ]
    },
    {
      "cell_type": "code",
      "metadata": {
        "id": "cC0DddtwMp_r",
        "colab_type": "code",
        "outputId": "0579ff3e-0bec-49ee-fb12-f1f6f0d9c236",
        "colab": {
          "base_uri": "https://localhost:8080/",
          "height": 468
        }
      },
      "source": [
        "#Performing random forest classifier cross validation \n",
        "RFC=RandomForestClassifier()\n",
        "baseline(RFC,x,y)"
      ],
      "execution_count": 0,
      "outputs": [
        {
          "output_type": "stream",
          "text": [
            "Accuracy: [0.98245614 0.87719298 0.9122807  0.96491228 0.98245614 0.98245614\n",
            " 0.94736842 0.98245614 0.96491228 0.96428571]\n",
            "Precision: [0.95652174 0.85714286 0.94736842 1.         1.         0.95454545\n",
            " 0.95       1.         0.90909091 1.        ]\n",
            "Recall: [1.         0.81818182 0.80952381 0.80952381 0.95238095 1.\n",
            " 0.9047619  0.95238095 0.95238095 0.95238095]\n",
            "F1 Score: [0.97777778 0.8372093  0.92682927 0.92307692 0.97560976 0.97674419\n",
            " 0.92682927 0.97560976 0.93023256 1.        ]\n",
            "Average Accuracy: 0.96 (+/- 0.07)\n",
            "Average Precision: 0.96 (+/- 0.09)\n",
            "Average Recall: 0.92 (+/- 0.14)\n",
            "Average F1 Score: 0.94 (+/- 0.09)\n"
          ],
          "name": "stdout"
        },
        {
          "output_type": "display_data",
          "data": {
            "image/png": "[encoded data removed]",
            "text/plain": [
              "<Figure size 432x288 with 1 Axes>"
            ]
          },
          "metadata": {
            "tags": [],
            "needs_background": "light"
          }
        }
      ]
    },
    {
      "cell_type": "markdown",
      "metadata": {
        "id": "oMOxN8QALyf9",
        "colab_type": "text"
      },
      "source": [
        "##3. Partition each of the datasets into 10 bins, keeping the imbalance ratio from the original dataset using stratified cross-validation \n"
      ]
    },
    {
      "cell_type": "markdown",
      "metadata": {
        "id": "4fzzUieQhU9S",
        "colab_type": "text"
      },
      "source": [
        "## Stratified CV "
      ]
    },
    {
      "cell_type": "code",
      "metadata": {
        "id": "w90QgoLcLyNH",
        "colab_type": "code",
        "outputId": "3f09c73f-7f71-4402-a6e5-438cfde21f3b",
        "colab": {
          "base_uri": "https://localhost:8080/",
          "height": 521
        }
      },
      "source": [
        "Folds = StratifiedKFold(n_splits=10,shuffle=False,random_state=None)\n",
        "for train_index, test_index in Folds.split(x, y):\n",
        "  xtrain, xtest = x.iloc[train_index], x.iloc[test_index]\n",
        "  ytrain, ytest = y.iloc[train_index], y.iloc[test_index]\n",
        "  train_0, train_1 = len(ytrain[ytrain==0]), len(ytrain[ytrain==1])\n",
        "  test_0, test_1 = len(ytest[ytest==0]), len(ytest[ytest==1])\n",
        "  print('>Train: 0=%d, 1=%d, Test: 0=%d, 1=%d' % (train_0, train_1, test_0, test_1))\n",
        "  print(xtrain.shape)\n",
        "  print(xtest.shape)\n",
        "  "
      ],
      "execution_count": 0,
      "outputs": [
        {
          "output_type": "stream",
          "text": [
            ">Train: 0=322, 1=190, Test: 0=35, 1=22\n",
            "(512, 31)\n",
            "(57, 31)\n",
            ">Train: 0=322, 1=190, Test: 0=35, 1=22\n",
            "(512, 31)\n",
            "(57, 31)\n",
            ">Train: 0=321, 1=191, Test: 0=36, 1=21\n",
            "(512, 31)\n",
            "(57, 31)\n",
            ">Train: 0=321, 1=191, Test: 0=36, 1=21\n",
            "(512, 31)\n",
            "(57, 31)\n",
            ">Train: 0=321, 1=191, Test: 0=36, 1=21\n",
            "(512, 31)\n",
            "(57, 31)\n",
            ">Train: 0=321, 1=191, Test: 0=36, 1=21\n",
            "(512, 31)\n",
            "(57, 31)\n",
            ">Train: 0=321, 1=191, Test: 0=36, 1=21\n",
            "(512, 31)\n",
            "(57, 31)\n",
            ">Train: 0=321, 1=191, Test: 0=36, 1=21\n",
            "(512, 31)\n",
            "(57, 31)\n",
            ">Train: 0=321, 1=191, Test: 0=36, 1=21\n",
            "(512, 31)\n",
            "(57, 31)\n",
            ">Train: 0=322, 1=191, Test: 0=35, 1=21\n",
            "(513, 31)\n",
            "(56, 31)\n"
          ],
          "name": "stdout"
        }
      ]
    },
    {
      "cell_type": "markdown",
      "metadata": {
        "colab_type": "text",
        "id": "MH7YIaeJB14n"
      },
      "source": [
        "####Training Data"
      ]
    },
    {
      "cell_type": "code",
      "metadata": {
        "colab_type": "code",
        "outputId": "4d8bdd5d-7643-4497-d09a-aa68b870d28a",
        "id": "wYGSasiHB14Z",
        "colab": {
          "base_uri": "https://localhost:8080/",
          "height": 363
        }
      },
      "source": [
        "Benign=len(ytrain[ytrain==0])\n",
        "Malignant= len(ytrain[ytrain==1])\n",
        "\n",
        "Benign_percentage= Benign/(Malignant+Benign)\n",
        "Malignant_percentage= Malignant/(Malignant+Benign)\n",
        "\n",
        "print(\"Benign percentage is\", Benign_percentage*100)\n",
        "print(\"Malignant percentage is\", Malignant_percentage*100)\n",
        "\n",
        "plt.title('Target Distribution \\n (0: Benign || 1: Malignant)', fontsize=14)\n",
        "sns.countplot(ytrain,data=xtrain)"
      ],
      "execution_count": 0,
      "outputs": [
        {
          "output_type": "stream",
          "text": [
            "Benign percentage is 62.768031189083814\n",
            "Malignant percentage is 37.23196881091618\n"
          ],
          "name": "stdout"
        },
        {
          "output_type": "execute_result",
          "data": {
            "text/plain": [
              "<matplotlib.axes._subplots.AxesSubplot at 0x7f9c1a98af28>"
            ]
          },
          "metadata": {
            "tags": []
          },
          "execution_count": 41
        },
        {
          "output_type": "display_data",
          "data": {
            "image/png": "[encoded data removed]",
            "text/plain": [
              "<Figure size 432x288 with 1 Axes>"
            ]
          },
          "metadata": {
            "tags": [],
            "needs_background": "light"
          }
        }
      ]
    },
    {
      "cell_type": "markdown",
      "metadata": {
        "colab_type": "text",
        "id": "0xh-YPKmB14X"
      },
      "source": [
        "####Test Data"
      ]
    },
    {
      "cell_type": "code",
      "metadata": {
        "colab_type": "code",
        "outputId": "a73a31e2-cdf4-492f-b5e0-18ceb02bcdda",
        "id": "mBbvk_ilB14H",
        "colab": {
          "base_uri": "https://localhost:8080/",
          "height": 363
        }
      },
      "source": [
        "Benign=len(ytest[ytest==0])\n",
        "Malignant= len(ytest[ytest==1])\n",
        "\n",
        "Benign_percentage= Benign/(Malignant+Benign)\n",
        "Malignant_percentage= Malignant/(Malignant+Benign)\n",
        "\n",
        "print(\"Benign percentage is\", Benign_percentage*100)\n",
        "print(\"Malignant percentage is\", Malignant_percentage*100)\n",
        "\n",
        "plt.title('Target Distribution \\n (0: Benign || 1: Malignant)', fontsize=14)\n",
        "sns.countplot(ytest,data=xtest)"
      ],
      "execution_count": 0,
      "outputs": [
        {
          "output_type": "stream",
          "text": [
            "Benign percentage is 62.5\n",
            "Malignant percentage is 37.5\n"
          ],
          "name": "stdout"
        },
        {
          "output_type": "execute_result",
          "data": {
            "text/plain": [
              "<matplotlib.axes._subplots.AxesSubplot at 0x7f9c1c594550>"
            ]
          },
          "metadata": {
            "tags": []
          },
          "execution_count": 42
        },
        {
          "output_type": "display_data",
          "data": {
            "image/png": "[encoded data removed]",
            "text/plain": [
              "<Figure size 432x288 with 1 Axes>"
            ]
          },
          "metadata": {
            "tags": [],
            "needs_background": "light"
          }
        }
      ]
    },
    {
      "cell_type": "markdown",
      "metadata": {
        "colab_type": "text",
        "id": "8KSLZuVqB13_"
      },
      "source": [
        "Skewed K folds is completed as both test and traing data share the same balance ratio."
      ]
    },
    {
      "cell_type": "markdown",
      "metadata": {
        "id": "aTm11ZpTQIDP",
        "colab_type": "text"
      },
      "source": [
        "##Elbow and Silhoutte method"
      ]
    },
    {
      "cell_type": "code",
      "metadata": {
        "id": "OYUQ3xNyBQ4g",
        "colab_type": "code",
        "colab": {}
      },
      "source": [
        "#Elbow method function\n",
        "def elbow():\n",
        "  Sum_of_squared_distances = []\n",
        "  K = range(1,30)\n",
        "  for k in K:\n",
        "    km = KMeans(n_clusters=k)\n",
        "    km = km.fit(xtrain)\n",
        "    Sum_of_squared_distances.append(km.inertia_)\n",
        "  plt.figure(1)\n",
        "  plt.plot(K, Sum_of_squared_distances, 'bx-')\n",
        "  plt.xlabel('k')\n",
        "  plt.ylabel('dist(Sun of squares)')\n",
        "  plt.title('Optimal K: Elbow Method')\n",
        "  plt.show()"
      ],
      "execution_count": 0,
      "outputs": []
    },
    {
      "cell_type": "code",
      "metadata": {
        "id": "uSUBCi9sBeBQ",
        "colab_type": "code",
        "colab": {}
      },
      "source": [
        "def silhoutte():\n",
        "  silhoutte=[]\n",
        "  k_silhoutte= range(2,10)\n",
        "  for k_s in k_silhoutte:\n",
        "    print(k_silhoutte,end=' ')\n",
        "    kmeans= KMeans(n_clusters=k_s)\n",
        "    kmeans=kmeans.fit(xtrain)\n",
        "    labels=kmeans.labels_\n",
        "    silhoutte.append(silhouette_score(xtrain,labels,metric='euclidean')) \n",
        "  plt.figure(2)\n",
        "  plt.plot(k_silhoutte,silhoutte, 'bx-')\n",
        "  plt.xlabel('k')\n",
        "  plt.ylabel('silhouette_score')\n",
        "  plt.title('Optimal K: Silhoutte Method')\n",
        "  plt.show"
      ],
      "execution_count": 0,
      "outputs": []
    },
    {
      "cell_type": "markdown",
      "metadata": {
        "id": "216Q4YT-NS2J",
        "colab_type": "text"
      },
      "source": [
        "##Summerise the distributions"
      ]
    },
    {
      "cell_type": "code",
      "metadata": {
        "id": "HfeNVAEKH9eY",
        "colab_type": "code",
        "outputId": "12883d2c-c047-4de3-a439-55b36cf6883c",
        "colab": {
          "base_uri": "https://localhost:8080/",
          "height": 1000
        }
      },
      "source": [
        "for train_index, test_index in Folds.split(x, y):\n",
        "  \n",
        "  #selects rows\n",
        "  xtrain, xtest = x.iloc[train_index], x.iloc[test_index]\n",
        "  ytrain, ytest = y.iloc[train_index], y.iloc[test_index]\n",
        "    \n",
        "  std_scaled=StandardScaler().fit(xtrain)\n",
        "  xtrain=std_scaled.transform(xtrain)\n",
        "  xtest=std_scaled.transform(xtest)\n",
        "\n",
        "  print('Begin process')\n",
        "  print('-----------'*5)\n",
        "  # elbow and silhoutte method\n",
        "  elbow()\n",
        "  silhoutte()\n",
        "  #run kmeans\n",
        "  numk=5\n",
        "  #model created using kmeans object and fitting kmeans object to dataset\n",
        "  kmeans=KMeans(n_clusters=numk)\n",
        "  kmeans = kmeans.fit(xtrain)\n",
        "\n",
        "  cluster_ytrain = kmeans.predict(xtrain)\n",
        "  print('-----------'*5)\n",
        "  print('-----------ytrain-------------')\n",
        "  print('-----------'*5)\n",
        "  #Predict the closest cluster each sample\n",
        "  print('Closest Clusters: \\n', cluster_ytrain)\n",
        "    #gets each clusters centroid points\n",
        "  centroids=kmeans.cluster_centers_\n",
        "  print('centroids \\n', centroids)\n",
        "  print('-----------'*5)\n",
        "  print('cluster center shape \\n',kmeans.cluster_centers_.shape)\n",
        "  print('-----------'*5)\n",
        "  \n",
        "  \n",
        "  #append the cluster labels into df\n",
        "  df0=pd.DataFrame(data=xtrain)\n",
        "  df0['clusters']=cluster_ytrain\n",
        "  \n",
        "  #prints the clusters labels in ascending order\n",
        "  print('-----------'*5)\n",
        "  print('clusters \\n',df0.clusters.unique())\n",
        "  print('-----------'*5)\n",
        "  print('number of samples per cluster \\n', Counter(cluster_ytrain))\n",
        "  print('-----------'*5)\n",
        "\n",
        "  #Assigning xtest samples\n",
        "  cluster_ytest =  kmeans.predict(xtest)\n",
        "\n",
        "  df1=pd.DataFrame(data=xtest)\n",
        "  df1['clusters']=cluster_ytest\n",
        "  print('---------ytest--------------')\n",
        "  #Predict the closest cluster each sample\n",
        "  print('-----------'*5)\n",
        "  print('Closest Clusters: \\n', cluster_ytest)\n",
        "  RFC=RandomForestClassifier()\n",
        "  print('-----------'*5)\n",
        "  baseline(RFC,df1,ytest)\n",
        "  print('-----------'*5)\n"
      ],
      "execution_count": 0,
      "outputs": [
        {
          "output_type": "stream",
          "text": [
            "Begin process\n",
            "-------------------------------------------------------\n"
          ],
          "name": "stdout"
        },
        {
          "output_type": "display_data",
          "data": {
            "image/png": "[encoded data removed]",
            "text/plain": [
              "<Figure size 432x288 with 1 Axes>"
            ]
          },
          "metadata": {
            "tags": [],
            "needs_background": "light"
          }
        },
        {
          "output_type": "stream",
          "text": [
            "range(2, 10) range(2, 10) range(2, 10) range(2, 10) range(2, 10) range(2, 10) range(2, 10) range(2, 10) -------------------------------------------------------\n",
            "-----------ytrain-------------\n",
            "-------------------------------------------------------\n",
            "Closest Clusters: \n",
            " [3 1 2 1 2 3 1 2 2 1 2 1 0 4 0 4 3 4 4 2 1 2 0 2 1 1 1 2 2 1 4 2 3 3 3 2 2\n",
            " 4 2 4 2 2 4 0 4 0 4 4 1 4 0 3 4 4 4 1 4 4 4 4 1 1 2 0 2 3 4 0 0 0 2 4 2 4\n",
            " 2 2 0 2 0 0 0 2 4 0 2 4 0 0 4 1 4 4 0 4 1 1 0 4 0 2 0 0 0 4 2 3 4 2 0 0 2\n",
            " 2 0 4 0 1 4 0 0 1 1 0 0 3 3 2 0 0 4 2 0 0 0 1 0 0 1 1 0 1 2 2 1 4 2 3 1 4\n",
            " 4 4 2 4 0 2 0 3 2 1 1 4 0 2 2 0 4 4 2 0 0 0 0 0 1 2 0 0 2 4 0 3 2 0 2 0 0\n",
            " 1 0 2 4 0 1 4 4 3 0 3 2 2 4 3 1 3 1 2 0 2 0 2 3 4 0 0 4 0 0 3 4 2 4 0 2 0\n",
            " 0 2 0 2 1 0 0 4 0 4 0 1 0 4 0 0 0 0 0 0 4 3 4 3 4 0 0 0 0 0 0 0 0 0 0 4 0\n",
            " 0 2 1 0 4 2 4 3 0 0 0 0 2 2 2 4 4 0 0 2 4 2 4 3 4 4 4 2 4 4 0 0 0 4 0 1 3\n",
            " 2 0 4 4 0 4 0 0 0 0 0 0 2 3 0 2 3 1 0 2 2 0 4 1 0 0 1 4 0 4 4 0 0 0 0 4 2\n",
            " 0 4 1 3 4 0 4 0 0 0 1 0 0 0 0 4 0 0 2 0 0 0 0 4 0 4 4 3 0 0 4 1 4 4 4 0 4\n",
            " 0 0 0 1 4 2 2 0 4 0 0 0 0 4 2 0 0 2 4 2 0 0 2 4 2 0 4 0 0 4 0 0 0 2 3 0 0\n",
            " 0 1 4 0 1 4 4 0 0 0 4 0 0 0 4 1 0 0 4 0 4 1 0 2 4 0 0 0 2 0 0 0 4 0 2 2 0\n",
            " 1 4 3 1 1 4 4 0 1 4 0 1 0 0 4 2 2 4 4 4 3 0 4 4 4 4 0 4 4 4 4 0 2 4 2 4 4\n",
            " 4 4 4 1 0 0 0 0 0 4 0 0 0 4 0 4 0 4 4 0 4 4 4 0 1 3 3 2 2 3 0]\n",
            "centroids \n",
            " [[ 7.77376095e-04 -3.97185136e-01 -2.51149343e-01 -4.34189331e-01\n",
            "  -4.15014026e-01 -7.57109927e-01 -8.11736816e-01 -7.24211540e-01\n",
            "  -7.19978770e-01 -5.70678895e-01 -5.43684409e-01 -4.61756039e-01\n",
            "  -1.37030911e-01 -4.84268125e-01 -4.02857035e-01 -4.30811465e-01\n",
            "  -6.35790041e-01 -5.40931501e-01 -6.79988744e-01 -2.64823624e-01\n",
            "  -5.23091446e-01 -4.49239788e-01 -2.44979100e-01 -4.84669022e-01\n",
            "  -4.53563788e-01 -7.18091392e-01 -6.93939732e-01 -6.97064229e-01\n",
            "  -7.35766269e-01 -4.14377758e-01 -6.44922709e-01]\n",
            " [-3.35037767e-02 -1.05276661e-01  2.47706772e-01 -1.55882182e-02\n",
            "  -1.58978756e-01  8.57903136e-01  1.29816197e+00  1.07898175e+00\n",
            "   6.44044743e-01  9.42489227e-01  1.45981432e+00 -5.80750036e-03\n",
            "   1.08248798e-01  1.01188625e-01 -1.04966076e-01  2.27665385e-01\n",
            "   1.30783135e+00  1.16184061e+00  8.40138719e-01  3.44051100e-01\n",
            "   1.32948201e+00  7.63693078e-03  4.56671446e-01  1.21980559e-01\n",
            "  -6.71425227e-02  1.01951458e+00  1.55118734e+00  1.44793396e+00\n",
            "   9.38614552e-01  1.00947963e+00  1.86282449e+00]\n",
            " [ 1.57433922e-01  1.18699429e+00  5.00657858e-01  1.15325422e+00\n",
            "   1.12510123e+00  1.74560506e-01  3.56349840e-01  6.49147446e-01\n",
            "   9.01701587e-01  1.11485435e-01 -6.31032376e-01  7.02244513e-01\n",
            "  -1.46083001e-02  6.14991165e-01  6.51838372e-01 -9.14340779e-02\n",
            "   9.81660394e-02  1.82317520e-01  4.92106207e-01 -1.24253144e-01\n",
            "  -1.22789750e-01  1.18225451e+00  4.88537263e-01  1.12058057e+00\n",
            "   1.08799857e+00  2.70518704e-01  3.07592252e-01  5.40362200e-01\n",
            "   8.70490610e-01  2.04677906e-01 -2.00176762e-01]\n",
            " [ 9.08924468e-02  2.05726079e+00  7.99476550e-01  2.13355415e+00\n",
            "   2.24028822e+00  9.81009132e-01  1.95239562e+00  2.18393327e+00\n",
            "   2.31198922e+00  1.12314228e+00  3.46229570e-01  2.36539272e+00\n",
            "   1.41833416e-01  2.44332355e+00  2.40755805e+00  1.49908029e-01\n",
            "   1.12698350e+00  9.77489883e-01  1.16490454e+00  5.10870371e-01\n",
            "   4.97673306e-01  2.17545284e+00  6.15617397e-01  2.26342594e+00\n",
            "   2.34422039e+00  5.90950675e-01  1.41186671e+00  1.55241607e+00\n",
            "   1.85690488e+00  7.41252253e-01  6.28203240e-01]\n",
            " [-1.12842894e-01 -6.76667295e-01 -2.64234362e-01 -6.56867111e-01\n",
            "  -6.36046961e-01  3.89900360e-01 -7.62327323e-02 -3.64064344e-01\n",
            "  -3.90706078e-01  8.85059977e-02  5.20386321e-01 -3.88523192e-01\n",
            "   1.28674981e-01 -3.62616414e-01 -4.12407952e-01  5.55724204e-01\n",
            "   4.31813971e-02 -5.18594429e-02  3.20083576e-02  1.95338830e-01\n",
            "   1.75275940e-01 -6.73895586e-01 -3.02565851e-01 -6.51290162e-01\n",
            "  -6.19802349e-01  3.06028486e-01 -1.79402130e-01 -3.19882990e-01\n",
            "  -3.49536203e-01 -1.28162266e-01  1.53439642e-01]]\n",
            "-------------------------------------------------------\n",
            "cluster center shape \n",
            " (5, 31)\n",
            "-------------------------------------------------------\n",
            "-------------------------------------------------------\n",
            "clusters \n",
            " [3 1 2 0 4]\n",
            "-------------------------------------------------------\n",
            "number of samples per cluster \n",
            " Counter({0: 198, 4: 136, 2: 88, 1: 55, 3: 35})\n",
            "-------------------------------------------------------\n",
            "---------ytest--------------\n",
            "-------------------------------------------------------\n",
            "Closest Clusters: \n",
            " [3 2 2 1 2 1 2 1 1 1 0 2 3 2 1 1 2 1 2 4 4 4 1 2 2 0 0 4 0 0 0 0 0 0 4 4 4\n",
            " 4 4 0 1 0 1 0 4 0 4 1 4 4 4 0 0 0 4 4 0]\n",
            "-------------------------------------------------------\n",
            "Accuracy: [1.         1.         1.         1.         0.83333333 1.\n",
            " 0.83333333 0.8        1.         1.        ]\n",
            "Precision: [1.         1.         1.         1.         1.         0.66666667\n",
            " 1.         0.66666667 1.         1.        ]\n",
            "Recall: [1.  1.  1.  1.  0.5 1.  1.  1.  1.  1. ]\n",
            "F1 Score: [1.  1.  1.  1.  1.  0.8 0.8 0.8 1.  1. ]\n",
            "Average Accuracy: 0.95 (+/- 0.16)\n",
            "Average Precision: 0.93 (+/- 0.27)\n",
            "Average Recall: 0.95 (+/- 0.30)\n",
            "Average F1 Score: 0.94 (+/- 0.18)\n",
            "-------------------------------------------------------\n",
            "Begin process\n",
            "-------------------------------------------------------\n"
          ],
          "name": "stdout"
        },
        {
          "output_type": "display_data",
          "data": {
            "image/png": "[encoded data removed]",
            "text/plain": [
              "<Figure size 432x288 with 1 Axes>"
            ]
          },
          "metadata": {
            "tags": [],
            "needs_background": "light"
          }
        },
        {
          "output_type": "display_data",
          "data": {
            "image/png": "[encoded data removed]",
            "text/plain": [
              "<Figure size 432x288 with 1 Axes>"
            ]
          },
          "metadata": {
            "tags": [],
            "needs_background": "light"
          }
        },
        {
          "output_type": "display_data",
          "data": {
            "image/png": "[encoded data removed]",
            "text/plain": [
              "<Figure size 432x288 with 1 Axes>"
            ]
          },
          "metadata": {
            "tags": [],
            "needs_background": "light"
          }
        },
        {
          "output_type": "stream",
          "text": [
            "range(2, 10) range(2, 10) range(2, 10) range(2, 10) range(2, 10) range(2, 10) range(2, 10) range(2, 10) -------------------------------------------------------\n",
            "-----------ytrain-------------\n",
            "-------------------------------------------------------\n",
            "Closest Clusters: \n",
            " [4 2 2 0 2 0 2 0 0 0 1 2 4 2 0 0 2 0 2 3 3 3 0 2 2 1 3 3 1 1 1 1 1 1 2 0 1\n",
            " 3 3 3 0 3 0 2 3 1 0 1 2 0 0 3 1 2 3 4 4 1 3 0 4 2 3 2 3 2 3 3 1 3 1 1 2 2\n",
            " 3 3 3 3 1 0 4 0 0 2 2 4 1 2 2 2 2 2 1 2 2 0 1 3 1 2 1 1 1 3 2 2 3 2 1 1 2\n",
            " 2 1 3 1 0 3 1 1 0 2 1 1 4 4 2 3 1 3 2 1 1 1 0 1 1 0 0 1 0 2 2 2 3 2 4 0 3\n",
            " 3 3 2 3 1 2 1 4 0 0 0 3 3 2 2 1 3 3 2 1 1 1 1 1 0 2 1 1 2 3 1 4 2 1 2 1 1\n",
            " 0 1 2 3 1 0 3 3 4 1 4 2 2 3 4 0 4 0 2 1 2 1 2 2 3 1 1 3 1 3 4 3 2 3 1 2 1\n",
            " 1 2 1 2 2 3 1 3 1 3 1 0 1 3 1 1 1 1 1 1 3 4 3 4 3 1 1 1 1 1 1 1 1 1 1 3 1\n",
            " 1 2 0 1 3 2 3 4 1 1 1 1 2 2 2 3 3 1 1 2 3 2 3 4 3 3 3 2 3 3 1 1 3 3 1 0 4\n",
            " 2 1 3 3 1 3 1 1 1 1 1 1 2 4 1 2 4 0 1 2 2 1 3 0 1 3 0 3 1 3 3 1 1 1 1 3 2\n",
            " 3 3 2 4 3 1 3 1 1 1 0 1 1 1 1 3 1 3 2 1 1 3 1 3 1 3 3 4 1 1 3 0 3 3 3 1 3\n",
            " 3 1 1 0 3 2 2 1 3 1 1 1 1 3 2 1 1 2 3 2 1 1 2 3 2 1 3 1 1 3 1 1 1 2 4 1 1\n",
            " 1 0 3 3 4 3 3 1 1 1 3 1 1 1 3 0 1 1 3 1 3 0 1 2 3 1 1 1 2 1 1 1 3 1 2 2 1\n",
            " 0 3 4 0 0 3 3 1 0 3 1 0 1 1 3 2 2 3 3 3 4 1 3 3 3 3 1 3 3 3 3 1 2 3 2 3 3\n",
            " 3 3 3 3 1 1 3 1 1 3 1 1 1 3 1 3 1 3 3 1 3 3 3 1 0 4 4 2 2 4 1]\n",
            "centroids \n",
            " [[ 0.05525226 -0.17949718  0.22853497 -0.0843361  -0.22936404  1.09339131\n",
            "   1.40576737  1.09825305  0.66456771  1.03707818  1.62010013 -0.01140106\n",
            "   0.06843863  0.08365794 -0.13661926  0.52285496  1.49760964  1.31298197\n",
            "   0.96362607  0.50632996  1.48237961 -0.08008859  0.40841855  0.02052122\n",
            "  -0.15625517  1.20008357  1.61462321  1.45705308  0.941739    1.1088983\n",
            "   1.86955368]\n",
            " [ 0.03251796 -0.37241183 -0.19177306 -0.41154769 -0.39675703 -0.76219967\n",
            "  -0.80130447 -0.73297582 -0.71756653 -0.58822304 -0.57109956 -0.47235441\n",
            "  -0.13146723 -0.48818058 -0.40491905 -0.44224474 -0.66066682 -0.61277229\n",
            "  -0.71579614 -0.25575015 -0.57951181 -0.42968346 -0.20460783 -0.46478083\n",
            "  -0.43958065 -0.73723152 -0.68262569 -0.69235845 -0.73153864 -0.43248059\n",
            "  -0.64377114]\n",
            " [ 0.10774523  1.15928067  0.47338969  1.12775707  1.10266612  0.15705287\n",
            "   0.33754253  0.64476369  0.89699153  0.09973724 -0.60217635  0.69135621\n",
            "  -0.06942229  0.60237232  0.65826235 -0.21421961  0.0301379   0.15088982\n",
            "   0.4614188  -0.23451713 -0.18563705  1.20430972  0.51826133  1.14838033\n",
            "   1.12918492  0.29138035  0.30992781  0.54924658  0.91528165  0.2054775\n",
            "  -0.13300921]\n",
            " [-0.16263928 -0.70038812 -0.31774959 -0.68407729 -0.65287638  0.26225636\n",
            "  -0.16486155 -0.40549    -0.4508072   0.07908204  0.43092506 -0.40358797\n",
            "   0.1383284  -0.38243921 -0.4232249   0.49014678 -0.00321932 -0.06216359\n",
            "  -0.04832856  0.18463829  0.1650291  -0.69857868 -0.3418641  -0.67756449\n",
            "  -0.63627262  0.19983819 -0.23679693 -0.35515923 -0.43279363 -0.12362018\n",
            "   0.08380475]\n",
            " [ 0.11832264  2.06117934  0.71945425  2.15113955  2.23803735  0.96975346\n",
            "   2.01543593  2.27111581  2.34294226  1.03481993  0.51869566  2.43264894\n",
            "   0.23759701  2.53687766  2.43298964  0.1655317   1.26480331  1.19407106\n",
            "   1.37565077  0.51818666  0.72801773  2.08722792  0.4772412   2.1961697\n",
            "   2.21419204  0.53662088  1.39954132  1.52446409  1.84569727  0.60770014\n",
            "   0.66920194]]\n",
            "-------------------------------------------------------\n",
            "cluster center shape \n",
            " (5, 31)\n",
            "-------------------------------------------------------\n",
            "-------------------------------------------------------\n",
            "clusters \n",
            " [4 2 0 1 3]\n",
            "-------------------------------------------------------\n",
            "number of samples per cluster \n",
            " Counter({1: 187, 3: 143, 2: 96, 0: 53, 4: 33})\n",
            "-------------------------------------------------------\n",
            "---------ytest--------------\n",
            "-------------------------------------------------------\n",
            "Closest Clusters: \n",
            " [4 0 2 2 2 4 0 2 2 0 2 0 1 3 1 3 4 3 3 2 0 2 3 1 3 3 3 1 3 3 3 0 3 3 3 3 3\n",
            " 3 1 1 3 3 1 1 1 3 1 3 1 1 3 3 3 1 3 0 0]\n",
            "-------------------------------------------------------\n"
          ],
          "name": "stdout"
        },
        {
          "output_type": "stream",
          "text": [
            "/usr/local/lib/python3.6/dist-packages/sklearn/metrics/_classification.py:1272: UndefinedMetricWarning: Precision is ill-defined and being set to 0.0 due to no predicted samples. Use `zero_division` parameter to control this behavior.\n",
            "  _warn_prf(average, modifier, msg_start, len(result))\n"
          ],
          "name": "stderr"
        },
        {
          "output_type": "stream",
          "text": [
            "Accuracy: [1.         1.         0.83333333 1.         1.         0.5\n",
            " 0.66666667 1.         1.         1.        ]\n",
            "Precision: [1.         1.         0.66666667 1.         1.         0.33333333\n",
            " 0.         1.         1.         1.        ]\n",
            "Recall: [1.  1.  1.  1.  1.  0.5 0.  1.  1.  1. ]\n",
            "F1 Score: [1.  1.  0.8 1.  1.  0.4 0.  1.  1.  1. ]\n",
            "Average Accuracy: 0.90 (+/- 0.34)\n",
            "Average Precision: 0.80 (+/- 0.68)\n",
            "Average Recall: 0.85 (+/- 0.64)\n",
            "Average F1 Score: 0.82 (+/- 0.66)\n",
            "-------------------------------------------------------\n",
            "Begin process\n",
            "-------------------------------------------------------\n"
          ],
          "name": "stdout"
        },
        {
          "output_type": "display_data",
          "data": {
            "image/png": "[encoded data removed]",
            "text/plain": [
              "<Figure size 432x288 with 1 Axes>"
            ]
          },
          "metadata": {
            "tags": [],
            "needs_background": "light"
          }
        },
        {
          "output_type": "display_data",
          "data": {
            "image/png": "[encoded data removed]",
            "text/plain": [
              "<Figure size 432x288 with 1 Axes>"
            ]
          },
          "metadata": {
            "tags": [],
            "needs_background": "light"
          }
        },
        {
          "output_type": "display_data",
          "data": {
            "image/png": "[encoded data removed]",
            "text/plain": [
              "<Figure size 432x288 with 1 Axes>"
            ]
          },
          "metadata": {
            "tags": [],
            "needs_background": "light"
          }
        },
        {
          "output_type": "stream",
          "text": [
            "range(2, 10) range(2, 10) range(2, 10) range(2, 10) range(2, 10) range(2, 10) range(2, 10) range(2, 10) -------------------------------------------------------\n",
            "-----------ytrain-------------\n",
            "-------------------------------------------------------\n",
            "Closest Clusters: \n",
            " [3 1 1 2 1 2 1 2 2 2 4 1 3 1 2 2 1 2 1 4 4 0 2 1 1 3 2 1 2 1 3 2 1 1 2 1 2\n",
            " 4 4 2 4 0 3 2 4 1 0 2 4 4 4 4 4 1 4 4 0 0 0 0 0 4 2 4 0 4 0 4 0 2 4 0 0 4\n",
            " 4 4 0 0 4 4 0 4 0 0 2 0 4 3 4 0 0 2 0 0 4 0 2 2 1 4 1 3 4 4 4 4 1 0 1 0 1\n",
            " 1 4 1 4 4 4 1 0 4 1 0 4 4 0 2 0 4 4 0 2 2 1 1 3 1 1 1 4 2 1 3 3 1 4 1 2 2\n",
            " 2 2 1 1 2 1 3 2 4 1 1 3 1 2 2 1 1 0 1 4 4 4 4 4 2 1 4 4 1 0 4 3 1 4 1 4 4\n",
            " 2 4 1 0 4 2 0 4 3 4 3 1 1 0 3 2 3 2 1 4 1 4 1 3 0 4 4 0 4 4 3 0 1 0 4 1 4\n",
            " 4 1 4 1 2 4 4 0 4 0 4 2 4 0 4 4 4 4 4 4 0 3 4 3 0 4 4 4 4 4 4 4 4 4 4 0 4\n",
            " 4 1 2 4 0 1 4 3 4 4 4 4 1 1 1 0 0 4 4 1 4 1 0 3 4 0 0 1 0 0 4 4 4 0 4 2 3\n",
            " 1 4 0 0 4 0 4 4 4 4 4 4 1 3 4 3 3 2 4 1 1 4 4 2 4 4 2 0 4 4 0 4 4 4 4 0 1\n",
            " 4 0 1 3 0 4 4 4 4 4 2 4 4 4 4 0 4 4 1 4 4 4 4 4 4 0 0 3 4 4 0 2 0 4 0 4 0\n",
            " 4 4 4 2 0 1 1 4 1 4 4 4 4 0 1 4 0 1 0 1 4 4 1 0 1 4 4 4 4 0 4 4 4 1 3 4 4\n",
            " 4 2 4 0 3 0 0 4 4 4 0 4 4 4 0 2 4 4 4 4 4 2 4 1 0 4 4 4 1 4 4 4 0 4 1 1 4\n",
            " 2 0 3 2 2 0 0 4 2 0 4 2 4 4 0 1 1 0 0 0 3 4 0 0 0 4 4 0 0 0 4 4 1 0 1 1 0\n",
            " 0 0 0 2 4 4 4 4 4 0 4 0 4 0 4 0 4 0 0 0 4 0 4 4 2 3 3 1 1 3 4]\n",
            "centroids \n",
            " [[-0.1362839  -0.89048102 -0.28591055 -0.8718067  -0.79412744  0.39256365\n",
            "  -0.19974662 -0.49040619 -0.54126079  0.19571652  0.62484699 -0.31969702\n",
            "   0.44340866 -0.30955275 -0.41182582  0.87926897  0.08062476 -0.09058108\n",
            "  -0.00594865  0.42826596  0.29799949 -0.86517726 -0.35519565 -0.84611722\n",
            "  -0.74991588  0.23805886 -0.36931299 -0.52919261 -0.61362025 -0.21673939\n",
            "   0.04888773]\n",
            " [ 0.15872079  1.1581603   0.4653911   1.12878955  1.09755174  0.13008392\n",
            "   0.31646146  0.63039674  0.87364814  0.04022098 -0.63051339  0.63619497\n",
            "  -0.05762884  0.55127738  0.59073374 -0.10452046  0.063147    0.16440667\n",
            "   0.4599927  -0.18968728 -0.15953642  1.15090875  0.47704723  1.09722656\n",
            "   1.05321786  0.26337507  0.28940031  0.51999896  0.86516268  0.14399597\n",
            "  -0.1754782 ]\n",
            " [-0.01472303 -0.16481109  0.19720005 -0.07280126 -0.22209878  0.94200361\n",
            "   1.35138431  1.08080117  0.64683201  1.04628373  1.45580706 -0.10624551\n",
            "   0.01190451 -0.00387261 -0.18637307  0.18343411  1.20857604  1.09361765\n",
            "   0.7623056   0.44118449  1.1449812  -0.06082201  0.41397414  0.0529043\n",
            "  -0.14472324  1.11072441  1.58168241  1.46481133  0.97515071  1.22591683\n",
            "   1.81773453]\n",
            " [ 0.07293334  2.00200254  0.72468234  2.075198    2.18251033  0.82096607\n",
            "   1.79292443  2.05939878  2.22572975  0.96923094  0.27603745  2.40328482\n",
            "   0.25828582  2.4761074   2.45033895  0.03766747  1.0639895   0.85846205\n",
            "   1.16233076  0.38545434  0.53915475  2.14361195  0.55446499  2.2232393\n",
            "   2.31695421  0.43555294  1.21627231  1.39505405  1.75187906  0.56048322\n",
            "   0.52310172]\n",
            " [-0.00632384 -0.33075355 -0.23031022 -0.36583623 -0.36852891 -0.65992858\n",
            "  -0.71388161 -0.66840302 -0.65314548 -0.57429198 -0.50472761 -0.48367658\n",
            "  -0.24993299 -0.49333751 -0.40222655 -0.46479336 -0.58643193 -0.47515508\n",
            "  -0.60395897 -0.32712828 -0.49631325 -0.39362063 -0.23185052 -0.42562066\n",
            "  -0.41650586 -0.62028202 -0.58265022 -0.59691282 -0.62464219 -0.38849861\n",
            "  -0.5473336 ]]\n",
            "-------------------------------------------------------\n",
            "cluster center shape \n",
            " (5, 31)\n",
            "-------------------------------------------------------\n",
            "-------------------------------------------------------\n",
            "clusters \n",
            " [3 1 2 4 0]\n",
            "-------------------------------------------------------\n",
            "number of samples per cluster \n",
            " Counter({4: 214, 0: 110, 1: 92, 2: 60, 3: 36})\n",
            "-------------------------------------------------------\n",
            "---------ytest--------------\n",
            "-------------------------------------------------------\n",
            "Closest Clusters: \n",
            " [4 1 2 2 2 1 1 2 4 1 3 3 3 1 1 0 1 1 1 1 0 4 0 4 4 4 4 0 0 4 4 4 4 0 4 0 2\n",
            " 4 4 4 0 4 4 4 4 4 4 4 0 0 2 4 4 0 0 4 4]\n",
            "-------------------------------------------------------\n",
            "Accuracy: [1.         0.83333333 1.         1.         1.         1.\n",
            " 1.         1.         0.8        1.        ]\n",
            "Precision: [1.         0.66666667 1.         1.         1.         1.\n",
            " 1.         1.         1.         1.        ]\n",
            "Recall: [0.66666667 1.         1.         1.         1.         1.\n",
            " 1.         0.5        1.         1.        ]\n",
            "F1 Score: [1.  0.8 1.  1.  1.  1.  1.  1.  1.  1. ]\n",
            "Average Accuracy: 0.96 (+/- 0.15)\n",
            "Average Precision: 0.97 (+/- 0.20)\n",
            "Average Recall: 0.92 (+/- 0.34)\n",
            "Average F1 Score: 0.98 (+/- 0.12)\n",
            "-------------------------------------------------------\n",
            "Begin process\n",
            "-------------------------------------------------------\n"
          ],
          "name": "stdout"
        },
        {
          "output_type": "display_data",
          "data": {
            "image/png": "[encoded data removed]",
            "text/plain": [
              "<Figure size 432x288 with 1 Axes>"
            ]
          },
          "metadata": {
            "tags": [],
            "needs_background": "light"
          }
        },
        {
          "output_type": "display_data",
          "data": {
            "image/png": "[encoded data removed]",
            "text/plain": [
              "<Figure size 432x288 with 1 Axes>"
            ]
          },
          "metadata": {
            "tags": [],
            "needs_background": "light"
          }
        },
        {
          "output_type": "display_data",
          "data": {
            "image/png": "[encoded data removed]",
            "text/plain": [
              "<Figure size 432x288 with 1 Axes>"
            ]
          },
          "metadata": {
            "tags": [],
            "needs_background": "light"
          }
        },
        {
          "output_type": "stream",
          "text": [
            "range(2, 10) range(2, 10) range(2, 10) range(2, 10) range(2, 10) range(2, 10) range(2, 10) range(2, 10) -------------------------------------------------------\n",
            "-----------ytrain-------------\n",
            "-------------------------------------------------------\n",
            "Closest Clusters: \n",
            " [3 2 2 1 2 1 2 1 1 1 0 2 3 0 1 1 2 1 2 4 4 4 1 2 2 3 1 2 1 2 3 1 2 2 1 2 1\n",
            " 0 0 1 0 4 3 1 4 2 4 1 4 0 0 0 0 2 0 0 2 1 0 4 4 4 1 4 1 1 4 0 1 0 2 1 1 4\n",
            " 0 2 4 3 3 0 4 1 3 2 4 2 4 2 4 4 0 4 0 0 2 2 4 4 4 4 4 0 4 4 4 0 4 4 4 1 4\n",
            " 4 4 4 4 4 0 0 4 4 0 0 0 4 0 4 0 0 4 4 4 0 4 1 1 4 4 0 0 0 0 4 4 2 0 0 2 2\n",
            " 0 4 0 1 4 0 0 1 1 0 0 3 3 2 0 0 4 2 0 0 0 1 0 0 1 1 0 1 2 2 1 4 2 3 1 4 0\n",
            " 4 2 1 0 2 0 3 1 1 1 4 0 2 2 0 4 2 1 2 2 3 2 2 2 3 3 2 2 4 3 1 3 1 2 0 2 0\n",
            " 2 3 3 2 2 2 2 1 0 4 0 1 0 4 0 0 0 0 0 0 4 3 4 3 4 0 0 0 0 0 0 0 0 0 0 4 0\n",
            " 0 2 1 0 4 2 4 3 0 0 0 0 2 1 2 4 4 0 0 2 4 2 4 3 4 4 4 2 4 4 0 0 4 4 0 1 3\n",
            " 2 0 4 4 0 4 4 0 0 0 0 0 2 3 0 2 3 1 0 2 2 0 4 1 0 0 1 4 0 0 4 0 0 0 0 4 2\n",
            " 4 4 1 3 4 0 4 0 0 0 1 0 0 0 0 4 0 0 2 0 0 4 0 0 0 4 4 3 0 0 4 1 4 4 4 0 4\n",
            " 0 0 0 1 4 2 2 0 4 0 0 0 0 4 2 0 0 2 4 2 0 0 2 4 2 0 4 0 0 4 0 0 0 2 3 0 0\n",
            " 0 1 4 4 3 4 4 0 0 0 4 0 0 0 4 1 0 0 4 0 4 1 0 2 4 0 0 0 2 0 0 0 4 0 2 2 0\n",
            " 1 4 3 1 1 4 4 0 1 4 0 1 0 0 4 2 2 4 4 4 3 0 4 4 4 4 0 4 4 4 4 0 2 4 2 4 4\n",
            " 4 4 4 1 0 0 0 0 0 4 0 0 0 4 0 4 0 4 4 0 0 4 4 0 1 3 3 2 2 3 0]\n",
            "centroids \n",
            " [[-0.05526406 -0.34594066 -0.20669491 -0.38656592 -0.37502118 -0.83062575\n",
            "  -0.8140877  -0.73401903 -0.72636645 -0.62859672 -0.59927796 -0.4610367\n",
            "  -0.10952798 -0.47505474 -0.39297441 -0.46435593 -0.62858699 -0.50869841\n",
            "  -0.65408022 -0.2591708  -0.50869592 -0.41441229 -0.22530844 -0.45099162\n",
            "  -0.42668709 -0.80010445 -0.68127035 -0.69187912 -0.7251904  -0.46339534\n",
            "  -0.65695452]\n",
            " [ 0.09741367 -0.12043326  0.32923697 -0.03540044 -0.1770555   0.92902574\n",
            "   1.26530569  1.05295558  0.64429279  0.91525475  1.36387578 -0.02569898\n",
            "   0.06101162  0.04505293 -0.13448683  0.37925234  1.2788462   1.08515356\n",
            "   0.8073655   0.42496993  1.19998489 -0.0251789   0.48171425  0.07170486\n",
            "  -0.10861884  1.02260883  1.45107425  1.33508896  0.88035879  1.05192505\n",
            "   1.65289664]\n",
            " [ 0.11715401  1.25618538  0.5134834   1.22111656  1.21141322  0.09643047\n",
            "   0.30711195  0.64859598  0.93849172  0.03601849 -0.67572014  0.7129606\n",
            "  -0.07539872  0.62225602  0.69732619 -0.23387408  0.01842371  0.09302229\n",
            "   0.41179245 -0.30489174 -0.19853457  1.27928604  0.53136373  1.21844937\n",
            "   1.20424287  0.28367642  0.31107277  0.55876083  0.94773634  0.1776679\n",
            "  -0.17071436]\n",
            " [ 0.09593206  1.97514075  0.82250225  2.05697668  2.14567716  0.7800816\n",
            "   1.88061717  2.08561696  2.23412695  1.00763626  0.38077511  2.39880081\n",
            "   0.16535102  2.49160385  2.38351529 -0.02293666  1.07972038  0.857831\n",
            "   1.24429444  0.49863006  0.56111394  2.07637793  0.61661725  2.17084172\n",
            "   2.22062885  0.42075512  1.29467558  1.41543245  1.75680517  0.63728606\n",
            "   0.63345778]\n",
            " [-0.06487583 -0.70688636 -0.38266998 -0.69362709 -0.65941971  0.39036704\n",
            "  -0.17381897 -0.42545575 -0.45111911  0.11804291  0.43756241 -0.39310329\n",
            "   0.11525827 -0.37789448 -0.41748394  0.559897   -0.05599461 -0.10947613\n",
            "  -0.07405862  0.1909262   0.07805854 -0.70097431 -0.38903599 -0.68653348\n",
            "  -0.63885346  0.28788516 -0.28854057 -0.39394026 -0.45013156 -0.14731776\n",
            "   0.02629669]]\n",
            "-------------------------------------------------------\n",
            "cluster center shape \n",
            " (5, 31)\n",
            "-------------------------------------------------------\n",
            "-------------------------------------------------------\n",
            "clusters \n",
            " [3 2 1 0 4]\n",
            "-------------------------------------------------------\n",
            "number of samples per cluster \n",
            " Counter({0: 184, 4: 144, 2: 83, 1: 66, 3: 35})\n",
            "-------------------------------------------------------\n",
            "---------ytest--------------\n",
            "-------------------------------------------------------\n",
            "Closest Clusters: \n",
            " [0 1 3 1 1 2 2 3 0 2 2 2 2 2 0 2 2 1 2 2 3 4 0 0 4 0 0 0 0 4 0 0 0 0 1 0 4\n",
            " 0 1 4 4 0 4 0 0 4 0 4 4 4 0 0 0 0 0 0 4]\n",
            "-------------------------------------------------------\n",
            "Accuracy: [1.         0.83333333 1.         1.         1.         1.\n",
            " 0.83333333 1.         1.         1.        ]\n",
            "Precision: [1.         0.66666667 1.         1.         1.         1.\n",
            " 1.         1.         1.         1.        ]\n",
            "Recall: [1.  1.  1.  1.  1.  1.  0.5 1.  0.5 1. ]\n",
            "F1 Score: [1.         0.8        1.         1.         1.         1.\n",
            " 0.66666667 1.         0.66666667 1.        ]\n",
            "Average Accuracy: 0.97 (+/- 0.13)\n",
            "Average Precision: 0.97 (+/- 0.20)\n",
            "Average Recall: 0.90 (+/- 0.40)\n",
            "Average F1 Score: 0.91 (+/- 0.27)\n",
            "-------------------------------------------------------\n",
            "Begin process\n",
            "-------------------------------------------------------\n"
          ],
          "name": "stdout"
        },
        {
          "output_type": "display_data",
          "data": {
            "image/png": "[encoded data removed]",
            "text/plain": [
              "<Figure size 432x288 with 1 Axes>"
            ]
          },
          "metadata": {
            "tags": [],
            "needs_background": "light"
          }
        },
        {
          "output_type": "display_data",
          "data": {
            "image/png": "[encoded data removed]",
            "text/plain": [
              "<Figure size 432x288 with 1 Axes>"
            ]
          },
          "metadata": {
            "tags": [],
            "needs_background": "light"
          }
        },
        {
          "output_type": "display_data",
          "data": {
            "image/png": "[encoded data removed]",
            "text/plain": [
              "<Figure size 432x288 with 1 Axes>"
            ]
          },
          "metadata": {
            "tags": [],
            "needs_background": "light"
          }
        },
        {
          "output_type": "stream",
          "text": [
            "range(2, 10) range(2, 10) range(2, 10) range(2, 10) range(2, 10) range(2, 10) range(2, 10) range(2, 10) -------------------------------------------------------\n",
            "-----------ytrain-------------\n",
            "-------------------------------------------------------\n",
            "Closest Clusters: \n",
            " [4 0 0 3 0 3 0 3 3 3 2 0 4 2 3 3 2 0 0 1 1 1 3 0 0 4 3 0 0 0 0 3 0 0 0 0 0\n",
            " 2 2 1 2 1 4 1 2 0 1 3 1 2 2 2 2 0 2 1 0 0 2 1 1 1 3 1 0 0 1 2 3 2 0 3 0 1\n",
            " 2 0 1 4 4 2 1 3 4 0 1 0 1 0 1 1 2 2 2 2 0 0 1 1 1 1 2 1 2 1 1 3 1 2 4 1 1\n",
            " 1 3 1 1 1 1 0 3 0 1 0 4 1 2 2 2 0 1 0 1 0 0 2 0 2 2 2 0 1 1 0 1 2 2 1 3 1\n",
            " 1 2 1 3 3 1 1 2 0 2 2 2 1 0 0 1 2 1 2 1 1 2 1 3 2 2 1 1 2 1 2 2 2 2 1 1 2\n",
            " 1 2 1 2 0 2 4 3 3 3 1 2 0 0 2 1 1 0 2 2 1 2 2 3 0 2 2 0 1 2 4 0 2 0 2 2 3\n",
            " 2 0 1 2 3 1 1 4 2 4 0 0 1 4 3 4 0 0 2 0 2 0 4 1 2 2 1 2 1 4 1 2 1 2 2 2 2\n",
            " 0 2 0 0 2 2 1 2 4 4 0 0 0 0 0 0 1 2 2 0 1 0 1 4 1 1 1 0 1 1 2 2 1 1 2 3 4\n",
            " 0 2 1 1 2 1 1 2 2 2 2 2 0 4 2 4 4 0 2 0 0 2 1 3 2 2 3 1 2 2 1 2 2 2 2 1 0\n",
            " 1 1 0 4 1 2 1 2 2 2 3 2 2 2 2 1 2 2 0 2 2 1 2 2 2 1 1 4 2 2 1 3 1 2 1 2 1\n",
            " 2 2 2 3 1 0 0 2 1 2 2 2 2 1 0 2 1 0 1 0 2 2 0 1 0 2 1 2 2 1 2 2 2 0 4 2 2\n",
            " 2 3 2 1 4 1 1 2 2 2 1 2 2 2 1 3 2 2 1 2 1 3 2 0 1 2 2 2 0 2 2 2 1 2 0 0 2\n",
            " 3 1 4 3 3 1 1 2 3 1 2 3 2 2 1 0 0 1 1 1 4 2 1 1 1 1 2 1 1 1 1 2 0 1 0 1 1\n",
            " 1 1 1 0 2 2 2 2 2 1 2 2 2 1 2 1 2 1 1 2 2 1 2 2 3 4 4 0 0 4 2]\n",
            "centroids \n",
            " [[ 0.07876824  1.12350495  0.51165287  1.1071882   1.06714725  0.30167814\n",
            "   0.49444502  0.75123238  0.98951017  0.25707812 -0.42749182  0.63388653\n",
            "  -0.08052069  0.54768796  0.58385606 -0.21001149  0.11095238  0.14398378\n",
            "   0.40474806 -0.14679899 -0.12057634  1.16840314  0.56097625  1.12278479\n",
            "   1.07721112  0.45223165  0.4996602   0.67604953  0.9810022   0.40894896\n",
            "   0.06408467]\n",
            " [-0.06951823 -0.75130579 -0.4475613  -0.73793933 -0.69681727  0.3512945\n",
            "  -0.21894438 -0.47026035 -0.4899803   0.07414086  0.43494393 -0.41808231\n",
            "   0.09527335 -0.4034627  -0.43418133  0.52248013 -0.11520336 -0.17426993\n",
            "  -0.14834824  0.16463915  0.06948291 -0.73716674 -0.44586132 -0.72346019\n",
            "  -0.66529724  0.27873935 -0.3267012  -0.45470226 -0.50486295 -0.14472122\n",
            "   0.02430635]\n",
            " [-0.04339292 -0.27153225 -0.03699769 -0.31274726 -0.31428461 -0.83161222\n",
            "  -0.766121   -0.67087812 -0.66433779 -0.63126882 -0.62924886 -0.43410933\n",
            "  -0.09076577 -0.44386935 -0.37132274 -0.48641827 -0.59308562 -0.45998188\n",
            "  -0.59023882 -0.30029915 -0.51983995 -0.34688484 -0.05936717 -0.38129204\n",
            "  -0.3763038  -0.79857295 -0.62024072 -0.6088214  -0.64060943 -0.44543233\n",
            "  -0.63452631]\n",
            " [ 0.16148971 -0.29642237  0.04211189 -0.19487596 -0.3253122   0.98697013\n",
            "   1.42609216  1.18498399  0.60078656  1.0852983   1.79666131 -0.10434226\n",
            "   0.03745907  0.00860754 -0.21686402  0.58212128  1.63129578  1.47450364\n",
            "   1.06574942  0.54644089  1.6948382  -0.22631482  0.17574813 -0.10534705\n",
            "  -0.28178126  1.05083274  1.62703592  1.57039813  0.91740733  1.07189871\n",
            "   2.02142069]\n",
            " [ 0.11052926  1.99927295  0.6766768   2.08106619  2.19426518  0.7977898\n",
            "   1.89538479  2.07302564  2.19148614  0.96000588  0.39208805  2.58366425\n",
            "   0.25886977  2.67874096  2.60785499  0.15944793  1.32961709  0.96948907\n",
            "   1.33908615  0.62786647  0.68040381  2.12612413  0.46742162  2.23040182\n",
            "   2.30665318  0.41095356  1.29475561  1.36701394  1.73109584  0.49417219\n",
            "   0.53852673]]\n",
            "-------------------------------------------------------\n",
            "cluster center shape \n",
            " (5, 31)\n",
            "-------------------------------------------------------\n",
            "-------------------------------------------------------\n",
            "clusters \n",
            " [4 0 3 2 1]\n",
            "-------------------------------------------------------\n",
            "number of samples per cluster \n",
            " Counter({2: 184, 1: 152, 0: 99, 3: 44, 4: 33})\n",
            "-------------------------------------------------------\n",
            "---------ytest--------------\n",
            "-------------------------------------------------------\n",
            "Closest Clusters: \n",
            " [0 0 0 2 0 0 4 4 0 2 0 3 3 3 3 0 0 0 0 4 3 2 1 2 3 2 1 2 2 2 2 2 1 1 1 2 2\n",
            " 2 2 2 2 2 2 2 2 1 2 2 3 2 1 1 2 2 2 2 1]\n",
            "-------------------------------------------------------\n"
          ],
          "name": "stdout"
        },
        {
          "output_type": "stream",
          "text": [
            "/usr/local/lib/python3.6/dist-packages/sklearn/metrics/_classification.py:1272: UndefinedMetricWarning: Precision is ill-defined and being set to 0.0 due to no predicted samples. Use `zero_division` parameter to control this behavior.\n",
            "  _warn_prf(average, modifier, msg_start, len(result))\n"
          ],
          "name": "stderr"
        },
        {
          "output_type": "stream",
          "text": [
            "Accuracy: [1.         0.66666667 1.         1.         1.         0.66666667\n",
            " 1.         1.         1.         1.        ]\n",
            "Precision: [1.  0.5 1.  1.  1.  0.  1.  1.  1.  1. ]\n",
            "Recall: [1. 1. 1. 1. 1. 0. 1. 1. 1. 1.]\n",
            "F1 Score: [1.  0.8 1.  1.  1.  0.  1.  1.  1.  1. ]\n",
            "Average Accuracy: 0.93 (+/- 0.27)\n",
            "Average Precision: 0.85 (+/- 0.64)\n",
            "Average Recall: 0.90 (+/- 0.60)\n",
            "Average F1 Score: 0.88 (+/- 0.60)\n",
            "-------------------------------------------------------\n",
            "Begin process\n",
            "-------------------------------------------------------\n"
          ],
          "name": "stdout"
        },
        {
          "output_type": "display_data",
          "data": {
            "image/png": "[encoded data removed]",
            "text/plain": [
              "<Figure size 432x288 with 1 Axes>"
            ]
          },
          "metadata": {
            "tags": [],
            "needs_background": "light"
          }
        },
        {
          "output_type": "display_data",
          "data": {
            "image/png": "[encoded data removed]",
            "text/plain": [
              "<Figure size 432x288 with 1 Axes>"
            ]
          },
          "metadata": {
            "tags": [],
            "needs_background": "light"
          }
        },
        {
          "output_type": "display_data",
          "data": {
            "image/png": "[encoded data removed]",
            "text/plain": [
              "<Figure size 432x288 with 1 Axes>"
            ]
          },
          "metadata": {
            "tags": [],
            "needs_background": "light"
          }
        },
        {
          "output_type": "stream",
          "text": [
            "range(2, 10) range(2, 10) range(2, 10) range(2, 10) range(2, 10) range(2, 10) range(2, 10) range(2, 10) -------------------------------------------------------\n",
            "-----------ytrain-------------\n",
            "-------------------------------------------------------\n",
            "Closest Clusters: \n",
            " [1 3 3 2 3 2 3 2 2 2 4 3 1 3 2 2 3 3 3 4 4 0 2 3 3 1 2 3 3 3 1 2 3 3 3 3 3\n",
            " 4 4 3 4 0 1 3 4 3 0 2 4 4 4 4 4 3 4 4 3 3 4 0 0 0 2 0 3 3 0 4 2 4 3 2 3 4\n",
            " 4 3 0 1 1 4 0 2 1 3 4 3 0 3 0 3 4 3 4 4 3 3 4 0 4 0 4 0 4 0 0 2 0 4 1 0 0\n",
            " 0 2 0 0 0 0 3 2 3 4 3 1 4 4 4 4 3 3 3 0 3 3 4 3 4 4 4 3 0 4 3 0 4 4 0 2 0\n",
            " 4 4 0 2 2 4 0 4 3 4 4 4 0 3 1 0 3 4 4 3 3 4 4 4 3 0 4 4 2 3 4 4 1 1 3 4 4\n",
            " 0 3 4 4 4 2 4 4 2 3 4 2 3 3 3 0 3 1 2 0 0 0 4 4 0 0 4 4 0 4 4 4 4 4 4 4 0\n",
            " 4 4 4 4 2 4 0 4 2 0 4 4 3 1 2 1 3 3 4 3 4 3 1 0 4 4 0 4 4 1 0 3 0 4 3 4 4\n",
            " 3 4 3 3 4 4 0 4 0 4 2 4 0 4 4 4 4 4 4 0 1 4 1 0 4 4 4 4 4 4 4 4 4 4 0 4 4\n",
            " 3 2 4 0 3 4 1 4 4 4 4 3 3 3 0 3 3 1 3 2 1 3 3 1 1 1 3 3 3 2 0 4 4 4 4 0 3\n",
            " 4 0 3 1 0 4 4 4 4 4 2 4 4 4 4 0 4 4 3 4 4 4 4 4 4 0 0 1 4 4 0 2 0 4 0 4 0\n",
            " 0 4 4 2 0 3 3 4 3 4 4 4 4 0 3 4 0 3 0 3 4 4 3 0 3 4 4 4 4 0 4 4 4 3 1 4 4\n",
            " 4 2 4 0 1 0 0 4 4 4 0 4 4 4 0 2 4 4 4 4 4 2 4 3 0 4 4 4 3 4 4 4 0 4 3 3 4\n",
            " 2 0 1 2 2 0 0 4 2 0 4 2 4 4 0 3 3 0 0 0 1 4 0 0 0 4 4 0 0 0 0 4 3 0 3 3 0\n",
            " 0 0 0 3 4 4 4 4 4 0 4 0 4 0 4 0 4 0 0 0 4 0 0 4 2 1 1 3 3 1 4]\n",
            "centroids \n",
            " [[-0.09402231 -0.8662486  -0.15337588 -0.84802096 -0.7808435   0.29624817\n",
            "  -0.24042033 -0.49318033 -0.55983244  0.12962069  0.53335321 -0.36085885\n",
            "   0.41874738 -0.34506384 -0.44639331  0.90708589  0.0156004  -0.09115057\n",
            "  -0.05777869  0.32915638  0.2281986  -0.83243818 -0.20202549 -0.81049546\n",
            "  -0.72863849  0.26791491 -0.34971854 -0.49565406 -0.59822702 -0.18166634\n",
            "   0.05889779]\n",
            " [ 0.14781708  2.01069972  0.75256344  2.09508849  2.18859582  0.87247666\n",
            "   1.91421709  2.09777441  2.25535636  1.11912766  0.41253365  2.42836181\n",
            "   0.27061516  2.56493799  2.53444153  0.04417628  1.18085863  0.88479631\n",
            "   1.26661629  0.48328821  0.57774051  2.1504308   0.60617675  2.25415344\n",
            "   2.32258752  0.49208069  1.32242784  1.39364531  1.79237257  0.74077781\n",
            "   0.61458871]\n",
            " [ 0.08132787 -0.31040758  0.09458321 -0.20500613 -0.33450892  1.04233479\n",
            "   1.43064241  1.1787734   0.5978238   1.11622388  1.84394819  0.01763907\n",
            "   0.1575224   0.09911119 -0.16329647  0.51758221  1.62671707  1.45272992\n",
            "   1.02276811  0.64823548  1.69021053 -0.20706692  0.28530712 -0.09458997\n",
            "  -0.26112628  1.10696718  1.62205077  1.54505462  0.89428322  1.10566992\n",
            "   2.02711802]\n",
            " [ 0.04899654  1.00427405  0.41544872  0.98664248  0.94213304  0.25834281\n",
            "   0.421759    0.63810809  0.85808585  0.17346246 -0.39976266  0.56313404\n",
            "  -0.14251746  0.50021332  0.54525008 -0.20071325  0.10647315  0.14576436\n",
            "   0.40479631 -0.15838327 -0.11726551  1.01826907  0.45144534  0.978787\n",
            "   0.91719347  0.38709677  0.44217231  0.60653732  0.89237392  0.32978868\n",
            "   0.05378087]\n",
            " [-0.01726766 -0.32631364 -0.27820747 -0.36335784 -0.3639146  -0.65772944\n",
            "  -0.7128965  -0.66722508 -0.64772354 -0.58210649 -0.5382833  -0.50593289\n",
            "  -0.22713432 -0.5218433  -0.43030009 -0.49551301 -0.60609071 -0.48350791\n",
            "  -0.60667166 -0.31131479 -0.51685637 -0.39670767 -0.28737295 -0.42915219\n",
            "  -0.41661828 -0.65988798 -0.60808324 -0.61092112 -0.63148396 -0.43261946\n",
            "  -0.59331556]]\n",
            "-------------------------------------------------------\n",
            "cluster center shape \n",
            " (5, 31)\n",
            "-------------------------------------------------------\n",
            "-------------------------------------------------------\n",
            "clusters \n",
            " [1 3 2 4 0]\n",
            "-------------------------------------------------------\n",
            "number of samples per cluster \n",
            " Counter({4: 211, 0: 112, 3: 109, 2: 45, 1: 35})\n",
            "-------------------------------------------------------\n",
            "---------ytest--------------\n",
            "-------------------------------------------------------\n",
            "Closest Clusters: \n",
            " [4 3 3 1 2 2 2 3 3 3 2 3 3 1 3 3 3 1 1 3 3 0 4 4 4 0 4 0 0 0 0 4 4 4 0 4 4\n",
            " 0 0 4 0 0 4 4 4 4 4 4 4 4 4 2 4 4 0 4 4]\n",
            "-------------------------------------------------------\n"
          ],
          "name": "stdout"
        },
        {
          "output_type": "stream",
          "text": [
            "/usr/local/lib/python3.6/dist-packages/sklearn/metrics/_classification.py:1272: UndefinedMetricWarning: Precision is ill-defined and being set to 0.0 due to no predicted samples. Use `zero_division` parameter to control this behavior.\n",
            "  _warn_prf(average, modifier, msg_start, len(result))\n"
          ],
          "name": "stderr"
        },
        {
          "output_type": "stream",
          "text": [
            "Accuracy: [0.66666667 0.83333333 0.83333333 1.         1.         1.\n",
            " 0.83333333 1.         1.         1.        ]\n",
            "Precision: [1.         1.         0.         1.         1.         1.\n",
            " 0.66666667 0.66666667 0.66666667 1.        ]\n",
            "Recall: [0.66666667 1.         0.5        1.         1.         1.\n",
            " 1.         1.         1.         1.        ]\n",
            "F1 Score: [0.5        0.8        0.66666667 1.         1.         1.\n",
            " 0.8        1.         1.         1.        ]\n",
            "Average Accuracy: 0.92 (+/- 0.22)\n",
            "Average Precision: 0.80 (+/- 0.61)\n",
            "Average Recall: 0.92 (+/- 0.34)\n",
            "Average F1 Score: 0.88 (+/- 0.34)\n",
            "-------------------------------------------------------\n",
            "Begin process\n",
            "-------------------------------------------------------\n"
          ],
          "name": "stdout"
        },
        {
          "output_type": "display_data",
          "data": {
            "image/png": "[encoded data removed]",
            "text/plain": [
              "<Figure size 432x288 with 1 Axes>"
            ]
          },
          "metadata": {
            "tags": [],
            "needs_background": "light"
          }
        },
        {
          "output_type": "display_data",
          "data": {
            "image/png": "[encoded data removed]",
            "text/plain": [
              "<Figure size 432x288 with 1 Axes>"
            ]
          },
          "metadata": {
            "tags": [],
            "needs_background": "light"
          }
        },
        {
          "output_type": "display_data",
          "data": {
            "image/png": "[encoded data removed]",
            "text/plain": [
              "<Figure size 432x288 with 1 Axes>"
            ]
          },
          "metadata": {
            "tags": [],
            "needs_background": "light"
          }
        },
        {
          "output_type": "stream",
          "text": [
            "range(2, 10) range(2, 10) range(2, 10) range(2, 10) range(2, 10) range(2, 10) range(2, 10) range(2, 10) -------------------------------------------------------\n",
            "-----------ytrain-------------\n",
            "-------------------------------------------------------\n",
            "Closest Clusters: \n",
            " [3 0 0 2 0 2 0 2 2 2 1 0 3 0 2 2 0 2 0 4 4 4 2 0 0 3 2 0 0 0 0 2 0 0 2 0 2\n",
            " 1 1 4 1 4 3 4 4 0 4 2 4 1 1 1 1 0 1 1 0 2 1 4 4 4 2 4 2 0 4 1 2 1 0 2 2 4\n",
            " 1 0 4 3 3 1 4 2 3 0 4 0 4 0 4 4 1 4 1 1 0 0 4 4 4 4 1 4 1 4 4 2 4 1 3 4 4\n",
            " 4 2 4 4 4 4 2 2 0 4 0 3 4 1 1 1 0 4 0 4 0 0 1 0 1 1 1 0 4 1 0 4 1 1 4 2 4\n",
            " 4 1 4 2 2 4 4 1 0 1 1 1 4 0 0 4 0 1 1 0 0 1 4 1 2 4 1 1 2 0 1 1 3 3 0 4 1\n",
            " 4 0 1 1 1 2 1 1 2 2 1 2 0 0 0 4 0 3 2 4 1 4 0 4 1 0 1 3 0 2 2 4 1 0 0 1 4\n",
            " 4 0 1 1 4 1 1 2 0 1 1 0 4 1 3 0 1 0 1 1 2 1 0 4 1 2 4 4 3 1 3 0 0 4 1 1 4\n",
            " 1 4 4 4 1 1 1 1 1 1 4 1 4 1 2 1 4 1 1 1 1 1 4 4 4 1 1 1 1 1 1 1 1 1 1 4 1\n",
            " 1 2 1 4 0 4 3 1 1 1 1 0 0 0 4 4 1 1 0 4 0 4 3 4 4 4 0 4 4 1 1 4 4 1 2 3 0\n",
            " 1 4 4 1 4 1 1 1 1 1 1 0 3 1 0 3 2 1 0 0 1 4 2 1 1 2 4 1 1 1 0 0 3 2 0 1 3\n",
            " 1 1 1 2 4 0 0 1 4 1 1 1 1 4 0 1 1 0 4 0 1 1 0 4 0 1 4 1 1 4 1 1 1 0 3 1 1\n",
            " 1 2 4 4 3 4 4 1 1 1 4 1 1 1 4 2 1 1 4 1 4 2 1 0 4 1 1 1 0 1 1 1 4 1 0 0 1\n",
            " 2 4 3 2 2 4 4 1 2 4 1 2 1 1 4 0 0 4 4 4 3 1 4 4 4 4 1 4 4 4 4 1 0 4 0 4 4\n",
            " 4 4 4 4 1 1 1 1 1 4 1 1 1 4 1 4 1 4 4 1 1 4 4 1 2 3 3 0 0 3 1]\n",
            "centroids \n",
            " [[ 1.44665924e-01  1.17168874e+00  4.75890764e-01  1.14532658e+00\n",
            "   1.11635735e+00  1.65066316e-01  3.78982974e-01  6.77066968e-01\n",
            "   9.24288055e-01  1.00943509e-01 -5.77170026e-01  7.50783000e-01\n",
            "  -3.34131465e-02  6.58684744e-01  6.97472092e-01 -1.23576718e-01\n",
            "   8.63550581e-02  1.71314253e-01  4.61413947e-01 -1.78954067e-01\n",
            "  -1.30060489e-01  1.21590156e+00  5.02702030e-01  1.16392416e+00\n",
            "   1.14424162e+00  2.64570206e-01  3.31951673e-01  5.63371246e-01\n",
            "   8.93103172e-01  2.12220241e-01 -1.35620278e-01]\n",
            " [ 4.92633315e-03 -3.40106632e-01 -1.39725452e-01 -3.80809792e-01\n",
            "  -3.70020793e-01 -8.12735678e-01 -8.13014310e-01 -7.24507585e-01\n",
            "  -7.23443693e-01 -6.02411560e-01 -5.99765411e-01 -4.56921165e-01\n",
            "  -1.09474331e-01 -4.70714537e-01 -3.91144818e-01 -4.60499523e-01\n",
            "  -6.38741715e-01 -5.21194491e-01 -6.74195648e-01 -2.92484185e-01\n",
            "  -5.39141424e-01 -4.05594021e-01 -1.69445965e-01 -4.41780817e-01\n",
            "  -4.22295685e-01 -7.80879540e-01 -6.71682553e-01 -6.79113492e-01\n",
            "  -7.24182177e-01 -4.54968118e-01 -6.56382545e-01]\n",
            " [-1.76506091e-03 -2.30269978e-01  1.78108169e-01 -1.37213038e-01\n",
            "  -2.66281837e-01  9.49232604e-01  1.34289162e+00  1.08041266e+00\n",
            "   6.10360650e-01  1.03446550e+00  1.58583870e+00 -3.46725244e-02\n",
            "   8.61638524e-02  4.89293295e-02 -1.58477887e-01  2.91053507e-01\n",
            "   1.38913048e+00  1.21368283e+00  8.50793371e-01  4.73025113e-01\n",
            "   1.39016765e+00 -1.03714759e-01  4.13106941e-01 -2.28014971e-03\n",
            "  -1.66870280e-01  1.07751286e+00  1.56697472e+00  1.46799607e+00\n",
            "   9.17605581e-01  1.12363696e+00  1.88313348e+00]\n",
            " [ 7.31700165e-02  2.14547741e+00  6.95309236e-01  2.22950873e+00\n",
            "   2.34170964e+00  9.60496179e-01  2.02464471e+00  2.25937575e+00\n",
            "   2.40782076e+00  1.15480361e+00  4.11177234e-01  2.45941353e+00\n",
            "   1.76635906e-01  2.58389346e+00  2.51021176e+00  1.29512391e-01\n",
            "   1.28746778e+00  9.75621135e-01  1.34604065e+00  6.52965297e-01\n",
            "   6.71365675e-01  2.17388620e+00  4.57903401e-01  2.28153805e+00\n",
            "   2.33296001e+00  5.21114900e-01  1.38943664e+00  1.47720825e+00\n",
            "   1.91191097e+00  7.09489976e-01  6.23137547e-01]\n",
            " [-1.17318002e-01 -7.00009203e-01 -3.53109358e-01 -6.84483742e-01\n",
            "  -6.51317244e-01  3.58254100e-01 -1.61520014e-01 -4.18953612e-01\n",
            "  -4.29998263e-01  5.65758346e-02  4.41922227e-01 -4.12158504e-01\n",
            "   9.20138643e-02 -3.92064734e-01 -4.22698908e-01  5.31808021e-01\n",
            "  -5.50509639e-02 -1.28289880e-01 -5.86526784e-02  1.71790099e-01\n",
            "   8.92114188e-02 -7.01364587e-01 -3.76361729e-01 -6.82801675e-01\n",
            "  -6.40275614e-01  2.91752050e-01 -2.68102408e-01 -3.91942133e-01\n",
            "  -4.26562842e-01 -1.49555884e-01  5.84554374e-02]]\n",
            "-------------------------------------------------------\n",
            "cluster center shape \n",
            " (5, 31)\n",
            "-------------------------------------------------------\n",
            "-------------------------------------------------------\n",
            "clusters \n",
            " [3 0 2 1 4]\n",
            "-------------------------------------------------------\n",
            "number of samples per cluster \n",
            " Counter({1: 185, 4: 144, 0: 96, 2: 57, 3: 30})\n",
            "-------------------------------------------------------\n",
            "---------ytest--------------\n",
            "-------------------------------------------------------\n",
            "Closest Clusters: \n",
            " [4 3 2 3 2 0 1 0 1 0 3 3 0 0 0 0 0 1 3 3 0 4 1 1 1 4 4 4 4 1 4 1 1 1 1 1 1\n",
            " 1 4 1 1 1 1 4 1 1 4 4 1 1 4 2 4 4 4 1 4]\n",
            "-------------------------------------------------------\n",
            "Accuracy: [0.83333333 1.         1.         0.83333333 0.83333333 1.\n",
            " 1.         1.         0.6        1.        ]\n",
            "Precision: [1.         1.         1.         1.         0.66666667 1.\n",
            " 1.         1.         0.5        1.        ]\n",
            "Recall: [0.66666667 1.         1.         0.5        1.         1.\n",
            " 1.         1.         0.5        1.        ]\n",
            "F1 Score: [0.8        1.         1.         0.66666667 0.8        1.\n",
            " 1.         1.         0.5        1.        ]\n",
            "Average Accuracy: 0.91 (+/- 0.25)\n",
            "Average Precision: 0.92 (+/- 0.34)\n",
            "Average Recall: 0.87 (+/- 0.42)\n",
            "Average F1 Score: 0.88 (+/- 0.34)\n",
            "-------------------------------------------------------\n",
            "Begin process\n",
            "-------------------------------------------------------\n"
          ],
          "name": "stdout"
        },
        {
          "output_type": "display_data",
          "data": {
            "image/png": "[encoded data removed]",
            "text/plain": [
              "<Figure size 432x288 with 1 Axes>"
            ]
          },
          "metadata": {
            "tags": [],
            "needs_background": "light"
          }
        },
        {
          "output_type": "display_data",
          "data": {
            "image/png": "[encoded data removed]",
            "text/plain": [
              "<Figure size 432x288 with 1 Axes>"
            ]
          },
          "metadata": {
            "tags": [],
            "needs_background": "light"
          }
        },
        {
          "output_type": "display_data",
          "data": {
            "image/png": "[encoded data removed]",
            "text/plain": [
              "<Figure size 432x288 with 1 Axes>"
            ]
          },
          "metadata": {
            "tags": [],
            "needs_background": "light"
          }
        },
        {
          "output_type": "stream",
          "text": [
            "range(2, 10) range(2, 10) range(2, 10) range(2, 10) range(2, 10) range(2, 10) range(2, 10) range(2, 10) -------------------------------------------------------\n",
            "-----------ytrain-------------\n",
            "-------------------------------------------------------\n",
            "Closest Clusters: \n",
            " [4 1 1 3 1 3 1 3 3 3 2 1 4 2 3 3 2 3 1 2 2 0 3 1 1 4 3 1 3 1 1 3 1 1 3 1 3\n",
            " 2 2 3 2 0 4 3 2 1 0 3 2 2 2 2 2 1 2 2 1 3 2 0 0 0 3 0 3 3 0 2 3 2 1 0 3 2\n",
            " 2 1 0 4 4 2 0 3 4 1 2 1 0 1 0 3 2 2 2 2 3 1 0 0 2 0 2 0 2 0 0 3 0 2 4 0 0\n",
            " 0 3 0 0 2 0 3 3 1 2 1 4 2 2 2 2 1 3 1 0 1 1 2 1 2 2 2 1 0 2 1 0 2 2 0 3 0\n",
            " 2 2 0 3 3 2 0 2 1 2 2 2 0 1 1 0 1 2 2 1 1 2 2 2 3 0 2 0 3 3 2 2 4 4 1 2 2\n",
            " 0 1 2 0 2 3 2 2 3 3 2 3 1 1 3 0 1 4 3 0 2 0 1 3 2 1 2 4 3 3 3 0 0 1 1 2 2\n",
            " 0 3 2 2 2 2 2 3 1 2 2 1 0 2 4 1 2 1 2 2 3 2 1 0 2 3 0 2 4 2 4 1 1 0 4 3 4\n",
            " 3 1 2 1 2 1 1 0 2 2 0 2 2 4 0 1 0 2 1 2 2 1 2 1 3 2 2 0 2 0 0 3 2 0 2 2 2\n",
            " 2 2 2 0 4 2 4 0 2 2 2 2 2 2 2 2 2 2 0 2 2 1 3 2 0 2 2 2 2 2 0 0 2 2 2 0 2\n",
            " 0 0 0 0 2 2 2 0 2 2 0 0 2 0 0 2 2 2 2 2 2 2 2 2 3 2 2 0 2 2 0 2 2 2 0 1 2\n",
            " 0 3 4 0 2 2 2 2 2 3 2 2 2 2 0 2 2 1 2 2 2 2 2 2 0 0 4 2 2 0 3 0 2 0 2 0 3\n",
            " 1 1 3 1 1 1 1 1 1 4 4 2 2 2 0 3 2 2 2 2 2 3 2 1 0 2 2 2 1 2 2 2 0 2 1 1 2\n",
            " 3 0 4 3 3 0 0 2 3 0 2 3 2 2 0 1 1 0 0 0 4 2 0 0 0 2 2 0 2 0 2 2 1 0 1 0 0\n",
            " 0 0 0 3 2 2 2 2 2 0 2 0 2 0 2 0 2 0 0 0 2 0 0 2 3 4 4 1 1 4 2]\n",
            "centroids \n",
            " [[-4.13002141e-02 -8.64906648e-01 -2.19504941e-01 -8.48027402e-01\n",
            "  -7.73842220e-01  3.51728582e-01 -2.55282014e-01 -4.90858520e-01\n",
            "  -5.46835785e-01  1.55918949e-01  5.24221293e-01 -3.09916449e-01\n",
            "   4.68096315e-01 -3.04229085e-01 -4.01998406e-01  8.36238322e-01\n",
            "  -7.90488580e-04 -1.20214359e-01 -5.61398604e-02  4.26176651e-01\n",
            "   2.29502502e-01 -8.39744995e-01 -2.57644827e-01 -8.23716514e-01\n",
            "  -7.36942097e-01  2.30849098e-01 -4.13121256e-01 -5.31810612e-01\n",
            "  -6.15723155e-01 -1.92286911e-01 -8.68143790e-03]\n",
            " [ 1.54100328e-01  1.31077935e+00  5.98404384e-01  1.27233710e+00\n",
            "   1.27210765e+00  9.29067973e-02  3.38501939e-01  6.73861698e-01\n",
            "   9.77331446e-01  9.75672905e-02 -6.98481687e-01  7.99864417e-01\n",
            "  -6.65185315e-02  6.86862622e-01  7.68193569e-01 -2.32061708e-01\n",
            "   2.39691976e-02  1.07436367e-01  4.01048920e-01 -2.23276323e-01\n",
            "  -1.89547641e-01  1.35340181e+00  5.74919966e-01  1.28240559e+00\n",
            "   1.30384858e+00  2.27248982e-01  3.00483383e-01  5.54836494e-01\n",
            "   9.21817337e-01  1.98918319e-01 -1.98203345e-01]\n",
            " [-9.29256301e-02 -3.04928630e-01 -3.18725544e-01 -3.40635145e-01\n",
            "  -3.44654664e-01 -6.59951330e-01 -6.92460710e-01 -6.49794668e-01\n",
            "  -6.38898778e-01 -5.74187123e-01 -5.16862951e-01 -4.85845565e-01\n",
            "  -2.85802288e-01 -4.91668514e-01 -3.97943585e-01 -4.83938249e-01\n",
            "  -5.79911740e-01 -4.58085904e-01 -5.82168654e-01 -3.24149496e-01\n",
            "  -5.04986282e-01 -3.76077862e-01 -3.10234204e-01 -4.05510171e-01\n",
            "  -4.01878632e-01 -6.27326267e-01 -5.76740500e-01 -5.78790927e-01\n",
            "  -5.99713664e-01 -3.97787779e-01 -5.55507436e-01]\n",
            " [ 9.89723866e-02 -7.86773510e-02  2.87905494e-01  2.63775085e-03\n",
            "  -1.45564048e-01  9.05807214e-01  1.20314647e+00  9.98759542e-01\n",
            "   6.68632908e-01  8.54955178e-01  1.25876145e+00 -4.92806370e-02\n",
            "   2.30159734e-02  3.03194303e-02 -1.34540769e-01  2.56433514e-01\n",
            "   1.10688600e+00  9.74380279e-01  7.56074229e-01  2.58344268e-01\n",
            "   1.03254605e+00  2.86989173e-02  4.62749410e-01  1.20708238e-01\n",
            "  -6.54603799e-02  1.02845445e+00  1.42138916e+00  1.29280972e+00\n",
            "   9.29043237e-01  1.01488311e+00  1.60244142e+00]\n",
            " [ 1.55789725e-01  2.05884822e+00  7.64117820e-01  2.15981900e+00\n",
            "   2.25275330e+00  9.02853003e-01  2.09651079e+00  2.26178698e+00\n",
            "   2.34293485e+00  1.16137231e+00  5.78906431e-01  2.53532488e+00\n",
            "   3.39260551e-01  2.67873406e+00  2.55960612e+00  2.21520193e-01\n",
            "   1.41515454e+00  1.09869530e+00  1.43212159e+00  6.49089783e-01\n",
            "   7.61882878e-01  2.09229843e+00  5.02762865e-01  2.21697744e+00\n",
            "   2.23706028e+00  4.77758068e-01  1.47774336e+00  1.55175961e+00\n",
            "   1.86967580e+00  6.02312315e-01  7.15071991e-01]]\n",
            "-------------------------------------------------------\n",
            "cluster center shape \n",
            " (5, 31)\n",
            "-------------------------------------------------------\n",
            "-------------------------------------------------------\n",
            "clusters \n",
            " [4 1 3 2 0]\n",
            "-------------------------------------------------------\n",
            "number of samples per cluster \n",
            " Counter({2: 212, 0: 116, 1: 83, 3: 71, 4: 30})\n",
            "-------------------------------------------------------\n",
            "---------ytest--------------\n",
            "-------------------------------------------------------\n",
            "Closest Clusters: \n",
            " [1 4 1 3 1 1 1 4 1 3 4 1 1 4 1 4 3 1 1 3 2 0 2 2 0 2 2 2 2 2 0 2 0 0 2 2 0\n",
            " 2 2 2 2 0 2 2 2 2 2 2 3 2 0 0 0 2 2 2 0]\n",
            "-------------------------------------------------------\n"
          ],
          "name": "stdout"
        },
        {
          "output_type": "stream",
          "text": [
            "/usr/local/lib/python3.6/dist-packages/sklearn/metrics/_classification.py:1272: UndefinedMetricWarning: Precision is ill-defined and being set to 0.0 due to no predicted samples. Use `zero_division` parameter to control this behavior.\n",
            "  _warn_prf(average, modifier, msg_start, len(result))\n"
          ],
          "name": "stderr"
        },
        {
          "output_type": "stream",
          "text": [
            "Accuracy: [1.  1.  1.  1.  1.  1.  1.  1.  1.  0.6]\n",
            "Precision: [1.         1.         1.         1.         1.         1.\n",
            " 1.         1.         0.66666667 0.        ]\n",
            "Recall: [1. 1. 1. 1. 1. 1. 1. 1. 1. 0.]\n",
            "F1 Score: [1. 1. 1. 1. 1. 1. 1. 1. 1. 0.]\n",
            "Average Accuracy: 0.96 (+/- 0.24)\n",
            "Average Precision: 0.87 (+/- 0.61)\n",
            "Average Recall: 0.90 (+/- 0.60)\n",
            "Average F1 Score: 0.90 (+/- 0.60)\n",
            "-------------------------------------------------------\n",
            "Begin process\n",
            "-------------------------------------------------------\n"
          ],
          "name": "stdout"
        },
        {
          "output_type": "display_data",
          "data": {
            "image/png": "[encoded data removed]",
            "text/plain": [
              "<Figure size 432x288 with 1 Axes>"
            ]
          },
          "metadata": {
            "tags": [],
            "needs_background": "light"
          }
        },
        {
          "output_type": "display_data",
          "data": {
            "image/png": "[encoded data removed]",
            "text/plain": [
              "<Figure size 432x288 with 1 Axes>"
            ]
          },
          "metadata": {
            "tags": [],
            "needs_background": "light"
          }
        },
        {
          "output_type": "display_data",
          "data": {
            "image/png": "[encoded data removed]",
            "text/plain": [
              "<Figure size 432x288 with 1 Axes>"
            ]
          },
          "metadata": {
            "tags": [],
            "needs_background": "light"
          }
        },
        {
          "output_type": "stream",
          "text": [
            "range(2, 10) range(2, 10) range(2, 10) range(2, 10) range(2, 10) range(2, 10) range(2, 10) range(2, 10) -------------------------------------------------------\n",
            "-----------ytrain-------------\n",
            "-------------------------------------------------------\n",
            "Closest Clusters: \n",
            " [4 2 2 0 2 0 2 0 0 0 3 2 4 2 0 0 2 0 2 3 3 1 0 2 2 4 0 2 0 2 4 0 2 2 0 2 0\n",
            " 3 3 0 3 1 4 0 3 2 1 0 3 3 3 3 3 2 3 3 2 0 3 1 1 1 0 1 0 0 1 3 0 3 2 1 0 3\n",
            " 3 2 1 4 4 3 1 0 4 4 3 2 1 2 1 1 3 3 3 3 2 2 3 1 3 1 3 1 3 1 1 0 1 3 4 1 1\n",
            " 1 0 1 1 3 1 0 0 2 3 2 4 3 3 3 3 2 1 2 1 2 2 3 2 3 3 3 2 1 3 2 1 3 3 1 0 1\n",
            " 3 3 1 0 0 3 1 3 2 3 3 3 1 2 4 1 2 3 3 2 2 3 3 3 0 1 3 3 0 0 3 3 4 4 2 3 3\n",
            " 1 2 3 3 3 0 3 3 0 0 3 0 2 2 0 1 2 4 0 1 3 1 2 0 3 2 3 4 1 0 0 1 1 2 2 3 3\n",
            " 1 2 3 3 3 3 3 0 2 3 3 2 1 3 4 2 3 2 3 3 0 3 2 1 3 0 1 3 4 3 4 2 2 1 4 0 4\n",
            " 0 2 3 2 3 2 4 1 3 3 1 3 3 4 1 2 1 3 2 3 3 2 3 2 0 3 3 1 3 1 3 0 3 1 3 3 3\n",
            " 3 3 3 1 4 1 4 1 3 3 3 3 3 3 3 3 3 3 1 3 3 2 0 3 1 2 3 4 3 3 3 3 2 2 2 1 1\n",
            " 3 3 2 3 2 1 4 3 1 1 2 1 1 3 3 3 1 3 0 4 2 3 1 1 3 1 3 3 3 3 3 3 2 4 3 2 4\n",
            " 0 3 2 2 3 3 0 3 3 0 1 3 3 1 3 3 3 3 1 3 1 1 3 3 3 3 3 3 3 3 3 1 3 1 3 3 3\n",
            " 3 3 1 1 3 3 1 0 1 3 1 3 1 3 3 3 1 3 3 3 3 3 1 3 1 1 3 3 1 3 3 3 3 1 3 3 3\n",
            " 3 3 3 0 3 1 1 1 3 3 3 1 3 2 2 2 0 4 0 0 3 2 2 4 1 3 3 1 3 1 3 3 2 1 2 1 1\n",
            " 1 1 1 0 3 3 3 3 3 1 3 1 3 1 3 1 3 1 1 1 3 1 1 3 0 4 4 2 2 4 3]\n",
            "centroids \n",
            " [[ 0.03739939 -0.11114011  0.32032708 -0.02814228 -0.17814545  0.92853082\n",
            "   1.25043944  1.04341006  0.65192151  0.92220514  1.40555306 -0.06685554\n",
            "   0.02256044 -0.00315218 -0.15532734  0.07882643  1.15049725  1.02077952\n",
            "   0.70787503  0.33033076  1.06908955  0.01512125  0.5575891   0.10641571\n",
            "  -0.07916034  1.1022385   1.56550994  1.45203144  0.99585477  1.18468351\n",
            "   1.80233918]\n",
            " [-0.03997588 -0.82866406 -0.17012298 -0.8095257  -0.74601724  0.30496542\n",
            "  -0.19625977 -0.42337148 -0.50099982  0.16096891  0.54328643 -0.29782564\n",
            "   0.5018829  -0.28134764 -0.41642038  0.98107213  0.1517998   0.00442934\n",
            "   0.07294433  0.38122411  0.35138865 -0.8120581  -0.22722397 -0.78977893\n",
            "  -0.71676021  0.19075015 -0.34729808 -0.47070618 -0.57409385 -0.24706605\n",
            "   0.01606585]\n",
            " [-0.02510858  1.23406945  0.41634405  1.19745955  1.19512134  0.1112883\n",
            "   0.31210506  0.61494992  0.88496606  0.11063104 -0.70131813  0.80289737\n",
            "  -0.17909558  0.68658937  0.80837739 -0.24555552 -0.00526657  0.0930046\n",
            "   0.40841914 -0.19587971 -0.22384858  1.26745602  0.41306613  1.201357\n",
            "   1.20667468  0.24123191  0.27733101  0.50648466  0.88459145  0.21811189\n",
            "  -0.2005908 ]\n",
            " [ 0.03652024 -0.34352479 -0.28510603 -0.37687906 -0.37868161 -0.6244957\n",
            "  -0.69453899 -0.66489257 -0.64363288 -0.55693414 -0.48730535 -0.50960871\n",
            "  -0.24887723 -0.51635569 -0.44310315 -0.45379776 -0.59287306 -0.4733546\n",
            "  -0.59568339 -0.31290003 -0.49918687 -0.40795219 -0.29245128 -0.43757217\n",
            "  -0.42932649 -0.59249144 -0.58157344 -0.59690263 -0.61527094 -0.39831828\n",
            "  -0.54100197]\n",
            " [-0.10439367  2.05017986  0.75839518  2.13697881  2.21449615  0.99319551\n",
            "   1.99550811  2.18400973  2.34767613  1.05006943  0.47450378  2.32716175\n",
            "   0.31965002  2.48227863  2.43938814  0.1087482   1.17727178  0.90257344\n",
            "   1.24059456  0.60306489  0.61815854  2.09406627  0.57607452  2.20354258\n",
            "   2.23240988  0.54303144  1.30486489  1.44982602  1.79865695  0.65657348\n",
            "   0.60650244]]\n",
            "-------------------------------------------------------\n",
            "cluster center shape \n",
            " (5, 31)\n",
            "-------------------------------------------------------\n",
            "-------------------------------------------------------\n",
            "clusters \n",
            " [4 2 0 3 1]\n",
            "-------------------------------------------------------\n",
            "number of samples per cluster \n",
            " Counter({3: 218, 1: 113, 2: 84, 0: 62, 4: 35})\n",
            "-------------------------------------------------------\n",
            "---------ytest--------------\n",
            "-------------------------------------------------------\n",
            "Closest Clusters: \n",
            " [2 0 4 0 2 3 4 0 2 2 0 2 2 2 2 2 2 4 4 3 3 3 1 0 3 3 3 3 3 0 3 2 1 3 3 3 3\n",
            " 3 1 3 3 1 0 0 1 1 3 1 3 3 1 1 1 1 3 1 1]\n",
            "-------------------------------------------------------\n",
            "Accuracy: [1.         1.         0.66666667 0.66666667 0.83333333 1.\n",
            " 1.         1.         1.         1.        ]\n",
            "Precision: [1.         1.         0.5        0.66666667 1.         1.\n",
            " 1.         1.         1.         1.        ]\n",
            "Recall: [1.  1.  0.5 1.  0.5 1.  1.  1.  1.  1. ]\n",
            "F1 Score: [1.         1.         0.5        0.8        0.66666667 1.\n",
            " 1.         1.         1.         1.        ]\n",
            "Average Accuracy: 0.92 (+/- 0.27)\n",
            "Average Precision: 0.92 (+/- 0.34)\n",
            "Average Recall: 0.90 (+/- 0.40)\n",
            "Average F1 Score: 0.90 (+/- 0.34)\n",
            "-------------------------------------------------------\n",
            "Begin process\n",
            "-------------------------------------------------------\n"
          ],
          "name": "stdout"
        },
        {
          "output_type": "display_data",
          "data": {
            "image/png": "[encoded data removed]",
            "text/plain": [
              "<Figure size 432x288 with 1 Axes>"
            ]
          },
          "metadata": {
            "tags": [],
            "needs_background": "light"
          }
        },
        {
          "output_type": "display_data",
          "data": {
            "image/png": "[encoded data removed]",
            "text/plain": [
              "<Figure size 432x288 with 1 Axes>"
            ]
          },
          "metadata": {
            "tags": [],
            "needs_background": "light"
          }
        },
        {
          "output_type": "display_data",
          "data": {
            "image/png": "[encoded data removed]",
            "text/plain": [
              "<Figure size 432x288 with 1 Axes>"
            ]
          },
          "metadata": {
            "tags": [],
            "needs_background": "light"
          }
        },
        {
          "output_type": "stream",
          "text": [
            "range(2, 10) range(2, 10) range(2, 10) range(2, 10) range(2, 10) range(2, 10) range(2, 10) range(2, 10) -------------------------------------------------------\n",
            "-----------ytrain-------------\n",
            "-------------------------------------------------------\n",
            "Closest Clusters: \n",
            " [0 4 4 2 4 2 4 2 2 2 3 4 0 4 2 2 4 4 4 1 1 1 2 4 4 0 2 4 4 4 0 2 4 4 4 4 4\n",
            " 3 3 4 3 1 0 4 3 4 1 2 1 3 3 3 3 4 3 1 4 4 3 1 1 1 2 1 4 4 1 3 2 3 4 2 4 1\n",
            " 3 4 1 0 0 3 1 2 0 4 1 4 4 4 1 1 3 4 3 3 4 4 1 1 1 1 3 1 3 1 1 2 1 3 0 1 1\n",
            " 1 2 1 1 1 1 4 2 4 1 4 0 1 3 3 3 4 1 4 1 4 4 3 4 3 3 3 4 1 1 4 1 3 3 1 2 1\n",
            " 3 3 1 2 2 1 1 3 4 3 3 3 1 4 0 1 4 3 3 4 4 3 1 3 4 1 3 1 2 4 3 3 0 0 4 3 3\n",
            " 1 4 3 1 3 2 3 3 2 2 3 2 4 4 4 1 4 0 2 1 3 1 4 1 3 4 3 0 2 2 2 1 1 4 4 3 1\n",
            " 1 4 3 3 1 3 3 2 4 3 3 4 1 3 0 4 3 4 3 3 2 3 4 1 3 2 1 1 0 3 0 4 4 1 0 2 0\n",
            " 4 4 3 4 3 4 0 1 3 3 1 3 1 0 1 4 1 3 4 3 3 4 1 4 4 3 3 1 3 2 1 2 3 1 3 3 3\n",
            " 3 3 3 1 0 1 0 1 3 3 3 3 3 3 3 3 3 3 1 3 3 4 2 3 1 4 1 0 3 3 3 3 4 4 4 1 1\n",
            " 3 3 4 1 4 1 0 1 1 1 4 1 1 3 3 1 1 3 2 0 4 3 1 1 3 1 1 3 3 3 3 3 4 0 3 0 0\n",
            " 4 3 4 4 3 1 2 3 3 2 1 3 3 1 3 3 3 3 2 4 1 1 4 0 1 3 1 3 3 3 2 3 3 3 3 1 3\n",
            " 3 4 3 3 1 3 3 3 1 1 0 3 3 1 2 1 3 1 3 1 1 3 3 2 1 4 4 3 4 3 3 3 3 1 4 3 1\n",
            " 4 1 4 3 3 4 1 4 3 1 3 3 1 3 3 3 4 0 3 3 3 2 3 1 0 1 1 3 3 3 1 3 3 3 1 2 3\n",
            " 3 1 3 1 2 3 4 1 3 3 3 3 3 1 3 3 1 2 2 1 1 3 1 3 3 1 1 1 1 3 1 1]\n",
            "centroids \n",
            " [[ 0.08033665  2.0305782   0.79240051  2.11859319  2.2092967   0.8789542\n",
            "   1.92142907  2.12318854  2.28257439  1.09803089  0.40427568  2.43480146\n",
            "   0.3490194   2.50466577  2.49874167  0.11426139  1.16192962  0.91618558\n",
            "   1.18276145  0.56370488  0.58440927  2.14995609  0.62678067  2.23901855\n",
            "   2.32754176  0.50296634  1.29336695  1.44725315  1.77056926  0.67502369\n",
            "   0.59848125]\n",
            " [-0.07070936 -0.77582217 -0.43143257 -0.76254382 -0.70811825  0.36968695\n",
            "  -0.24056408 -0.4971094  -0.50740955  0.14248025  0.43229425 -0.38202115\n",
            "   0.12973981 -0.37133246 -0.42033959  0.54574075 -0.1556672  -0.20872577\n",
            "  -0.17355255  0.26312761  0.04535478 -0.75849057 -0.44283557 -0.74699564\n",
            "  -0.6773216   0.23941861 -0.36988447 -0.49609556 -0.54693245 -0.11333326\n",
            "  -0.01083675]\n",
            " [ 0.14967114 -0.34984721  0.11726464 -0.24940365 -0.36279862  0.88235855\n",
            "   1.36986969  1.11594722  0.54807375  1.05865103  1.73550183 -0.0125332\n",
            "   0.23719117  0.08250327 -0.17212078  0.728587    1.71769469  1.51596695\n",
            "   1.18176022  0.62589934  1.71755003 -0.27034393  0.22176142 -0.15686929\n",
            "  -0.30938339  0.92618237  1.49440708  1.4064284   0.79294877  0.94445689\n",
            "   1.84354312]\n",
            " [-0.03869906 -0.29968544 -0.18220335 -0.34081486 -0.33882719 -0.80057688\n",
            "  -0.76495439 -0.6886713  -0.68745147 -0.6659348  -0.59267597 -0.47083776\n",
            "  -0.17009435 -0.47884081 -0.38806306 -0.51222736 -0.58526203 -0.48122546\n",
            "  -0.62274572 -0.34945987 -0.50887583 -0.378407   -0.18979922 -0.41163065\n",
            "  -0.40006883 -0.76354291 -0.62140151 -0.63282909 -0.66662454 -0.49454506\n",
            "  -0.61973753]\n",
            " [ 0.06403631  1.03372074  0.56596009  1.01374212  0.96321864  0.22401786\n",
            "   0.39497386  0.64612582  0.86670931  0.13391321 -0.4560422   0.53882973\n",
            "  -0.09276323  0.47316012  0.49789935 -0.18818516  0.05684956  0.1158708\n",
            "   0.38353337 -0.20090251 -0.15090464  1.07313401  0.598573    1.03548628\n",
            "   0.96735029  0.42740072  0.45610199  0.63002777  0.9322278   0.35422087\n",
            "   0.05107421]]\n",
            "-------------------------------------------------------\n",
            "cluster center shape \n",
            " (5, 31)\n",
            "-------------------------------------------------------\n",
            "-------------------------------------------------------\n",
            "clusters \n",
            " [0 4 2 3 1]\n",
            "-------------------------------------------------------\n",
            "number of samples per cluster \n",
            " Counter({3: 185, 1: 138, 4: 107, 2: 49, 0: 34})\n",
            "-------------------------------------------------------\n",
            "---------ytest--------------\n",
            "-------------------------------------------------------\n",
            "Closest Clusters: \n",
            " [3 4 4 4 2 0 2 2 3 4 4 0 1 1 3 1 1 1 1 3 4 1 4 4 1 1 2 1 4 3 3 3 3 3 1 3 1\n",
            " 3 1 3 1 3 1 1 3 3 1 3 3 2 0 0 4 4 0 3]\n",
            "-------------------------------------------------------\n",
            "Accuracy: [0.83333333 1.         1.         0.83333333 1.         1.\n",
            " 0.8        1.         1.         1.        ]\n",
            "Precision: [1.         1.         1.         0.66666667 1.         1.\n",
            " 1.         1.         1.         1.        ]\n",
            "Recall: [0.66666667 1.         1.         1.         1.         1.\n",
            " 0.5        1.         1.         1.        ]\n",
            "F1 Score: [0.8        1.         1.         0.8        1.         1.\n",
            " 0.66666667 1.         1.         1.        ]\n",
            "Average Accuracy: 0.95 (+/- 0.16)\n",
            "Average Precision: 0.97 (+/- 0.20)\n",
            "Average Recall: 0.92 (+/- 0.34)\n",
            "Average F1 Score: 0.93 (+/- 0.23)\n",
            "-------------------------------------------------------\n"
          ],
          "name": "stdout"
        },
        {
          "output_type": "display_data",
          "data": {
            "image/png": "[encoded data removed]",
            "text/plain": [
              "<Figure size 432x288 with 1 Axes>"
            ]
          },
          "metadata": {
            "tags": [],
            "needs_background": "light"
          }
        },
        {
          "output_type": "display_data",
          "data": {
            "image/png": "[encoded data removed]",
            "text/plain": [
              "<Figure size 432x288 with 1 Axes>"
            ]
          },
          "metadata": {
            "tags": [],
            "needs_background": "light"
          }
        }
      ]
    }
  ]
}